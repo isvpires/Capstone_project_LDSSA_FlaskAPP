{
 "metadata": {
  "language_info": {
   "codemirror_mode": {
    "name": "ipython",
    "version": 3
   },
   "file_extension": ".py",
   "mimetype": "text/x-python",
   "name": "python",
   "nbconvert_exporter": "python",
   "pygments_lexer": "ipython3",
   "version": "3.8.7-final"
  },
  "orig_nbformat": 2,
  "kernelspec": {
   "name": "python3",
   "display_name": "Python 3.8.7 64-bit",
   "metadata": {
    "interpreter": {
     "hash": "159b2715d1f8ca6549e90d6137a3140315700a939be49a7c4bb070e3c92e1a4f"
    }
   }
  }
 },
 "nbformat": 4,
 "nbformat_minor": 2,
 "cells": [
  {
   "cell_type": "code",
   "execution_count": 2,
   "metadata": {},
   "outputs": [],
   "source": [
    "import os\n",
    "import json\n",
    "import pickle\n",
    "import joblib\n",
    "import pandas as pd\n",
    "from flask import Flask, jsonify, request\n",
    "from peewee import (\n",
    "    Model, IntegerField, FloatField,\n",
    "    TextField, IntegrityError,BooleanField\n",
    ")\n",
    "from playhouse.shortcuts import model_to_dict\n",
    "from playhouse.db_url import connect\n",
    "\n",
    "import requests\n",
    "from numpy import nan\n",
    "import numpy as np"
   ]
  },
  {
   "cell_type": "code",
   "execution_count": 3,
   "metadata": {},
   "outputs": [],
   "source": [
    "observation_request  = {'observation_id' : '87070' ,\n",
    "'Type' : 'Person search' ,\n",
    "'Date' : '2018-01-01T00:25:00+00:00' ,\n",
    "'Part of a policing operation' : True ,\n",
    "'Latitude' : None,\n",
    "'Longitude' : nan ,\n",
    "'Gender' : 'Male' ,\n",
    "'Age range' : '18-24' ,\n",
    "'Officer-defined ethnicity' : 'White' ,\n",
    "'Legislation' : 'Misuse of Drugs Act 1971 (section 23)' ,\n",
    "'Object of search' : 'Controlled drugs' ,\n",
    "'station' : 'devon-and-cornwall'}"
   ]
  },
  {
   "cell_type": "code",
   "execution_count": 4,
   "metadata": {},
   "outputs": [
    {
     "output_type": "error",
     "ename": "ConnectionError",
     "evalue": "HTTPConnectionPool(host='127.0.0.1', port=5000): Max retries exceeded with url: /should_search/ (Caused by NewConnectionError('<urllib3.connection.HTTPConnection object at 0x0000021A7FF69E80>: Failed to establish a new connection: [WinError 10061] No connection could be made because the target machine actively refused it'))",
     "traceback": [
      "\u001b[1;31m---------------------------------------------------------------------------\u001b[0m",
      "\u001b[1;31mConnectionRefusedError\u001b[0m                    Traceback (most recent call last)",
      "\u001b[1;32mc:\\Users\\Inês Pires\\environments\\blu_dev\\lib\\site-packages\\urllib3\\connection.py\u001b[0m in \u001b[0;36m_new_conn\u001b[1;34m(self)\u001b[0m\n\u001b[0;32m    158\u001b[0m         \u001b[1;32mtry\u001b[0m\u001b[1;33m:\u001b[0m\u001b[1;33m\u001b[0m\u001b[1;33m\u001b[0m\u001b[0m\n\u001b[1;32m--> 159\u001b[1;33m             conn = connection.create_connection(\n\u001b[0m\u001b[0;32m    160\u001b[0m                 \u001b[1;33m(\u001b[0m\u001b[0mself\u001b[0m\u001b[1;33m.\u001b[0m\u001b[0m_dns_host\u001b[0m\u001b[1;33m,\u001b[0m \u001b[0mself\u001b[0m\u001b[1;33m.\u001b[0m\u001b[0mport\u001b[0m\u001b[1;33m)\u001b[0m\u001b[1;33m,\u001b[0m \u001b[0mself\u001b[0m\u001b[1;33m.\u001b[0m\u001b[0mtimeout\u001b[0m\u001b[1;33m,\u001b[0m \u001b[1;33m**\u001b[0m\u001b[0mextra_kw\u001b[0m\u001b[1;33m\u001b[0m\u001b[1;33m\u001b[0m\u001b[0m\n",
      "\u001b[1;32mc:\\Users\\Inês Pires\\environments\\blu_dev\\lib\\site-packages\\urllib3\\util\\connection.py\u001b[0m in \u001b[0;36mcreate_connection\u001b[1;34m(address, timeout, source_address, socket_options)\u001b[0m\n\u001b[0;32m     83\u001b[0m     \u001b[1;32mif\u001b[0m \u001b[0merr\u001b[0m \u001b[1;32mis\u001b[0m \u001b[1;32mnot\u001b[0m \u001b[1;32mNone\u001b[0m\u001b[1;33m:\u001b[0m\u001b[1;33m\u001b[0m\u001b[1;33m\u001b[0m\u001b[0m\n\u001b[1;32m---> 84\u001b[1;33m         \u001b[1;32mraise\u001b[0m \u001b[0merr\u001b[0m\u001b[1;33m\u001b[0m\u001b[1;33m\u001b[0m\u001b[0m\n\u001b[0m\u001b[0;32m     85\u001b[0m \u001b[1;33m\u001b[0m\u001b[0m\n",
      "\u001b[1;32mc:\\Users\\Inês Pires\\environments\\blu_dev\\lib\\site-packages\\urllib3\\util\\connection.py\u001b[0m in \u001b[0;36mcreate_connection\u001b[1;34m(address, timeout, source_address, socket_options)\u001b[0m\n\u001b[0;32m     73\u001b[0m                 \u001b[0msock\u001b[0m\u001b[1;33m.\u001b[0m\u001b[0mbind\u001b[0m\u001b[1;33m(\u001b[0m\u001b[0msource_address\u001b[0m\u001b[1;33m)\u001b[0m\u001b[1;33m\u001b[0m\u001b[1;33m\u001b[0m\u001b[0m\n\u001b[1;32m---> 74\u001b[1;33m             \u001b[0msock\u001b[0m\u001b[1;33m.\u001b[0m\u001b[0mconnect\u001b[0m\u001b[1;33m(\u001b[0m\u001b[0msa\u001b[0m\u001b[1;33m)\u001b[0m\u001b[1;33m\u001b[0m\u001b[1;33m\u001b[0m\u001b[0m\n\u001b[0m\u001b[0;32m     75\u001b[0m             \u001b[1;32mreturn\u001b[0m \u001b[0msock\u001b[0m\u001b[1;33m\u001b[0m\u001b[1;33m\u001b[0m\u001b[0m\n",
      "\u001b[1;31mConnectionRefusedError\u001b[0m: [WinError 10061] No connection could be made because the target machine actively refused it",
      "\nDuring handling of the above exception, another exception occurred:\n",
      "\u001b[1;31mNewConnectionError\u001b[0m                        Traceback (most recent call last)",
      "\u001b[1;32mc:\\Users\\Inês Pires\\environments\\blu_dev\\lib\\site-packages\\urllib3\\connectionpool.py\u001b[0m in \u001b[0;36murlopen\u001b[1;34m(self, method, url, body, headers, retries, redirect, assert_same_host, timeout, pool_timeout, release_conn, chunked, body_pos, **response_kw)\u001b[0m\n\u001b[0;32m    669\u001b[0m             \u001b[1;31m# Make the request on the httplib connection object.\u001b[0m\u001b[1;33m\u001b[0m\u001b[1;33m\u001b[0m\u001b[1;33m\u001b[0m\u001b[0m\n\u001b[1;32m--> 670\u001b[1;33m             httplib_response = self._make_request(\n\u001b[0m\u001b[0;32m    671\u001b[0m                 \u001b[0mconn\u001b[0m\u001b[1;33m,\u001b[0m\u001b[1;33m\u001b[0m\u001b[1;33m\u001b[0m\u001b[0m\n",
      "\u001b[1;32mc:\\Users\\Inês Pires\\environments\\blu_dev\\lib\\site-packages\\urllib3\\connectionpool.py\u001b[0m in \u001b[0;36m_make_request\u001b[1;34m(self, conn, method, url, timeout, chunked, **httplib_request_kw)\u001b[0m\n\u001b[0;32m    391\u001b[0m         \u001b[1;32melse\u001b[0m\u001b[1;33m:\u001b[0m\u001b[1;33m\u001b[0m\u001b[1;33m\u001b[0m\u001b[0m\n\u001b[1;32m--> 392\u001b[1;33m             \u001b[0mconn\u001b[0m\u001b[1;33m.\u001b[0m\u001b[0mrequest\u001b[0m\u001b[1;33m(\u001b[0m\u001b[0mmethod\u001b[0m\u001b[1;33m,\u001b[0m \u001b[0murl\u001b[0m\u001b[1;33m,\u001b[0m \u001b[1;33m**\u001b[0m\u001b[0mhttplib_request_kw\u001b[0m\u001b[1;33m)\u001b[0m\u001b[1;33m\u001b[0m\u001b[1;33m\u001b[0m\u001b[0m\n\u001b[0m\u001b[0;32m    393\u001b[0m \u001b[1;33m\u001b[0m\u001b[0m\n",
      "\u001b[1;32mC:\\Program Files\\WindowsApps\\PythonSoftwareFoundation.Python.3.8_3.8.2032.0_x64__qbz5n2kfra8p0\\lib\\http\\client.py\u001b[0m in \u001b[0;36mrequest\u001b[1;34m(self, method, url, body, headers, encode_chunked)\u001b[0m\n\u001b[0;32m   1254\u001b[0m         \u001b[1;34m\"\"\"Send a complete request to the server.\"\"\"\u001b[0m\u001b[1;33m\u001b[0m\u001b[1;33m\u001b[0m\u001b[0m\n\u001b[1;32m-> 1255\u001b[1;33m         \u001b[0mself\u001b[0m\u001b[1;33m.\u001b[0m\u001b[0m_send_request\u001b[0m\u001b[1;33m(\u001b[0m\u001b[0mmethod\u001b[0m\u001b[1;33m,\u001b[0m \u001b[0murl\u001b[0m\u001b[1;33m,\u001b[0m \u001b[0mbody\u001b[0m\u001b[1;33m,\u001b[0m \u001b[0mheaders\u001b[0m\u001b[1;33m,\u001b[0m \u001b[0mencode_chunked\u001b[0m\u001b[1;33m)\u001b[0m\u001b[1;33m\u001b[0m\u001b[1;33m\u001b[0m\u001b[0m\n\u001b[0m\u001b[0;32m   1256\u001b[0m \u001b[1;33m\u001b[0m\u001b[0m\n",
      "\u001b[1;32mC:\\Program Files\\WindowsApps\\PythonSoftwareFoundation.Python.3.8_3.8.2032.0_x64__qbz5n2kfra8p0\\lib\\http\\client.py\u001b[0m in \u001b[0;36m_send_request\u001b[1;34m(self, method, url, body, headers, encode_chunked)\u001b[0m\n\u001b[0;32m   1300\u001b[0m             \u001b[0mbody\u001b[0m \u001b[1;33m=\u001b[0m \u001b[0m_encode\u001b[0m\u001b[1;33m(\u001b[0m\u001b[0mbody\u001b[0m\u001b[1;33m,\u001b[0m \u001b[1;34m'body'\u001b[0m\u001b[1;33m)\u001b[0m\u001b[1;33m\u001b[0m\u001b[1;33m\u001b[0m\u001b[0m\n\u001b[1;32m-> 1301\u001b[1;33m         \u001b[0mself\u001b[0m\u001b[1;33m.\u001b[0m\u001b[0mendheaders\u001b[0m\u001b[1;33m(\u001b[0m\u001b[0mbody\u001b[0m\u001b[1;33m,\u001b[0m \u001b[0mencode_chunked\u001b[0m\u001b[1;33m=\u001b[0m\u001b[0mencode_chunked\u001b[0m\u001b[1;33m)\u001b[0m\u001b[1;33m\u001b[0m\u001b[1;33m\u001b[0m\u001b[0m\n\u001b[0m\u001b[0;32m   1302\u001b[0m \u001b[1;33m\u001b[0m\u001b[0m\n",
      "\u001b[1;32mC:\\Program Files\\WindowsApps\\PythonSoftwareFoundation.Python.3.8_3.8.2032.0_x64__qbz5n2kfra8p0\\lib\\http\\client.py\u001b[0m in \u001b[0;36mendheaders\u001b[1;34m(self, message_body, encode_chunked)\u001b[0m\n\u001b[0;32m   1249\u001b[0m             \u001b[1;32mraise\u001b[0m \u001b[0mCannotSendHeader\u001b[0m\u001b[1;33m(\u001b[0m\u001b[1;33m)\u001b[0m\u001b[1;33m\u001b[0m\u001b[1;33m\u001b[0m\u001b[0m\n\u001b[1;32m-> 1250\u001b[1;33m         \u001b[0mself\u001b[0m\u001b[1;33m.\u001b[0m\u001b[0m_send_output\u001b[0m\u001b[1;33m(\u001b[0m\u001b[0mmessage_body\u001b[0m\u001b[1;33m,\u001b[0m \u001b[0mencode_chunked\u001b[0m\u001b[1;33m=\u001b[0m\u001b[0mencode_chunked\u001b[0m\u001b[1;33m)\u001b[0m\u001b[1;33m\u001b[0m\u001b[1;33m\u001b[0m\u001b[0m\n\u001b[0m\u001b[0;32m   1251\u001b[0m \u001b[1;33m\u001b[0m\u001b[0m\n",
      "\u001b[1;32mC:\\Program Files\\WindowsApps\\PythonSoftwareFoundation.Python.3.8_3.8.2032.0_x64__qbz5n2kfra8p0\\lib\\http\\client.py\u001b[0m in \u001b[0;36m_send_output\u001b[1;34m(self, message_body, encode_chunked)\u001b[0m\n\u001b[0;32m   1009\u001b[0m         \u001b[1;32mdel\u001b[0m \u001b[0mself\u001b[0m\u001b[1;33m.\u001b[0m\u001b[0m_buffer\u001b[0m\u001b[1;33m[\u001b[0m\u001b[1;33m:\u001b[0m\u001b[1;33m]\u001b[0m\u001b[1;33m\u001b[0m\u001b[1;33m\u001b[0m\u001b[0m\n\u001b[1;32m-> 1010\u001b[1;33m         \u001b[0mself\u001b[0m\u001b[1;33m.\u001b[0m\u001b[0msend\u001b[0m\u001b[1;33m(\u001b[0m\u001b[0mmsg\u001b[0m\u001b[1;33m)\u001b[0m\u001b[1;33m\u001b[0m\u001b[1;33m\u001b[0m\u001b[0m\n\u001b[0m\u001b[0;32m   1011\u001b[0m \u001b[1;33m\u001b[0m\u001b[0m\n",
      "\u001b[1;32mC:\\Program Files\\WindowsApps\\PythonSoftwareFoundation.Python.3.8_3.8.2032.0_x64__qbz5n2kfra8p0\\lib\\http\\client.py\u001b[0m in \u001b[0;36msend\u001b[1;34m(self, data)\u001b[0m\n\u001b[0;32m    949\u001b[0m             \u001b[1;32mif\u001b[0m \u001b[0mself\u001b[0m\u001b[1;33m.\u001b[0m\u001b[0mauto_open\u001b[0m\u001b[1;33m:\u001b[0m\u001b[1;33m\u001b[0m\u001b[1;33m\u001b[0m\u001b[0m\n\u001b[1;32m--> 950\u001b[1;33m                 \u001b[0mself\u001b[0m\u001b[1;33m.\u001b[0m\u001b[0mconnect\u001b[0m\u001b[1;33m(\u001b[0m\u001b[1;33m)\u001b[0m\u001b[1;33m\u001b[0m\u001b[1;33m\u001b[0m\u001b[0m\n\u001b[0m\u001b[0;32m    951\u001b[0m             \u001b[1;32melse\u001b[0m\u001b[1;33m:\u001b[0m\u001b[1;33m\u001b[0m\u001b[1;33m\u001b[0m\u001b[0m\n",
      "\u001b[1;32mc:\\Users\\Inês Pires\\environments\\blu_dev\\lib\\site-packages\\urllib3\\connection.py\u001b[0m in \u001b[0;36mconnect\u001b[1;34m(self)\u001b[0m\n\u001b[0;32m    186\u001b[0m     \u001b[1;32mdef\u001b[0m \u001b[0mconnect\u001b[0m\u001b[1;33m(\u001b[0m\u001b[0mself\u001b[0m\u001b[1;33m)\u001b[0m\u001b[1;33m:\u001b[0m\u001b[1;33m\u001b[0m\u001b[1;33m\u001b[0m\u001b[0m\n\u001b[1;32m--> 187\u001b[1;33m         \u001b[0mconn\u001b[0m \u001b[1;33m=\u001b[0m \u001b[0mself\u001b[0m\u001b[1;33m.\u001b[0m\u001b[0m_new_conn\u001b[0m\u001b[1;33m(\u001b[0m\u001b[1;33m)\u001b[0m\u001b[1;33m\u001b[0m\u001b[1;33m\u001b[0m\u001b[0m\n\u001b[0m\u001b[0;32m    188\u001b[0m         \u001b[0mself\u001b[0m\u001b[1;33m.\u001b[0m\u001b[0m_prepare_conn\u001b[0m\u001b[1;33m(\u001b[0m\u001b[0mconn\u001b[0m\u001b[1;33m)\u001b[0m\u001b[1;33m\u001b[0m\u001b[1;33m\u001b[0m\u001b[0m\n",
      "\u001b[1;32mc:\\Users\\Inês Pires\\environments\\blu_dev\\lib\\site-packages\\urllib3\\connection.py\u001b[0m in \u001b[0;36m_new_conn\u001b[1;34m(self)\u001b[0m\n\u001b[0;32m    170\u001b[0m         \u001b[1;32mexcept\u001b[0m \u001b[0mSocketError\u001b[0m \u001b[1;32mas\u001b[0m \u001b[0me\u001b[0m\u001b[1;33m:\u001b[0m\u001b[1;33m\u001b[0m\u001b[1;33m\u001b[0m\u001b[0m\n\u001b[1;32m--> 171\u001b[1;33m             raise NewConnectionError(\n\u001b[0m\u001b[0;32m    172\u001b[0m                 \u001b[0mself\u001b[0m\u001b[1;33m,\u001b[0m \u001b[1;34m\"Failed to establish a new connection: %s\"\u001b[0m \u001b[1;33m%\u001b[0m \u001b[0me\u001b[0m\u001b[1;33m\u001b[0m\u001b[1;33m\u001b[0m\u001b[0m\n",
      "\u001b[1;31mNewConnectionError\u001b[0m: <urllib3.connection.HTTPConnection object at 0x0000021A7FF69E80>: Failed to establish a new connection: [WinError 10061] No connection could be made because the target machine actively refused it",
      "\nDuring handling of the above exception, another exception occurred:\n",
      "\u001b[1;31mMaxRetryError\u001b[0m                             Traceback (most recent call last)",
      "\u001b[1;32mc:\\Users\\Inês Pires\\environments\\blu_dev\\lib\\site-packages\\requests\\adapters.py\u001b[0m in \u001b[0;36msend\u001b[1;34m(self, request, stream, timeout, verify, cert, proxies)\u001b[0m\n\u001b[0;32m    438\u001b[0m             \u001b[1;32mif\u001b[0m \u001b[1;32mnot\u001b[0m \u001b[0mchunked\u001b[0m\u001b[1;33m:\u001b[0m\u001b[1;33m\u001b[0m\u001b[1;33m\u001b[0m\u001b[0m\n\u001b[1;32m--> 439\u001b[1;33m                 resp = conn.urlopen(\n\u001b[0m\u001b[0;32m    440\u001b[0m                     \u001b[0mmethod\u001b[0m\u001b[1;33m=\u001b[0m\u001b[0mrequest\u001b[0m\u001b[1;33m.\u001b[0m\u001b[0mmethod\u001b[0m\u001b[1;33m,\u001b[0m\u001b[1;33m\u001b[0m\u001b[1;33m\u001b[0m\u001b[0m\n",
      "\u001b[1;32mc:\\Users\\Inês Pires\\environments\\blu_dev\\lib\\site-packages\\urllib3\\connectionpool.py\u001b[0m in \u001b[0;36murlopen\u001b[1;34m(self, method, url, body, headers, retries, redirect, assert_same_host, timeout, pool_timeout, release_conn, chunked, body_pos, **response_kw)\u001b[0m\n\u001b[0;32m    725\u001b[0m \u001b[1;33m\u001b[0m\u001b[0m\n\u001b[1;32m--> 726\u001b[1;33m             retries = retries.increment(\n\u001b[0m\u001b[0;32m    727\u001b[0m                 \u001b[0mmethod\u001b[0m\u001b[1;33m,\u001b[0m \u001b[0murl\u001b[0m\u001b[1;33m,\u001b[0m \u001b[0merror\u001b[0m\u001b[1;33m=\u001b[0m\u001b[0me\u001b[0m\u001b[1;33m,\u001b[0m \u001b[0m_pool\u001b[0m\u001b[1;33m=\u001b[0m\u001b[0mself\u001b[0m\u001b[1;33m,\u001b[0m \u001b[0m_stacktrace\u001b[0m\u001b[1;33m=\u001b[0m\u001b[0msys\u001b[0m\u001b[1;33m.\u001b[0m\u001b[0mexc_info\u001b[0m\u001b[1;33m(\u001b[0m\u001b[1;33m)\u001b[0m\u001b[1;33m[\u001b[0m\u001b[1;36m2\u001b[0m\u001b[1;33m]\u001b[0m\u001b[1;33m\u001b[0m\u001b[1;33m\u001b[0m\u001b[0m\n",
      "\u001b[1;32mc:\\Users\\Inês Pires\\environments\\blu_dev\\lib\\site-packages\\urllib3\\util\\retry.py\u001b[0m in \u001b[0;36mincrement\u001b[1;34m(self, method, url, response, error, _pool, _stacktrace)\u001b[0m\n\u001b[0;32m    445\u001b[0m         \u001b[1;32mif\u001b[0m \u001b[0mnew_retry\u001b[0m\u001b[1;33m.\u001b[0m\u001b[0mis_exhausted\u001b[0m\u001b[1;33m(\u001b[0m\u001b[1;33m)\u001b[0m\u001b[1;33m:\u001b[0m\u001b[1;33m\u001b[0m\u001b[1;33m\u001b[0m\u001b[0m\n\u001b[1;32m--> 446\u001b[1;33m             \u001b[1;32mraise\u001b[0m \u001b[0mMaxRetryError\u001b[0m\u001b[1;33m(\u001b[0m\u001b[0m_pool\u001b[0m\u001b[1;33m,\u001b[0m \u001b[0murl\u001b[0m\u001b[1;33m,\u001b[0m \u001b[0merror\u001b[0m \u001b[1;32mor\u001b[0m \u001b[0mResponseError\u001b[0m\u001b[1;33m(\u001b[0m\u001b[0mcause\u001b[0m\u001b[1;33m)\u001b[0m\u001b[1;33m)\u001b[0m\u001b[1;33m\u001b[0m\u001b[1;33m\u001b[0m\u001b[0m\n\u001b[0m\u001b[0;32m    447\u001b[0m \u001b[1;33m\u001b[0m\u001b[0m\n",
      "\u001b[1;31mMaxRetryError\u001b[0m: HTTPConnectionPool(host='127.0.0.1', port=5000): Max retries exceeded with url: /should_search/ (Caused by NewConnectionError('<urllib3.connection.HTTPConnection object at 0x0000021A7FF69E80>: Failed to establish a new connection: [WinError 10061] No connection could be made because the target machine actively refused it'))",
      "\nDuring handling of the above exception, another exception occurred:\n",
      "\u001b[1;31mConnectionError\u001b[0m                           Traceback (most recent call last)",
      "\u001b[1;32m<ipython-input-4-1c857af04eb1>\u001b[0m in \u001b[0;36m<module>\u001b[1;34m\u001b[0m\n\u001b[0;32m      1\u001b[0m \u001b[0murl\u001b[0m \u001b[1;33m=\u001b[0m \u001b[1;34m'http://127.0.0.1:5000/should_search/'\u001b[0m\u001b[1;33m\u001b[0m\u001b[1;33m\u001b[0m\u001b[0m\n\u001b[1;32m----> 2\u001b[1;33m \u001b[0mr\u001b[0m \u001b[1;33m=\u001b[0m \u001b[0mrequests\u001b[0m\u001b[1;33m.\u001b[0m\u001b[0mpost\u001b[0m\u001b[1;33m(\u001b[0m\u001b[0murl\u001b[0m\u001b[1;33m,\u001b[0m \u001b[0mjson\u001b[0m\u001b[1;33m=\u001b[0m \u001b[0mobservation_request\u001b[0m\u001b[1;33m)\u001b[0m\u001b[1;33m\u001b[0m\u001b[1;33m\u001b[0m\u001b[0m\n\u001b[0m\u001b[0;32m      3\u001b[0m \u001b[0mr\u001b[0m\u001b[1;33m.\u001b[0m\u001b[0mok\u001b[0m\u001b[1;33m\u001b[0m\u001b[1;33m\u001b[0m\u001b[0m\n\u001b[0;32m      4\u001b[0m \u001b[1;33m\u001b[0m\u001b[0m\n\u001b[0;32m      5\u001b[0m \u001b[0mresponse\u001b[0m \u001b[1;33m=\u001b[0m \u001b[0mr\u001b[0m\u001b[1;33m.\u001b[0m\u001b[0mjson\u001b[0m\u001b[1;33m(\u001b[0m\u001b[1;33m)\u001b[0m\u001b[1;33m\u001b[0m\u001b[1;33m\u001b[0m\u001b[0m\n",
      "\u001b[1;32mc:\\Users\\Inês Pires\\environments\\blu_dev\\lib\\site-packages\\requests\\api.py\u001b[0m in \u001b[0;36mpost\u001b[1;34m(url, data, json, **kwargs)\u001b[0m\n\u001b[0;32m    117\u001b[0m     \"\"\"\n\u001b[0;32m    118\u001b[0m \u001b[1;33m\u001b[0m\u001b[0m\n\u001b[1;32m--> 119\u001b[1;33m     \u001b[1;32mreturn\u001b[0m \u001b[0mrequest\u001b[0m\u001b[1;33m(\u001b[0m\u001b[1;34m'post'\u001b[0m\u001b[1;33m,\u001b[0m \u001b[0murl\u001b[0m\u001b[1;33m,\u001b[0m \u001b[0mdata\u001b[0m\u001b[1;33m=\u001b[0m\u001b[0mdata\u001b[0m\u001b[1;33m,\u001b[0m \u001b[0mjson\u001b[0m\u001b[1;33m=\u001b[0m\u001b[0mjson\u001b[0m\u001b[1;33m,\u001b[0m \u001b[1;33m**\u001b[0m\u001b[0mkwargs\u001b[0m\u001b[1;33m)\u001b[0m\u001b[1;33m\u001b[0m\u001b[1;33m\u001b[0m\u001b[0m\n\u001b[0m\u001b[0;32m    120\u001b[0m \u001b[1;33m\u001b[0m\u001b[0m\n\u001b[0;32m    121\u001b[0m \u001b[1;33m\u001b[0m\u001b[0m\n",
      "\u001b[1;32mc:\\Users\\Inês Pires\\environments\\blu_dev\\lib\\site-packages\\requests\\api.py\u001b[0m in \u001b[0;36mrequest\u001b[1;34m(method, url, **kwargs)\u001b[0m\n\u001b[0;32m     59\u001b[0m     \u001b[1;31m# cases, and look like a memory leak in others.\u001b[0m\u001b[1;33m\u001b[0m\u001b[1;33m\u001b[0m\u001b[1;33m\u001b[0m\u001b[0m\n\u001b[0;32m     60\u001b[0m     \u001b[1;32mwith\u001b[0m \u001b[0msessions\u001b[0m\u001b[1;33m.\u001b[0m\u001b[0mSession\u001b[0m\u001b[1;33m(\u001b[0m\u001b[1;33m)\u001b[0m \u001b[1;32mas\u001b[0m \u001b[0msession\u001b[0m\u001b[1;33m:\u001b[0m\u001b[1;33m\u001b[0m\u001b[1;33m\u001b[0m\u001b[0m\n\u001b[1;32m---> 61\u001b[1;33m         \u001b[1;32mreturn\u001b[0m \u001b[0msession\u001b[0m\u001b[1;33m.\u001b[0m\u001b[0mrequest\u001b[0m\u001b[1;33m(\u001b[0m\u001b[0mmethod\u001b[0m\u001b[1;33m=\u001b[0m\u001b[0mmethod\u001b[0m\u001b[1;33m,\u001b[0m \u001b[0murl\u001b[0m\u001b[1;33m=\u001b[0m\u001b[0murl\u001b[0m\u001b[1;33m,\u001b[0m \u001b[1;33m**\u001b[0m\u001b[0mkwargs\u001b[0m\u001b[1;33m)\u001b[0m\u001b[1;33m\u001b[0m\u001b[1;33m\u001b[0m\u001b[0m\n\u001b[0m\u001b[0;32m     62\u001b[0m \u001b[1;33m\u001b[0m\u001b[0m\n\u001b[0;32m     63\u001b[0m \u001b[1;33m\u001b[0m\u001b[0m\n",
      "\u001b[1;32mc:\\Users\\Inês Pires\\environments\\blu_dev\\lib\\site-packages\\requests\\sessions.py\u001b[0m in \u001b[0;36mrequest\u001b[1;34m(self, method, url, params, data, headers, cookies, files, auth, timeout, allow_redirects, proxies, hooks, stream, verify, cert, json)\u001b[0m\n\u001b[0;32m    528\u001b[0m         }\n\u001b[0;32m    529\u001b[0m         \u001b[0msend_kwargs\u001b[0m\u001b[1;33m.\u001b[0m\u001b[0mupdate\u001b[0m\u001b[1;33m(\u001b[0m\u001b[0msettings\u001b[0m\u001b[1;33m)\u001b[0m\u001b[1;33m\u001b[0m\u001b[1;33m\u001b[0m\u001b[0m\n\u001b[1;32m--> 530\u001b[1;33m         \u001b[0mresp\u001b[0m \u001b[1;33m=\u001b[0m \u001b[0mself\u001b[0m\u001b[1;33m.\u001b[0m\u001b[0msend\u001b[0m\u001b[1;33m(\u001b[0m\u001b[0mprep\u001b[0m\u001b[1;33m,\u001b[0m \u001b[1;33m**\u001b[0m\u001b[0msend_kwargs\u001b[0m\u001b[1;33m)\u001b[0m\u001b[1;33m\u001b[0m\u001b[1;33m\u001b[0m\u001b[0m\n\u001b[0m\u001b[0;32m    531\u001b[0m \u001b[1;33m\u001b[0m\u001b[0m\n\u001b[0;32m    532\u001b[0m         \u001b[1;32mreturn\u001b[0m \u001b[0mresp\u001b[0m\u001b[1;33m\u001b[0m\u001b[1;33m\u001b[0m\u001b[0m\n",
      "\u001b[1;32mc:\\Users\\Inês Pires\\environments\\blu_dev\\lib\\site-packages\\requests\\sessions.py\u001b[0m in \u001b[0;36msend\u001b[1;34m(self, request, **kwargs)\u001b[0m\n\u001b[0;32m    641\u001b[0m \u001b[1;33m\u001b[0m\u001b[0m\n\u001b[0;32m    642\u001b[0m         \u001b[1;31m# Send the request\u001b[0m\u001b[1;33m\u001b[0m\u001b[1;33m\u001b[0m\u001b[1;33m\u001b[0m\u001b[0m\n\u001b[1;32m--> 643\u001b[1;33m         \u001b[0mr\u001b[0m \u001b[1;33m=\u001b[0m \u001b[0madapter\u001b[0m\u001b[1;33m.\u001b[0m\u001b[0msend\u001b[0m\u001b[1;33m(\u001b[0m\u001b[0mrequest\u001b[0m\u001b[1;33m,\u001b[0m \u001b[1;33m**\u001b[0m\u001b[0mkwargs\u001b[0m\u001b[1;33m)\u001b[0m\u001b[1;33m\u001b[0m\u001b[1;33m\u001b[0m\u001b[0m\n\u001b[0m\u001b[0;32m    644\u001b[0m \u001b[1;33m\u001b[0m\u001b[0m\n\u001b[0;32m    645\u001b[0m         \u001b[1;31m# Total elapsed time of the request (approximately)\u001b[0m\u001b[1;33m\u001b[0m\u001b[1;33m\u001b[0m\u001b[1;33m\u001b[0m\u001b[0m\n",
      "\u001b[1;32mc:\\Users\\Inês Pires\\environments\\blu_dev\\lib\\site-packages\\requests\\adapters.py\u001b[0m in \u001b[0;36msend\u001b[1;34m(self, request, stream, timeout, verify, cert, proxies)\u001b[0m\n\u001b[0;32m    514\u001b[0m                 \u001b[1;32mraise\u001b[0m \u001b[0mSSLError\u001b[0m\u001b[1;33m(\u001b[0m\u001b[0me\u001b[0m\u001b[1;33m,\u001b[0m \u001b[0mrequest\u001b[0m\u001b[1;33m=\u001b[0m\u001b[0mrequest\u001b[0m\u001b[1;33m)\u001b[0m\u001b[1;33m\u001b[0m\u001b[1;33m\u001b[0m\u001b[0m\n\u001b[0;32m    515\u001b[0m \u001b[1;33m\u001b[0m\u001b[0m\n\u001b[1;32m--> 516\u001b[1;33m             \u001b[1;32mraise\u001b[0m \u001b[0mConnectionError\u001b[0m\u001b[1;33m(\u001b[0m\u001b[0me\u001b[0m\u001b[1;33m,\u001b[0m \u001b[0mrequest\u001b[0m\u001b[1;33m=\u001b[0m\u001b[0mrequest\u001b[0m\u001b[1;33m)\u001b[0m\u001b[1;33m\u001b[0m\u001b[1;33m\u001b[0m\u001b[0m\n\u001b[0m\u001b[0;32m    517\u001b[0m \u001b[1;33m\u001b[0m\u001b[0m\n\u001b[0;32m    518\u001b[0m         \u001b[1;32mexcept\u001b[0m \u001b[0mClosedPoolError\u001b[0m \u001b[1;32mas\u001b[0m \u001b[0me\u001b[0m\u001b[1;33m:\u001b[0m\u001b[1;33m\u001b[0m\u001b[1;33m\u001b[0m\u001b[0m\n",
      "\u001b[1;31mConnectionError\u001b[0m: HTTPConnectionPool(host='127.0.0.1', port=5000): Max retries exceeded with url: /should_search/ (Caused by NewConnectionError('<urllib3.connection.HTTPConnection object at 0x0000021A7FF69E80>: Failed to establish a new connection: [WinError 10061] No connection could be made because the target machine actively refused it'))"
     ]
    }
   ],
   "source": [
    "url = 'http://127.0.0.1:5000/should_search/'\n",
    "r = requests.post(url, json= observation_request)\n",
    "r.ok\n",
    "\n",
    "response = r.json()\n",
    "response"
   ]
  },
  {
   "cell_type": "code",
   "execution_count": 62,
   "metadata": {},
   "outputs": [],
   "source": [
    "search_request  = {\n",
    "   \"observation_id\":'i9',\n",
    "   \"outcome\": False\n",
    "}\n"
   ]
  },
  {
   "cell_type": "code",
   "execution_count": 73,
   "metadata": {},
   "outputs": [
    {
     "output_type": "execute_result",
     "data": {
      "text/plain": [
       "{'observation_id': 'i9', 'outcome': False, 'predicted_outcome': False}"
      ]
     },
     "metadata": {},
     "execution_count": 73
    }
   ],
   "source": [
    "url = 'http://127.0.0.1:5000/search_result/'\n",
    "r = requests.post(url, json=search_request)\n",
    "r.ok\n",
    "\n",
    "response = r.json()\n",
    "response"
   ]
  },
  {
   "cell_type": "code",
   "execution_count": 71,
   "metadata": {},
   "outputs": [
    {
     "output_type": "execute_result",
     "data": {
      "text/plain": [
       "[{'id': 1,\n",
       "  'observation': \"{'observation_id': 'i9', 'Type': 'Person search', 'Date': '2018-01-01T00:25:00+00:00', 'Part of a policing operation': True, 'Latitude': nan, 'Longitude': nan, 'Gender': 'Male', 'Age range': '18-24', 'Officer-defined ethnicity': 'White', 'Legislation': 'Misuse of Drugs Act 1971 (section 23)', 'Object of search': 'Controlled drugs', 'station': 'devon-and-cornwall'}\"},\n",
       " {'id': 2,\n",
       "  'observation': \"{'observation_id': '87070', 'Type': 'Person search', 'Date': '2018-01-01T00:25:00+00:00', 'Part of a policing operation': True, 'Latitude': nan, 'Longitude': nan, 'Gender': 'Male', 'Age range': '18-24', 'Officer-defined ethnicity': 'White', 'Legislation': 'Misuse of Drugs Act 1971 (section 23)', 'Object of search': 'Controlled drugs', 'station': 'devon-and-cornwall'}\"},\n",
       " {'id': 3,\n",
       "  'observation': \"{'observation_id': '87070', 'Type': 'Person search', 'Date': '2018-01-01T00:25:00+00:00', 'Part of a policing operation': True, 'Latitude': nan, 'Longitude': nan, 'Gender': 'Male', 'Age range': '18-24', 'Officer-defined ethnicity': 'White', 'Legislation': 'Misuse of Drugs Act 1971 (section 23)', 'Object of search': 'Controlled drugs', 'station': 'devon-and-cornwall'}\"}]"
      ]
     },
     "metadata": {},
     "execution_count": 71
    }
   ],
   "source": [
    "url = 'http://127.0.0.1:5000/list-db-requests'\n",
    "r = requests.post(url)\n",
    "r.ok\n",
    "\n",
    "response = r.json()\n",
    "response"
   ]
  },
  {
   "cell_type": "code",
   "execution_count": 37,
   "metadata": {},
   "outputs": [],
   "source": [
    "# url = 'http://127.0.0.1:5000/list-db-contents'\n",
    "# r = requests.post(url)\n",
    "# r.ok\n",
    "\n",
    "# response = r.json()\n",
    "# response"
   ]
  },
  {
   "source": [
    "# Heroku "
   ],
   "cell_type": "markdown",
   "metadata": {}
  },
  {
   "source": [
    "## Test 1"
   ],
   "cell_type": "markdown",
   "metadata": {}
  },
  {
   "cell_type": "code",
   "execution_count": 6,
   "metadata": {},
   "outputs": [],
   "source": [
    "from datetime import datetime\n",
    "\n",
    "def time_now():\n",
    "    # current date and time\n",
    "    now = datetime.now()\n",
    "    return 'ines_'+str(now)"
   ]
  },
  {
   "cell_type": "code",
   "execution_count": 7,
   "metadata": {},
   "outputs": [],
   "source": [
    "request_id = time_now()\n",
    "\n",
    "\n",
    "observation_request  = {'observation_id' :  'aa',\n",
    "'Type' : 'Person search' ,\n",
    "'Date' : '2022-01-01T00:25:00+00:00' ,\n",
    "'Part of a policing operation' : True,\n",
    "'Latitude' : None,\n",
    "'Longitude' : 25.0 ,\n",
    "'Gender' : 'Female' ,\n",
    "'Age range' : '18-24' ,\n",
    "'Officer-defined ethnicity' : 'White' ,\n",
    "'Legislation' : 'Misuse of Drugs Act 1971 (section 23)' ,\n",
    "'Object of search' : 'Controlled drugs' ,\n",
    "'station' : 'devon-and-cornwall'}"
   ]
  },
  {
   "cell_type": "code",
   "execution_count": 8,
   "metadata": {},
   "outputs": [
    {
     "output_type": "stream",
     "name": "stdout",
     "text": [
      "0.488572\n{'outcome': False}\n"
     ]
    }
   ],
   "source": [
    "url = \"https://app-stop-search.herokuapp.com/should_search/\"\n",
    "r = requests.post(url, json= observation_request)\n",
    "# r.ok\n",
    "print(r.elapsed.total_seconds())\n",
    "response = r.json()\n",
    "print(response)"
   ]
  },
  {
   "cell_type": "code",
   "execution_count": 76,
   "metadata": {},
   "outputs": [
    {
     "output_type": "stream",
     "name": "stdout",
     "text": [
      "ines_2021-02-06 18:01:53.347337\n",
      "1.000332\n",
      "{'outcome': False}\n",
      "ines_2021-02-06 18:01:54.351679\n",
      "0.665725\n",
      "{'outcome': False}\n",
      "ines_2021-02-06 18:01:55.021223\n",
      "0.671043\n",
      "{'outcome': False}\n",
      "ines_2021-02-06 18:01:55.695415\n",
      "0.67481\n",
      "{'outcome': False}\n",
      "ines_2021-02-06 18:01:56.373706\n",
      "0.643685\n",
      "{'outcome': False}\n",
      "ines_2021-02-06 18:01:57.020964\n",
      "0.679774\n",
      "{'outcome': False}\n",
      "ines_2021-02-06 18:01:57.703763\n",
      "0.667578\n",
      "{'outcome': False}\n",
      "ines_2021-02-06 18:01:58.375224\n",
      "0.700935\n",
      "{'outcome': False}\n",
      "ines_2021-02-06 18:01:59.080173\n",
      "0.672724\n",
      "{'outcome': False}\n",
      "ines_2021-02-06 18:01:59.754952\n",
      "0.583014\n",
      "{'outcome': False}\n"
     ]
    }
   ],
   "source": [
    "url = \"https://app-stop-search.herokuapp.com/should_search/\"\n",
    "for i in range(10):\n",
    "\n",
    "    request_id = time_now()\n",
    "    print(request_id)\n",
    "    observation_request  = {'observation_id' :  request_id,\n",
    "    'Type' : 'Person search' ,\n",
    "    'Date' : '2022-01-01T00:25:00+00:00' ,\n",
    "    'Part of a policing operation' : True,\n",
    "    'Latitude' : 25.0,\n",
    "    'Longitude' : 25.0 ,\n",
    "    'Gender' : 'Female' ,\n",
    "    'Age range' : '18-24' ,\n",
    "    'Officer-defined ethnicity' : 'White' ,\n",
    "    'Legislation' : 'Misuse of Drugs Act 1971 (section 23)' ,\n",
    "    'Object of search' : 'Controlled drugs' ,\n",
    "    'station' : 'devon-and-cornwall'}\n",
    "\n",
    "    \n",
    "\n",
    "    r = requests.post(url, json= observation_request)\n",
    "    # r.ok\n",
    "    print(r.elapsed.total_seconds())\n",
    "    response = r.json()\n",
    "    print(response)"
   ]
  },
  {
   "source": [
    "## Test 2"
   ],
   "cell_type": "markdown",
   "metadata": {}
  },
  {
   "cell_type": "code",
   "execution_count": 5,
   "metadata": {},
   "outputs": [],
   "source": [
    "observation_request = {\"observation_id\": \"3d931c84-94d3-4a14-869c-b10fef26e9ad\", \"Type\": \"Person search\", \"Date\": \"2020-01-01T00:56:00+00:00\", \"Part of a policing operation\": False, \"Latitude\": None, \"Longitude\": None, \"Gender\": \"Male\", \"Age range\": \"18-24\", \"Officer-defined ethnicity\": \"White\", \"Legislation\": \"Misuse of Drugs Act 1971 (section 23)\", \"Object of search\": \"Controlled drugs\", \"station\": \"nottinghamshire\"}"
   ]
  },
  {
   "cell_type": "code",
   "execution_count": 78,
   "metadata": {},
   "outputs": [
    {
     "output_type": "stream",
     "name": "stdout",
     "text": [
      "0.8393\n"
     ]
    },
    {
     "output_type": "execute_result",
     "data": {
      "text/plain": [
       "{'outcome': False}"
      ]
     },
     "metadata": {},
     "execution_count": 78
    }
   ],
   "source": [
    "url = \"https://app-stop-search.herokuapp.com/should_search/\"\n",
    "\n",
    "r = requests.post(url, json= observation_request)\n",
    "# r.ok\n",
    "print(r.elapsed.total_seconds())\n",
    "response = r.json()\n",
    "response"
   ]
  },
  {
   "cell_type": "code",
   "execution_count": 2,
   "metadata": {},
   "outputs": [],
   "source": [
    "search_request  = {\n",
    "   \"observation_id\":'aa',\n",
    "   \"outcome\": True\n",
    "}\n"
   ]
  },
  {
   "cell_type": "code",
   "execution_count": 3,
   "metadata": {},
   "outputs": [
    {
     "output_type": "stream",
     "name": "stdout",
     "text": [
      "26.553523\n"
     ]
    },
    {
     "output_type": "execute_result",
     "data": {
      "text/plain": [
       "{'observation_id': 'aa', 'outcome': True, 'predicted_outcome': False}"
      ]
     },
     "metadata": {},
     "execution_count": 3
    }
   ],
   "source": [
    "url = 'https://app-stop-search.herokuapp.com/search_result/'\n",
    "r = requests.post(url, json=search_request)\n",
    "\n",
    "print(r.elapsed.total_seconds())\n",
    "response = r.json()\n",
    "response"
   ]
  },
  {
   "cell_type": "code",
   "execution_count": 46,
   "metadata": {},
   "outputs": [
    {
     "output_type": "stream",
     "name": "stdout",
     "text": [
      "0.396124\n"
     ]
    },
    {
     "output_type": "execute_result",
     "data": {
      "text/plain": [
       "e': 25.0, 'Gender': 'Female', 'Age range': '18-24', 'Officer-defined ethnicity': 'White', 'Legislation': 'Misuse of Drugs Act 1971 (section 23)', 'Object of search': 'Controlled drugs', 'station': 'devon-and-cornwall'}\",\n",
       "  'observation_id': 'ines_2021-02-06 15:40:00.121778',\n",
       "  'outcome': False,\n",
       "  'true_outcome': None},\n",
       " {'id': 237,\n",
       "  'observation': \"{'Type': 'Person search', 'Date': '2022-01-01T00:25:00+00:00', 'Part of a policing operation': True, 'Latitude': 25.0, 'Longitude': 25.0, 'Gender': 'Female', 'Age range': '18-24', 'Officer-defined ethnicity': 'White', 'Legislation': 'Misuse of Drugs Act 1971 (section 23)', 'Object of search': 'Controlled drugs', 'station': 'devon-and-cornwall'}\",\n",
       "  'observation_id': 'ines_2021-02-06 15:40:00.591876',\n",
       "  'outcome': False,\n",
       "  'true_outcome': None},\n",
       " {'id': 238,\n",
       "  'observation': \"{'Type': 'Person search', 'Date': '2022-01-01T00:25:00+00:00', 'Part of a policing operation': True, 'Latitude': 25.0, 'Longitude': 25.0, 'Gender': 'Female', 'Age range': '18-24', 'Officer-defined ethnicity': 'White', 'Legislation': 'Misuse of Drugs Act 1971 (section 23)', 'Object of search': 'Controlled drugs', 'station': 'devon-and-cornwall'}\",\n",
       "  'observation_id': 'ines_2021-02-06 15:40:00.887672',\n",
       "  'outcome': False,\n",
       "  'true_outcome': None},\n",
       " {'id': 239,\n",
       "  'observation': \"{'Type': 'Person search', 'Date': '2022-01-01T00:25:00+00:00', 'Part of a policing operation': True, 'Latitude': 25.0, 'Longitude': 25.0, 'Gender': 'Female', 'Age range': '18-24', 'Officer-defined ethnicity': 'White', 'Legislation': 'Misuse of Drugs Act 1971 (section 23)', 'Object of search': 'Controlled drugs', 'station': 'devon-and-cornwall'}\",\n",
       "  'observation_id': 'ines_2021-02-06 15:40:01.351549',\n",
       "  'outcome': False,\n",
       "  'true_outcome': None},\n",
       " {'id': 240,\n",
       "  'observation': \"{'Type': 'Person search', 'Date': '2022-01-01T00:25:00+00:00', 'Part of a policing operation': True, 'Latitude': 25.0, 'Longitude': 25.0, 'Gender': 'Female', 'Age range': '18-24', 'Officer-defined ethnicity': 'White', 'Legislation': 'Misuse of Drugs Act 1971 (section 23)', 'Object of search': 'Controlled drugs', 'station': 'devon-and-cornwall'}\",\n",
       "  'observation_id': 'ines_2021-02-06 15:40:01.654947',\n",
       "  'outcome': False,\n",
       "  'true_outcome': None},\n",
       " {'id': 241,\n",
       "  'observation': \"{'Type': 'Person search', 'Date': '2022-01-01T00:25:00+00:00', 'Part of a policing operation': True, 'Latitude': 25.0, 'Longitude': 25.0, 'Gender': 'Female', 'Age range': '18-24', 'Officer-defined ethnicity': 'White', 'Legislation': 'Misuse of Drugs Act 1971 (section 23)', 'Object of search': 'Controlled drugs', 'station': 'devon-and-cornwall'}\",\n",
       "  'observation_id': 'ines_2021-02-06 15:40:01.955383',\n",
       "  'outcome': False,\n",
       "  'true_outcome': None},\n",
       " {'id': 242,\n",
       "  'observation': \"{'Type': 'Person search', 'Date': '2022-01-01T00:25:00+00:00', 'Part of a policing operation': True, 'Latitude': 25.0, 'Longitude': 25.0, 'Gender': 'Female', 'Age range': '18-24', 'Officer-defined ethnicity': 'White', 'Legislation': 'Misuse of Drugs Act 1971 (section 23)', 'Object of search': 'Controlled drugs', 'station': 'devon-and-cornwall'}\",\n",
       "  'observation_id': 'ines_2021-02-06 15:40:02.469835',\n",
       "  'outcome': False,\n",
       "  'true_outcome': None},\n",
       " {'id': 243,\n",
       "  'observation': \"{'Type': 'Person search', 'Date': '2022-01-01T00:25:00+00:00', 'Part of a policing operation': True, 'Latitude': 25.0, 'Longitude': 25.0, 'Gender': 'Female', 'Age range': '18-24', 'Officer-defined ethnicity': 'White', 'Legislation': 'Misuse of Drugs Act 1971 (section 23)', 'Object of search': 'Controlled drugs', 'station': 'devon-and-cornwall'}\",\n",
       "  'observation_id': 'ines_2021-02-06 15:40:02.812487',\n",
       "  'outcome': False,\n",
       "  'true_outcome': None},\n",
       " {'id': 244,\n",
       "  'observation': \"{'Type': 'Person search', 'Date': '2022-01-01T00:25:00+00:00', 'Part of a policing operation': True, 'Latitude': 25.0, 'Longitude': 25.0, 'Gender': 'Female', 'Age range': '18-24', 'Officer-defined ethnicity': 'White', 'Legislation': 'Misuse of Drugs Act 1971 (section 23)', 'Object of search': 'Controlled drugs', 'station': 'devon-and-cornwall'}\",\n",
       "  'observation_id': 'ines_2021-02-06 15:40:03.236079',\n",
       "  'outcome': False,\n",
       "  'true_outcome': None},\n",
       " {'id': 245,\n",
       "  'observation': \"{'Type': 'Person search', 'Date': '2022-01-01T00:25:00+00:00', 'Part of a policing operation': True, 'Latitude': 25.0, 'Longitude': 25.0, 'Gender': 'Female', 'Age range': '18-24', 'Officer-defined ethnicity': 'White', 'Legislation': 'Misuse of Drugs Act 1971 (section 23)', 'Object of search': 'Controlled drugs', 'station': 'devon-and-cornwall'}\",\n",
       "  'observation_id': 'ines_2021-02-06 15:40:03.586542',\n",
       "  'outcome': False,\n",
       "  'true_outcome': None},\n",
       " {'id': 246,\n",
       "  'observation': \"{'Type': 'Person search', 'Date': '2022-01-01T00:25:00+00:00', 'Part of a policing operation': True, 'Latitude': 25.0, 'Longitude': 25.0, 'Gender': 'Female', 'Age range': '18-24', 'Officer-defined ethnicity': 'White', 'Legislation': 'Misuse of Drugs Act 1971 (section 23)', 'Object of search': 'Controlled drugs', 'station': 'devon-and-cornwall'}\",\n",
       "  'observation_id': 'ines_2021-02-06 15:40:04.204406',\n",
       "  'outcome': False,\n",
       "  'true_outcome': None},\n",
       " {'id': 247,\n",
       "  'observation': \"{'Type': 'Person search', 'Date': '2022-01-01T00:25:00+00:00', 'Part of a policing operation': True, 'Latitude': 25.0, 'Longitude': 25.0, 'Gender': 'Female', 'Age range': '18-24', 'Officer-defined ethnicity': 'White', 'Legislation': 'Misuse of Drugs Act 1971 (section 23)', 'Object of search': 'Controlled drugs', 'station': 'devon-and-cornwall'}\",\n",
       "  'observation_id': 'ines_2021-02-06 15:40:04.707625',\n",
       "  'outcome': False,\n",
       "  'true_outcome': None},\n",
       " {'id': 248,\n",
       "  'observation': \"{'Type': 'Person search', 'Date': '2022-01-01T00:25:00+00:00', 'Part of a policing operation': True, 'Latitude': 25.0, 'Longitude': 25.0, 'Gender': 'Female', 'Age range': '18-24', 'Officer-defined ethnicity': 'White', 'Legislation': 'Misuse of Drugs Act 1971 (section 23)', 'Object of search': 'Controlled drugs', 'station': 'devon-and-cornwall'}\",\n",
       "  'observation_id': 'ines_2021-02-06 15:40:05.210162',\n",
       "  'outcome': False,\n",
       "  'true_outcome': None},\n",
       " {'id': 249,\n",
       "  'observation': \"{'Type': 'Person search', 'Date': '2022-01-01T00:25:00+00:00', 'Part of a policing operation': True, 'Latitude': 25.0, 'Longitude': 25.0, 'Gender': 'Female', 'Age range': '18-24', 'Officer-defined ethnicity': 'White', 'Legislation': 'Misuse of Drugs Act 1971 (section 23)', 'Object of search': 'Controlled drugs', 'station': 'devon-and-cornwall'}\",\n",
       "  'observation_id': 'ines_2021-02-06 15:40:05.789247',\n",
       "  'outcome': False,\n",
       "  'true_outcome': None},\n",
       " {'id': 250,\n",
       "  'observation': \"{'Type': 'Person search', 'Date': '2022-01-01T00:25:00+00:00', 'Part of a policing operation': True, 'Latitude': 25.0, 'Longitude': 25.0, 'Gender': 'Female', 'Age range': '18-24', 'Officer-defined ethnicity': 'White', 'Legislation': 'Misuse of Drugs Act 1971 (section 23)', 'Object of search': 'Controlled drugs', 'station': 'devon-and-cornwall'}\",\n",
       "  'observation_id': 'ines_2021-02-06 15:40:06.111460',\n",
       "  'outcome': False,\n",
       "  'true_outcome': None},\n",
       " {'id': 251,\n",
       "  'observation': \"{'Type': 'Person search', 'Date': '2022-01-01T00:25:00+00:00', 'Part of a policing operation': True, 'Latitude': 25.0, 'Longitude': 25.0, 'Gender': 'Female', 'Age range': '18-24', 'Officer-defined ethnicity': 'White', 'Legislation': 'Misuse of Drugs Act 1971 (section 23)', 'Object of search': 'Controlled drugs', 'station': 'devon-and-cornwall'}\",\n",
       "  'observation_id': 'ines_2021-02-06 15:40:06.620069',\n",
       "  'outcome': False,\n",
       "  'true_outcome': None},\n",
       " {'id': 252,\n",
       "  'observation': \"{'Type': 'Person search', 'Date': '2022-01-01T00:25:00+00:00', 'Part of a policing operation': True, 'Latitude': 25.0, 'Longitude': 25.0, 'Gender': 'Female', 'Age range': '18-24', 'Officer-defined ethnicity': 'White', 'Legislation': 'Misuse of Drugs Act 1971 (section 23)', 'Object of search': 'Controlled drugs', 'station': 'devon-and-cornwall'}\",\n",
       "  'observation_id': 'ines_2021-02-06 15:40:07.096623',\n",
       "  'outcome': False,\n",
       "  'true_outcome': None},\n",
       " {'id': 253,\n",
       "  'observation': \"{'Type': 'Person search', 'Date': '2022-01-01T00:25:00+00:00', 'Part of a policing operation': True, 'Latitude': 25.0, 'Longitude': 25.0, 'Gender': 'Female', 'Age range': '18-24', 'Officer-defined ethnicity': 'White', 'Legislation': 'Misuse of Drugs Act 1971 (section 23)', 'Object of search': 'Controlled drugs', 'station': 'devon-and-cornwall'}\",\n",
       "  'observation_id': 'ines_2021-02-06 15:40:07.482464',\n",
       "  'outcome': False,\n",
       "  'true_outcome': None},\n",
       " {'id': 254,\n",
       "  'observation': \"{'Type': 'Person search', 'Date': '2022-01-01T00:25:00+00:00', 'Part of a policing operation': True, 'Latitude': 25.0, 'Longitude': 25.0, 'Gender': 'Female', 'Age range': '18-24', 'Officer-defined ethnicity': 'White', 'Legislation': 'Misuse of Drugs Act 1971 (section 23)', 'Object of search': 'Controlled drugs', 'station': 'devon-and-cornwall'}\",\n",
       "  'observation_id': 'ines_2021-02-06 15:40:07.971458',\n",
       "  'outcome': False,\n",
       "  'true_outcome': None},\n",
       " {'id': 255,\n",
       "  'observation': \"{'Type': 'Person search', 'Date': '2022-01-01T00:25:00+00:00', 'Part of a policing operation': True, 'Latitude': 25.0, 'Longitude': 25.0, 'Gender': 'Female', 'Age range': '18-24', 'Officer-defined ethnicity': 'White', 'Legislation': 'Misuse of Drugs Act 1971 (section 23)', 'Object of search': 'Controlled drugs', 'station': 'devon-and-cornwall'}\",\n",
       "  'observation_id': 'ines_2021-02-06 15:40:08.337185',\n",
       "  'outcome': False,\n",
       "  'true_outcome': None},\n",
       " {'id': 256,\n",
       "  'observation': \"{'Type': 'Person search', 'Date': '2022-01-01T00:25:00+00:00', 'Part of a policing operation': True, 'Latitude': 25.0, 'Longitude': 25.0, 'Gender': 'Female', 'Age range': '18-24', 'Officer-defined ethnicity': 'White', 'Legislation': 'Misuse of Drugs Act 1971 (section 23)', 'Object of search': 'Controlled drugs', 'station': 'devon-and-cornwall'}\",\n",
       "  'observation_id': 'ines_2021-02-06 15:40:08.832368',\n",
       "  'outcome': False,\n",
       "  'true_outcome': None},\n",
       " {'id': 257,\n",
       "  'observation': \"{'Type': 'Person search', 'Date': '2022-01-01T00:25:00+00:00', 'Part of a policing operation': True, 'Latitude': 25.0, 'Longitude': 25.0, 'Gender': 'Female', 'Age range': '18-24', 'Officer-defined ethnicity': 'White', 'Legislation': 'Misuse of Drugs Act 1971 (section 23)', 'Object of search': 'Controlled drugs', 'station': 'devon-and-cornwall'}\",\n",
       "  'observation_id': 'ines_2021-02-06 15:40:09.284661',\n",
       "  'outcome': False,\n",
       "  'true_outcome': None},\n",
       " {'id': 258,\n",
       "  'observation': \"{'Type': 'Person search', 'Date': '2022-01-01T00:25:00+00:00', 'Part of a policing operation': True, 'Latitude': 25.0, 'Longitude': 25.0, 'Gender': 'Female', 'Age range': '18-24', 'Officer-defined ethnicity': 'White', 'Legislation': 'Misuse of Drugs Act 1971 (section 23)', 'Object of search': 'Controlled drugs', 'station': 'devon-and-cornwall'}\",\n",
       "  'observation_id': 'ines_2021-02-06 15:40:09.701627',\n",
       "  'outcome': False,\n",
       "  'true_outcome': None},\n",
       " {'id': 259,\n",
       "  'observation': \"{'Type': 'Person search', 'Date': '2022-01-01T00:25:00+00:00', 'Part of a policing operation': True, 'Latitude': 25.0, 'Longitude': 25.0, 'Gender': 'Female', 'Age range': '18-24', 'Officer-defined ethnicity': 'White', 'Legislation': 'Misuse of Drugs Act 1971 (section 23)', 'Object of search': 'Controlled drugs', 'station': 'devon-and-cornwall'}\",\n",
       "  'observation_id': 'ines_2021-02-06 15:40:10.051962',\n",
       "  'outcome': False,\n",
       "  'true_outcome': None},\n",
       " {'id': 260,\n",
       "  'observation': \"{'Type': 'Person search', 'Date': '2022-01-01T00:25:00+00:00', 'Part of a policing operation': True, 'Latitude': 25.0, 'Longitude': 25.0, 'Gender': 'Female', 'Age range': '18-24', 'Officer-defined ethnicity': 'White', 'Legislation': 'Misuse of Drugs Act 1971 (section 23)', 'Object of search': 'Controlled drugs', 'station': 'devon-and-cornwall'}\",\n",
       "  'observation_id': 'ines_2021-02-06 15:40:10.515621',\n",
       "  'outcome': False,\n",
       "  'true_outcome': None},\n",
       " {'id': 261,\n",
       "  'observation': \"{'Type': 'Person search', 'Date': '2022-01-01T00:25:00+00:00', 'Part of a policing operation': True, 'Latitude': 25.0, 'Longitude': 25.0, 'Gender': 'Female', 'Age range': '18-24', 'Officer-defined ethnicity': 'White', 'Legislation': 'Misuse of Drugs Act 1971 (section 23)', 'Object of search': 'Controlled drugs', 'station': 'devon-and-cornwall'}\",\n",
       "  'observation_id': 'ines_2021-02-06 15:40:10.916610',\n",
       "  'outcome': False,\n",
       "  'true_outcome': None},\n",
       " {'id': 262,\n",
       "  'observation': \"{'Type': 'Person search', 'Date': '2022-01-01T00:25:00+00:00', 'Part of a policing operation': True, 'Latitude': 25.0, 'Longitude': 25.0, 'Gender': 'Female', 'Age range': '18-24', 'Officer-defined ethnicity': 'White', 'Legislation': 'Misuse of Drugs Act 1971 (section 23)', 'Object of search': 'Controlled drugs', 'station': 'devon-and-cornwall'}\",\n",
       "  'observation_id': 'ines_2021-02-06 15:40:11.283396',\n",
       "  'outcome': False,\n",
       "  'true_outcome': None},\n",
       " {'id': 263,\n",
       "  'observation': \"{'Type': 'Person search', 'Date': '2022-01-01T00:25:00+00:00', 'Part of a policing operation': True, 'Latitude': 25.0, 'Longitude': 25.0, 'Gender': 'Female', 'Age range': '18-24', 'Officer-defined ethnicity': 'White', 'Legislation': 'Misuse of Drugs Act 1971 (section 23)', 'Object of search': 'Controlled drugs', 'station': 'devon-and-cornwall'}\",\n",
       "  'observation_id': 'ines_2021-02-06 15:40:11.770298',\n",
       "  'outcome': False,\n",
       "  'true_outcome': None},\n",
       " {'id': 264,\n",
       "  'observation': \"{'Type': 'Person search', 'Date': '2022-01-01T00:25:00+00:00', 'Part of a policing operation': True, 'Latitude': 25.0, 'Longitude': 25.0, 'Gender': 'Female', 'Age range': '18-24', 'Officer-defined ethnicity': 'White', 'Legislation': 'Misuse of Drugs Act 1971 (section 23)', 'Object of search': 'Controlled drugs', 'station': 'devon-and-cornwall'}\",\n",
       "  'observation_id': 'ines_2021-02-06 15:40:12.148937',\n",
       "  'outcome': False,\n",
       "  'true_outcome': None},\n",
       " {'id': 265,\n",
       "  'observation': \"{'Type': 'Person search', 'Date': '2022-01-01T00:25:00+00:00', 'Part of a policing operation': True, 'Latitude': 25.0, 'Longitude': 25.0, 'Gender': 'Female', 'Age range': '18-24', 'Officer-defined ethnicity': 'White', 'Legislation': 'Misuse of Drugs Act 1971 (section 23)', 'Object of search': 'Controlled drugs', 'station': 'devon-and-cornwall'}\",\n",
       "  'observation_id': 'ines_2021-02-06 15:40:12.539225',\n",
       "  'outcome': False,\n",
       "  'true_outcome': None},\n",
       " {'id': 266,\n",
       "  'observation': \"{'Type': 'Person search', 'Date': '2022-01-01T00:25:00+00:00', 'Part of a policing operation': True, 'Latitude': 25.0, 'Longitude': 25.0, 'Gender': 'Female', 'Age range': '18-24', 'Officer-defined ethnicity': 'White', 'Legislation': 'Misuse of Drugs Act 1971 (section 23)', 'Object of search': 'Controlled drugs', 'station': 'devon-and-cornwall'}\",\n",
       "  'observation_id': 'ines_2021-02-06 15:40:13.082365',\n",
       "  'outcome': False,\n",
       "  'true_outcome': None},\n",
       " {'id': 267,\n",
       "  'observation': \"{'Type': 'Person search', 'Date': '2022-01-01T00:25:00+00:00', 'Part of a policing operation': True, 'Latitude': 25.0, 'Longitude': 25.0, 'Gender': 'Female', 'Age range': '18-24', 'Officer-defined ethnicity': 'White', 'Legislation': 'Misuse of Drugs Act 1971 (section 23)', 'Object of search': 'Controlled drugs', 'station': 'devon-and-cornwall'}\",\n",
       "  'observation_id': 'ines_2021-02-06 15:40:13.486328',\n",
       "  'outcome': False,\n",
       "  'true_outcome': None},\n",
       " {'id': 268,\n",
       "  'observation': \"{'Type': 'Person search', 'Date': '2022-01-01T00:25:00+00:00', 'Part of a policing operation': True, 'Latitude': 25.0, 'Longitude': 25.0, 'Gender': 'Female', 'Age range': '18-24', 'Officer-defined ethnicity': 'White', 'Legislation': 'Misuse of Drugs Act 1971 (section 23)', 'Object of search': 'Controlled drugs', 'station': 'devon-and-cornwall'}\",\n",
       "  'observation_id': 'ines_2021-02-06 15:40:13.918652',\n",
       "  'outcome': False,\n",
       "  'true_outcome': None},\n",
       " {'id': 269,\n",
       "  'observation': \"{'Type': 'Person search', 'Date': '2022-01-01T00:25:00+00:00', 'Part of a policing operation': True, 'Latitude': 25.0, 'Longitude': 25.0, 'Gender': 'Female', 'Age range': '18-24', 'Officer-defined ethnicity': 'White', 'Legislation': 'Misuse of Drugs Act 1971 (section 23)', 'Object of search': 'Controlled drugs', 'station': 'devon-and-cornwall'}\",\n",
       "  'observation_id': 'ines_2021-02-06 15:40:14.435736',\n",
       "  'outcome': False,\n",
       "  'true_outcome': None},\n",
       " {'id': 270,\n",
       "  'observation': \"{'Type': 'Person search', 'Date': '2022-01-01T00:25:00+00:00', 'Part of a policing operation': True, 'Latitude': 25.0, 'Longitude': 25.0, 'Gender': 'Female', 'Age range': '18-24', 'Officer-defined ethnicity': 'White', 'Legislation': 'Misuse of Drugs Act 1971 (section 23)', 'Object of search': 'Controlled drugs', 'station': 'devon-and-cornwall'}\",\n",
       "  'observation_id': 'ines_2021-02-06 15:40:14.839735',\n",
       "  'outcome': False,\n",
       "  'true_outcome': None},\n",
       " {'id': 271,\n",
       "  'observation': \"{'Type': 'Person search', 'Date': '2022-01-01T00:25:00+00:00', 'Part of a policing operation': True, 'Latitude': 25.0, 'Longitude': 25.0, 'Gender': 'Female', 'Age range': '18-24', 'Officer-defined ethnicity': 'White', 'Legislation': 'Misuse of Drugs Act 1971 (section 23)', 'Object of search': 'Controlled drugs', 'station': 'devon-and-cornwall'}\",\n",
       "  'observation_id': 'ines_2021-02-06 15:40:15.364247',\n",
       "  'outcome': False,\n",
       "  'true_outcome': None},\n",
       " {'id': 272,\n",
       "  'observation': \"{'Type': 'Person search', 'Date': '2022-01-01T00:25:00+00:00', 'Part of a policing operation': True, 'Latitude': 25.0, 'Longitude': 25.0, 'Gender': 'Female', 'Age range': '18-24', 'Officer-defined ethnicity': 'White', 'Legislation': 'Misuse of Drugs Act 1971 (section 23)', 'Object of search': 'Controlled drugs', 'station': 'devon-and-cornwall'}\",\n",
       "  'observation_id': 'ines_2021-02-06 15:40:15.706073',\n",
       "  'outcome': False,\n",
       "  'true_outcome': None},\n",
       " {'id': 273,\n",
       "  'observation': \"{'Type': 'Person search', 'Date': '2022-01-01T00:25:00+00:00', 'Part of a policing operation': True, 'Latitude': 25.0, 'Longitude': 25.0, 'Gender': 'Female', 'Age range': '18-24', 'Officer-defined ethnicity': 'White', 'Legislation': 'Misuse of Drugs Act 1971 (section 23)', 'Object of search': 'Controlled drugs', 'station': 'devon-and-cornwall'}\",\n",
       "  'observation_id': 'ines_2021-02-06 15:40:16.180290',\n",
       "  'outcome': False,\n",
       "  'true_outcome': None},\n",
       " {'id': 274,\n",
       "  'observation': \"{'Type': 'Person search', 'Date': '2022-01-01T00:25:00+00:00', 'Part of a policing operation': True, 'Latitude': 25.0, 'Longitude': 25.0, 'Gender': 'Female', 'Age range': '18-24', 'Officer-defined ethnicity': 'White', 'Legislation': 'Misuse of Drugs Act 1971 (section 23)', 'Object of search': 'Controlled drugs', 'station': 'devon-and-cornwall'}\",\n",
       "  'observation_id': 'ines_2021-02-06 15:40:16.503578',\n",
       "  'outcome': False,\n",
       "  'true_outcome': None},\n",
       " {'id': 275,\n",
       "  'observation': \"{'Type': 'Person search', 'Date': '2022-01-01T00:25:00+00:00', 'Part of a policing operation': True, 'Latitude': 25.0, 'Longitude': 25.0, 'Gender': 'Female', 'Age range': '18-24', 'Officer-defined ethnicity': 'White', 'Legislation': 'Misuse of Drugs Act 1971 (section 23)', 'Object of search': 'Controlled drugs', 'station': 'devon-and-cornwall'}\",\n",
       "  'observation_id': 'ines_2021-02-06 15:40:16.862292',\n",
       "  'outcome': False,\n",
       "  'true_outcome': None},\n",
       " {'id': 276,\n",
       "  'observation': \"{'Type': 'Person search', 'Date': '2022-01-01T00:25:00+00:00', 'Part of a policing operation': True, 'Latitude': 25.0, 'Longitude': 25.0, 'Gender': 'Female', 'Age range': '18-24', 'Officer-defined ethnicity': 'White', 'Legislation': 'Misuse of Drugs Act 1971 (section 23)', 'Object of search': 'Controlled drugs', 'station': 'devon-and-cornwall'}\",\n",
       "  'observation_id': 'ines_2021-02-06 15:42:16.601022',\n",
       "  'outcome': False,\n",
       "  'true_outcome': None},\n",
       " {'id': 277,\n",
       "  'observation': \"{'Type': 'Person search', 'Date': '2022-01-01T00:25:00+00:00', 'Part of a policing operation': True, 'Latitude': 25.0, 'Longitude': 25.0, 'Gender': 'Female', 'Age range': '18-24', 'Officer-defined ethnicity': 'White', 'Legislation': 'Misuse of Drugs Act 1971 (section 23)', 'Object of search': 'Controlled drugs', 'station': 'devon-and-cornwall'}\",\n",
       "  'observation_id': 'ines_2021-02-06 15:43:08.194357',\n",
       "  'outcome': False,\n",
       "  'true_outcome': None}]"
      ]
     },
     "metadata": {},
     "execution_count": 46
    }
   ],
   "source": [
    "url = 'https://app-stop-search.herokuapp.com/list-db-contents'\n",
    "r = requests.post(url)\n",
    "# r.ok\n",
    "print(r.elapsed.total_seconds())\n",
    "response = r.json()\n",
    "response"
   ]
  }
 ]
}