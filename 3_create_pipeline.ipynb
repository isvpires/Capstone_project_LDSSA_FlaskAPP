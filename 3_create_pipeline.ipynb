{
 "metadata": {
  "language_info": {
   "codemirror_mode": {
    "name": "ipython",
    "version": 3
   },
   "file_extension": ".py",
   "mimetype": "text/x-python",
   "name": "python",
   "nbconvert_exporter": "python",
   "pygments_lexer": "ipython3",
   "version": "3.8.7-final"
  },
  "orig_nbformat": 2,
  "kernelspec": {
   "name": "python3",
   "display_name": "Python 3",
   "language": "python"
  }
 },
 "nbformat": 4,
 "nbformat_minor": 2,
 "cells": [
  {
   "cell_type": "code",
   "execution_count": 1,
   "metadata": {},
   "outputs": [],
   "source": [
    "import pandas as pd\n",
    "from sklearn.base import BaseEstimator, TransformerMixin\n",
    "from sklearn.pipeline import make_pipeline, Pipeline\n",
    "from sklearn.model_selection import cross_val_score\n",
    "from sklearn.preprocessing import OneHotEncoder\n",
    "\n",
    "from sklearn.compose import ColumnTransformer\n",
    "from sklearn.ensemble import RandomForestClassifier\n",
    "from sklearn.linear_model import LogisticRegression\n",
    "from sklearn.pipeline import Pipeline\n",
    "from sklearn.impute import SimpleImputer\n",
    "from sklearn.preprocessing import StandardScaler\n",
    "from sklearn.ensemble import RandomForestClassifier\n",
    "from sklearn.compose import ColumnTransformer\n",
    "\n",
    "from sklearn.pipeline import Pipeline\n",
    "\n",
    "# Standard imports\n",
    "import numpy as np\n",
    "import pandas as pd\n",
    "from collections import Counter, OrderedDict\n",
    "import re\n",
    "import string\n",
    "import inspect\n",
    "import os\n",
    "import datetime\n",
    "from sklearn.metrics import f1_score\n",
    "\n",
    "from sklearn.model_selection import train_test_split\n",
    "from sklearn.metrics import precision_score, recall_score, precision_recall_curve\n",
    "\n",
    "from lightgbm import LGBMClassifier\n",
    "\n",
    "from sklearn.metrics import confusion_matrix"
   ]
  },
  {
   "cell_type": "code",
   "execution_count": 2,
   "metadata": {},
   "outputs": [],
   "source": [
    "import json\n",
    "import pickle\n",
    "import joblib\n",
    "import pandas as pd\n",
    "from flask import Flask, jsonify, request\n",
    "from peewee import (\n",
    "    SqliteDatabase, PostgresqlDatabase, Model, IntegerField,\n",
    "    FloatField, TextField, IntegrityError\n",
    ")\n",
    "from playhouse.shortcuts import model_to_dict"
   ]
  },
  {
   "cell_type": "code",
   "execution_count": 3,
   "metadata": {},
   "outputs": [],
   "source": [
    "from transformers import transf as tf"
   ]
  },
  {
   "cell_type": "code",
   "execution_count": 4,
   "metadata": {},
   "outputs": [
    {
     "output_type": "execute_result",
     "data": {
      "text/plain": [
       "                         observation_id           Type  \\\n",
       "0  34d76816-cfc2-4bdd-b3a2-bf0c40b12689  Person search   \n",
       "1  83c87ec1-e6d4-4bbb-8e0c-159516706359  Person search   \n",
       "2  8c2eae4b-035a-492f-92d6-cd27e6c900a1  Person search   \n",
       "3  e63a036a-a728-4efe-8e08-7198f56d6d0a  Person search   \n",
       "4  40c70aca-1f7f-4efe-8c5b-ade0f2e9937d  Person search   \n",
       "\n",
       "                        Date Part of a policing operation   Latitude  \\\n",
       "0  2019-12-01T00:00:00+00:00                         True        NaN   \n",
       "1  2019-12-01T00:09:00+00:00                         True        NaN   \n",
       "2  2019-12-01T00:10:00+00:00                         True        NaN   \n",
       "3  2019-12-01T00:10:00+00:00                        False        NaN   \n",
       "4  2019-12-01T00:12:00+00:00                         True  50.368247   \n",
       "\n",
       "   Longitude  Gender Age range  \\\n",
       "0        NaN    Male     18-24   \n",
       "1        NaN    Male     18-24   \n",
       "2        NaN  Female     18-24   \n",
       "3        NaN    Male     18-24   \n",
       "4  -4.126646    Male     18-24   \n",
       "\n",
       "                              Self-defined ethnicity  \\\n",
       "0   Asian/Asian British - Any other Asian background   \n",
       "1                                                NaN   \n",
       "2  White - English/Welsh/Scottish/Northern Irish/...   \n",
       "3                                                NaN   \n",
       "4                                                NaN   \n",
       "\n",
       "  Officer-defined ethnicity                            Legislation  \\\n",
       "0                     Asian  Misuse of Drugs Act 1971 (section 23)   \n",
       "1                     White  Misuse of Drugs Act 1971 (section 23)   \n",
       "2                     White  Misuse of Drugs Act 1971 (section 23)   \n",
       "3                     Asian  Misuse of Drugs Act 1971 (section 23)   \n",
       "4                     White  Misuse of Drugs Act 1971 (section 23)   \n",
       "\n",
       "   Object of search                       Outcome  \\\n",
       "0  Controlled drugs  A no further action disposal   \n",
       "1  Controlled drugs  A no further action disposal   \n",
       "2  Controlled drugs  A no further action disposal   \n",
       "3  Controlled drugs  A no further action disposal   \n",
       "4  Controlled drugs  A no further action disposal   \n",
       "\n",
       "  Outcome linked to object of search Removal of more than just outer clothing  \\\n",
       "0                                NaN                                    False   \n",
       "1                                NaN                                    False   \n",
       "2                                NaN                                    False   \n",
       "3                                NaN                                    False   \n",
       "4                                NaN                                    False   \n",
       "\n",
       "              station  \n",
       "0  devon-and-cornwall  \n",
       "1  devon-and-cornwall  \n",
       "2  devon-and-cornwall  \n",
       "3  devon-and-cornwall  \n",
       "4  devon-and-cornwall  "
      ],
      "text/html": "<div>\n<style scoped>\n    .dataframe tbody tr th:only-of-type {\n        vertical-align: middle;\n    }\n\n    .dataframe tbody tr th {\n        vertical-align: top;\n    }\n\n    .dataframe thead th {\n        text-align: right;\n    }\n</style>\n<table border=\"1\" class=\"dataframe\">\n  <thead>\n    <tr style=\"text-align: right;\">\n      <th></th>\n      <th>observation_id</th>\n      <th>Type</th>\n      <th>Date</th>\n      <th>Part of a policing operation</th>\n      <th>Latitude</th>\n      <th>Longitude</th>\n      <th>Gender</th>\n      <th>Age range</th>\n      <th>Self-defined ethnicity</th>\n      <th>Officer-defined ethnicity</th>\n      <th>Legislation</th>\n      <th>Object of search</th>\n      <th>Outcome</th>\n      <th>Outcome linked to object of search</th>\n      <th>Removal of more than just outer clothing</th>\n      <th>station</th>\n    </tr>\n  </thead>\n  <tbody>\n    <tr>\n      <th>0</th>\n      <td>34d76816-cfc2-4bdd-b3a2-bf0c40b12689</td>\n      <td>Person search</td>\n      <td>2019-12-01T00:00:00+00:00</td>\n      <td>True</td>\n      <td>NaN</td>\n      <td>NaN</td>\n      <td>Male</td>\n      <td>18-24</td>\n      <td>Asian/Asian British - Any other Asian background</td>\n      <td>Asian</td>\n      <td>Misuse of Drugs Act 1971 (section 23)</td>\n      <td>Controlled drugs</td>\n      <td>A no further action disposal</td>\n      <td>NaN</td>\n      <td>False</td>\n      <td>devon-and-cornwall</td>\n    </tr>\n    <tr>\n      <th>1</th>\n      <td>83c87ec1-e6d4-4bbb-8e0c-159516706359</td>\n      <td>Person search</td>\n      <td>2019-12-01T00:09:00+00:00</td>\n      <td>True</td>\n      <td>NaN</td>\n      <td>NaN</td>\n      <td>Male</td>\n      <td>18-24</td>\n      <td>NaN</td>\n      <td>White</td>\n      <td>Misuse of Drugs Act 1971 (section 23)</td>\n      <td>Controlled drugs</td>\n      <td>A no further action disposal</td>\n      <td>NaN</td>\n      <td>False</td>\n      <td>devon-and-cornwall</td>\n    </tr>\n    <tr>\n      <th>2</th>\n      <td>8c2eae4b-035a-492f-92d6-cd27e6c900a1</td>\n      <td>Person search</td>\n      <td>2019-12-01T00:10:00+00:00</td>\n      <td>True</td>\n      <td>NaN</td>\n      <td>NaN</td>\n      <td>Female</td>\n      <td>18-24</td>\n      <td>White - English/Welsh/Scottish/Northern Irish/...</td>\n      <td>White</td>\n      <td>Misuse of Drugs Act 1971 (section 23)</td>\n      <td>Controlled drugs</td>\n      <td>A no further action disposal</td>\n      <td>NaN</td>\n      <td>False</td>\n      <td>devon-and-cornwall</td>\n    </tr>\n    <tr>\n      <th>3</th>\n      <td>e63a036a-a728-4efe-8e08-7198f56d6d0a</td>\n      <td>Person search</td>\n      <td>2019-12-01T00:10:00+00:00</td>\n      <td>False</td>\n      <td>NaN</td>\n      <td>NaN</td>\n      <td>Male</td>\n      <td>18-24</td>\n      <td>NaN</td>\n      <td>Asian</td>\n      <td>Misuse of Drugs Act 1971 (section 23)</td>\n      <td>Controlled drugs</td>\n      <td>A no further action disposal</td>\n      <td>NaN</td>\n      <td>False</td>\n      <td>devon-and-cornwall</td>\n    </tr>\n    <tr>\n      <th>4</th>\n      <td>40c70aca-1f7f-4efe-8c5b-ade0f2e9937d</td>\n      <td>Person search</td>\n      <td>2019-12-01T00:12:00+00:00</td>\n      <td>True</td>\n      <td>50.368247</td>\n      <td>-4.126646</td>\n      <td>Male</td>\n      <td>18-24</td>\n      <td>NaN</td>\n      <td>White</td>\n      <td>Misuse of Drugs Act 1971 (section 23)</td>\n      <td>Controlled drugs</td>\n      <td>A no further action disposal</td>\n      <td>NaN</td>\n      <td>False</td>\n      <td>devon-and-cornwall</td>\n    </tr>\n  </tbody>\n</table>\n</div>"
     },
     "metadata": {},
     "execution_count": 4
    }
   ],
   "source": []
  },
  {
   "cell_type": "code",
   "execution_count": 5,
   "metadata": {},
   "outputs": [
    {
     "output_type": "execute_result",
     "data": {
      "text/plain": [
       "[array(['34d76816-cfc2-4bdd-b3a2-bf0c40b12689', 'Person search',\n",
       "        '2019-12-01T00:00:00+00:00', True, nan, nan, 'Male', '18-24',\n",
       "        'Asian/Asian British - Any other Asian background', 'Asian',\n",
       "        'Misuse of Drugs Act 1971 (section 23)', 'Controlled drugs',\n",
       "        'A no further action disposal', nan, False, 'devon-and-cornwall'],\n",
       "       dtype=object)]"
      ]
     },
     "metadata": {},
     "execution_count": 5
    }
   ],
   "source": [
    "list(df.head(1).values)"
   ]
  },
  {
   "cell_type": "code",
   "execution_count": 6,
   "metadata": {},
   "outputs": [],
   "source": [
    "df['Part of a policing operation']  =df['Part of a policing operation'].astype('bool')"
   ]
  },
  {
   "cell_type": "code",
   "execution_count": 7,
   "metadata": {},
   "outputs": [],
   "source": [
    "# Group feaatures \n",
    "categorical_features = ['Type','Gender','Age range','Officer-defined ethnicity','Object of search','station']\n",
    "numeric_features = ['Time (sin)','Time (cos)']"
   ]
  },
  {
   "cell_type": "code",
   "execution_count": 8,
   "metadata": {},
   "outputs": [],
   "source": [
    "numeric_transformer = Pipeline(steps=[\n",
    "    ('imputer', SimpleImputer(strategy='median'))])\n",
    "\n",
    "categorical_transformer = Pipeline(steps=[\n",
    "    ('imputer', SimpleImputer(strategy='constant', fill_value='missing')),\n",
    "    ('onehot', OneHotEncoder(handle_unknown='ignore'))])\n",
    "\n",
    "standard_preprocessor = ColumnTransformer(\n",
    "    transformers=[\n",
    "        ('num', numeric_transformer, numeric_features),\n",
    "        ('cat', categorical_transformer, categorical_features)])\n"
   ]
  },
  {
   "cell_type": "code",
   "execution_count": 9,
   "metadata": {},
   "outputs": [
    {
     "output_type": "execute_result",
     "data": {
      "text/plain": [
       "Index(['observation_id', 'Type', 'Date', 'Part of a policing operation',\n",
       "       'Latitude', 'Longitude', 'Gender', 'Age range',\n",
       "       'Self-defined ethnicity', 'Officer-defined ethnicity', 'Legislation',\n",
       "       'Object of search', 'Outcome', 'Outcome linked to object of search',\n",
       "       'Removal of more than just outer clothing', 'station'],\n",
       "      dtype='object')"
      ]
     },
     "metadata": {},
     "execution_count": 9
    }
   ],
   "source": [
    "df.columns"
   ]
  },
  {
   "cell_type": "code",
   "execution_count": null,
   "metadata": {},
   "outputs": [],
   "source": []
  },
  {
   "cell_type": "code",
   "execution_count": 10,
   "metadata": {},
   "outputs": [],
   "source": [
    "target_pipe =  Pipeline(\n",
    "    steps=[\n",
    "            ('Filter Metropolitain', tf.Filter_ColumnValue(col='station', value='metropolitan')),\n",
    "            ('FixNA_OutcomeLinkedSearch', tf.FixNA_OutcomeLinkedSearch()), \n",
    "            ('OutcomePositive', tf.Mask_OutcomePositive()),\n",
    "            ('SearchSuccess', tf.Mask_SearchSuccess()),\n",
    "            ])"
   ]
  },
  {
   "cell_type": "code",
   "execution_count": 11,
   "metadata": {},
   "outputs": [],
   "source": [
    "initial_pipe = Pipeline(\n",
    "    steps=[\n",
    "            ('Filter Metropolitain', tf.Filter_ColumnValue(col='station', value='metropolitan')),\n",
    "            ('FixNA_Coordinates', tf.FixNA_Coordinates()),\n",
    "            ('DateTransformer', tf.DateTransformer())\n",
    "            ])"
   ]
  },
  {
   "cell_type": "code",
   "execution_count": 12,
   "metadata": {},
   "outputs": [],
   "source": [
    "pipeline = Pipeline([\n",
    "        ('Initial Preprocessing Pipeline',initial_pipe),\n",
    "        ('preprocessor', standard_preprocessor),\n",
    "        ('model', LGBMClassifier(n_jobs=-1, random_state=42))\n",
    "]    \n",
    ")"
   ]
  },
  {
   "cell_type": "code",
   "execution_count": 13,
   "metadata": {},
   "outputs": [],
   "source": [
    "columns = ['observation_id', 'Type', 'Date', 'Part of a policing operation',\n",
    "       'Latitude', 'Longitude', 'Gender', 'Age range',\n",
    "        'Officer-defined ethnicity', 'Legislation',\n",
    "       'Object of search', 'station']"
   ]
  },
  {
   "cell_type": "code",
   "execution_count": 14,
   "metadata": {},
   "outputs": [],
   "source": [
    "outcome_columns = ['Outcome', 'Outcome linked to object of search']\n",
    "df_target = target_pipe.fit_transform(df)\n",
    "target = df_target['search_success']"
   ]
  },
  {
   "cell_type": "code",
   "execution_count": 15,
   "metadata": {},
   "outputs": [
    {
     "output_type": "execute_result",
     "data": {
      "text/plain": [
       "Index(['observation_id', 'Type', 'Date', 'Part of a policing operation',\n",
       "       'Latitude', 'Longitude', 'Gender', 'Age range',\n",
       "       'Self-defined ethnicity', 'Officer-defined ethnicity', 'Legislation',\n",
       "       'Object of search', 'Outcome', 'Outcome linked to object of search',\n",
       "       'Removal of more than just outer clothing', 'station',\n",
       "       'outcome_positive', 'search_success'],\n",
       "      dtype='object')"
      ]
     },
     "metadata": {},
     "execution_count": 15
    }
   ],
   "source": [
    "df_target.columns"
   ]
  },
  {
   "cell_type": "code",
   "execution_count": 16,
   "metadata": {},
   "outputs": [],
   "source": [
    "X_train = df[columns]\n",
    "y_train = target"
   ]
  },
  {
   "cell_type": "code",
   "execution_count": 17,
   "metadata": {},
   "outputs": [
    {
     "output_type": "execute_result",
     "data": {
      "text/plain": [
       "Pipeline(steps=[('Initial Preprocessing Pipeline',\n",
       "                 Pipeline(steps=[('Filter Metropolitain',\n",
       "                                  Filter_ColumnValue(col='station',\n",
       "                                                     value='metropolitan')),\n",
       "                                 ('FixNA_Coordinates', FixNA_Coordinates()),\n",
       "                                 ('DateTransformer', DateTransformer())])),\n",
       "                ('preprocessor',\n",
       "                 ColumnTransformer(transformers=[('num',\n",
       "                                                  Pipeline(steps=[('imputer',\n",
       "                                                                   SimpleImputer(strategy='median'))]),\n",
       "                                                  ['Time (sin)', 'Time (cos)']),\n",
       "                                                 ('cat',\n",
       "                                                  Pipeline(steps=[('imputer',\n",
       "                                                                   SimpleImputer(fill_value='missing',\n",
       "                                                                                 strategy='constant')),\n",
       "                                                                  ('onehot',\n",
       "                                                                   OneHotEncoder(handle_unknown='ignore'))]),\n",
       "                                                  ['Type', 'Gender',\n",
       "                                                   'Age range',\n",
       "                                                   'Officer-defined ethnicity',\n",
       "                                                   'Object of search',\n",
       "                                                   'station'])])),\n",
       "                ('model', LGBMClassifier(random_state=42))])"
      ]
     },
     "metadata": {},
     "execution_count": 17
    }
   ],
   "source": [
    "pipeline.fit(X_train, y_train)"
   ]
  },
  {
   "cell_type": "code",
   "execution_count": 18,
   "metadata": {},
   "outputs": [
    {
     "output_type": "execute_result",
     "data": {
      "text/plain": [
       "observation_id                   object\n",
       "Type                             object\n",
       "Date                             object\n",
       "Part of a policing operation       bool\n",
       "Latitude                        float64\n",
       "Longitude                       float64\n",
       "Gender                           object\n",
       "Age range                        object\n",
       "Officer-defined ethnicity        object\n",
       "Legislation                      object\n",
       "Object of search                 object\n",
       "station                          object\n",
       "dtype: object"
      ]
     },
     "metadata": {},
     "execution_count": 18
    }
   ],
   "source": [
    "df[columns].dtypes"
   ]
  },
  {
   "cell_type": "code",
   "execution_count": 19,
   "metadata": {},
   "outputs": [],
   "source": [
    "##Serializing the columns in the correct order\n",
    "\n",
    "with open( os.path.join(\"columns.json\"), 'w') as fh:\n",
    "    json.dump(columns, fh)\n",
    "  \n",
    "##Serializing the fitted pipeline\n",
    "joblib.dump(pipeline,os.path.join( \"pipeline.pickle\")) \n",
    "\n",
    "##Serializinf dtypes of columns\n",
    "with open(os.path.join('dtypes.pickle'), 'wb') as fh:\n",
    "    pickle.dump(df[columns].dtypes, fh)"
   ]
  }
 ]
}