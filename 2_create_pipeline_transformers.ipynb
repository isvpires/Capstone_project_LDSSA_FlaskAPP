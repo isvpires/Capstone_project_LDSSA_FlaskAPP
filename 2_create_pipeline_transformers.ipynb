{
 "metadata": {
  "language_info": {
   "codemirror_mode": {
    "name": "ipython",
    "version": 3
   },
   "file_extension": ".py",
   "mimetype": "text/x-python",
   "name": "python",
   "nbconvert_exporter": "python",
   "pygments_lexer": "ipython3",
   "version": "3.8.7-final"
  },
  "orig_nbformat": 2,
  "kernelspec": {
   "name": "python3",
   "display_name": "Python 3.8.7 64-bit",
   "metadata": {
    "interpreter": {
     "hash": "159b2715d1f8ca6549e90d6137a3140315700a939be49a7c4bb070e3c92e1a4f"
    }
   }
  }
 },
 "nbformat": 4,
 "nbformat_minor": 2,
 "cells": [
  {
   "cell_type": "code",
   "execution_count": 399,
   "metadata": {},
   "outputs": [],
   "source": [
    "import pandas as pd\n",
    "from sklearn.base import BaseEstimator, TransformerMixin\n",
    "from sklearn.pipeline import make_pipeline, Pipeline\n",
    "from sklearn.model_selection import cross_val_score\n",
    "from sklearn.preprocessing import OneHotEncoder\n",
    "\n",
    "from sklearn.compose import ColumnTransformer\n",
    "from sklearn.ensemble import RandomForestClassifier\n",
    "from sklearn.linear_model import LogisticRegression\n",
    "from sklearn.pipeline import Pipeline\n",
    "from sklearn.impute import SimpleImputer\n",
    "from sklearn.preprocessing import StandardScaler\n",
    "from sklearn.ensemble import RandomForestClassifier\n",
    "from sklearn.compose import ColumnTransformer\n",
    "\n",
    "from sklearn.pipeline import Pipeline\n",
    "\n",
    "# Standard imports\n",
    "import numpy as np\n",
    "import pandas as pd\n",
    "from collections import Counter, OrderedDict\n",
    "import re\n",
    "import string\n",
    "import inspect\n",
    "import os\n",
    "import datetime\n",
    "import matplotlib.pyplot as plt\n",
    "\n",
    "from sklearn.model_selection import train_test_split\n",
    "from sklearn.metrics import precision_score, recall_score, precision_recall_curve\n",
    "\n",
    "from lightgbm import LGBMClassifier\n",
    "\n",
    "from sklearn.metrics import confusion_matrix\n",
    "import seaborn as sns\n",
    "from sklearn.metrics import accuracy_score, precision_score, \\\n",
    "    recall_score, f1_score, roc_auc_score, roc_curve, confusion_matrix, precision_score, recall_score,precision_recall_curve\n",
    "\n",
    "\n"
   ]
  },
  {
   "cell_type": "code",
   "execution_count": 400,
   "metadata": {},
   "outputs": [
    {
     "output_type": "execute_result",
     "data": {
      "text/plain": [
       "                         observation_id           Type  \\\n",
       "0  34d76816-cfc2-4bdd-b3a2-bf0c40b12689  Person search   \n",
       "1  83c87ec1-e6d4-4bbb-8e0c-159516706359  Person search   \n",
       "2  8c2eae4b-035a-492f-92d6-cd27e6c900a1  Person search   \n",
       "3  e63a036a-a728-4efe-8e08-7198f56d6d0a  Person search   \n",
       "4  40c70aca-1f7f-4efe-8c5b-ade0f2e9937d  Person search   \n",
       "\n",
       "                        Date Part of a policing operation   Latitude  \\\n",
       "0  2019-12-01T00:00:00+00:00                         True        NaN   \n",
       "1  2019-12-01T00:09:00+00:00                         True        NaN   \n",
       "2  2019-12-01T00:10:00+00:00                         True        NaN   \n",
       "3  2019-12-01T00:10:00+00:00                        False        NaN   \n",
       "4  2019-12-01T00:12:00+00:00                         True  50.368247   \n",
       "\n",
       "   Longitude  Gender Age range  \\\n",
       "0        NaN    Male     18-24   \n",
       "1        NaN    Male     18-24   \n",
       "2        NaN  Female     18-24   \n",
       "3        NaN    Male     18-24   \n",
       "4  -4.126646    Male     18-24   \n",
       "\n",
       "                              Self-defined ethnicity  \\\n",
       "0   Asian/Asian British - Any other Asian background   \n",
       "1                                                NaN   \n",
       "2  White - English/Welsh/Scottish/Northern Irish/...   \n",
       "3                                                NaN   \n",
       "4                                                NaN   \n",
       "\n",
       "  Officer-defined ethnicity                            Legislation  \\\n",
       "0                     Asian  Misuse of Drugs Act 1971 (section 23)   \n",
       "1                     White  Misuse of Drugs Act 1971 (section 23)   \n",
       "2                     White  Misuse of Drugs Act 1971 (section 23)   \n",
       "3                     Asian  Misuse of Drugs Act 1971 (section 23)   \n",
       "4                     White  Misuse of Drugs Act 1971 (section 23)   \n",
       "\n",
       "   Object of search                       Outcome  \\\n",
       "0  Controlled drugs  A no further action disposal   \n",
       "1  Controlled drugs  A no further action disposal   \n",
       "2  Controlled drugs  A no further action disposal   \n",
       "3  Controlled drugs  A no further action disposal   \n",
       "4  Controlled drugs  A no further action disposal   \n",
       "\n",
       "  Outcome linked to object of search Removal of more than just outer clothing  \\\n",
       "0                                NaN                                    False   \n",
       "1                                NaN                                    False   \n",
       "2                                NaN                                    False   \n",
       "3                                NaN                                    False   \n",
       "4                                NaN                                    False   \n",
       "\n",
       "              station  \n",
       "0  devon-and-cornwall  \n",
       "1  devon-and-cornwall  \n",
       "2  devon-and-cornwall  \n",
       "3  devon-and-cornwall  \n",
       "4  devon-and-cornwall  "
      ],
      "text/html": "<div>\n<style scoped>\n    .dataframe tbody tr th:only-of-type {\n        vertical-align: middle;\n    }\n\n    .dataframe tbody tr th {\n        vertical-align: top;\n    }\n\n    .dataframe thead th {\n        text-align: right;\n    }\n</style>\n<table border=\"1\" class=\"dataframe\">\n  <thead>\n    <tr style=\"text-align: right;\">\n      <th></th>\n      <th>observation_id</th>\n      <th>Type</th>\n      <th>Date</th>\n      <th>Part of a policing operation</th>\n      <th>Latitude</th>\n      <th>Longitude</th>\n      <th>Gender</th>\n      <th>Age range</th>\n      <th>Self-defined ethnicity</th>\n      <th>Officer-defined ethnicity</th>\n      <th>Legislation</th>\n      <th>Object of search</th>\n      <th>Outcome</th>\n      <th>Outcome linked to object of search</th>\n      <th>Removal of more than just outer clothing</th>\n      <th>station</th>\n    </tr>\n  </thead>\n  <tbody>\n    <tr>\n      <th>0</th>\n      <td>34d76816-cfc2-4bdd-b3a2-bf0c40b12689</td>\n      <td>Person search</td>\n      <td>2019-12-01T00:00:00+00:00</td>\n      <td>True</td>\n      <td>NaN</td>\n      <td>NaN</td>\n      <td>Male</td>\n      <td>18-24</td>\n      <td>Asian/Asian British - Any other Asian background</td>\n      <td>Asian</td>\n      <td>Misuse of Drugs Act 1971 (section 23)</td>\n      <td>Controlled drugs</td>\n      <td>A no further action disposal</td>\n      <td>NaN</td>\n      <td>False</td>\n      <td>devon-and-cornwall</td>\n    </tr>\n    <tr>\n      <th>1</th>\n      <td>83c87ec1-e6d4-4bbb-8e0c-159516706359</td>\n      <td>Person search</td>\n      <td>2019-12-01T00:09:00+00:00</td>\n      <td>True</td>\n      <td>NaN</td>\n      <td>NaN</td>\n      <td>Male</td>\n      <td>18-24</td>\n      <td>NaN</td>\n      <td>White</td>\n      <td>Misuse of Drugs Act 1971 (section 23)</td>\n      <td>Controlled drugs</td>\n      <td>A no further action disposal</td>\n      <td>NaN</td>\n      <td>False</td>\n      <td>devon-and-cornwall</td>\n    </tr>\n    <tr>\n      <th>2</th>\n      <td>8c2eae4b-035a-492f-92d6-cd27e6c900a1</td>\n      <td>Person search</td>\n      <td>2019-12-01T00:10:00+00:00</td>\n      <td>True</td>\n      <td>NaN</td>\n      <td>NaN</td>\n      <td>Female</td>\n      <td>18-24</td>\n      <td>White - English/Welsh/Scottish/Northern Irish/...</td>\n      <td>White</td>\n      <td>Misuse of Drugs Act 1971 (section 23)</td>\n      <td>Controlled drugs</td>\n      <td>A no further action disposal</td>\n      <td>NaN</td>\n      <td>False</td>\n      <td>devon-and-cornwall</td>\n    </tr>\n    <tr>\n      <th>3</th>\n      <td>e63a036a-a728-4efe-8e08-7198f56d6d0a</td>\n      <td>Person search</td>\n      <td>2019-12-01T00:10:00+00:00</td>\n      <td>False</td>\n      <td>NaN</td>\n      <td>NaN</td>\n      <td>Male</td>\n      <td>18-24</td>\n      <td>NaN</td>\n      <td>Asian</td>\n      <td>Misuse of Drugs Act 1971 (section 23)</td>\n      <td>Controlled drugs</td>\n      <td>A no further action disposal</td>\n      <td>NaN</td>\n      <td>False</td>\n      <td>devon-and-cornwall</td>\n    </tr>\n    <tr>\n      <th>4</th>\n      <td>40c70aca-1f7f-4efe-8c5b-ade0f2e9937d</td>\n      <td>Person search</td>\n      <td>2019-12-01T00:12:00+00:00</td>\n      <td>True</td>\n      <td>50.368247</td>\n      <td>-4.126646</td>\n      <td>Male</td>\n      <td>18-24</td>\n      <td>NaN</td>\n      <td>White</td>\n      <td>Misuse of Drugs Act 1971 (section 23)</td>\n      <td>Controlled drugs</td>\n      <td>A no further action disposal</td>\n      <td>NaN</td>\n      <td>False</td>\n      <td>devon-and-cornwall</td>\n    </tr>\n  </tbody>\n</table>\n</div>"
     },
     "metadata": {},
     "execution_count": 400
    }
   ],
   "source": [
    "df = pd.read_csv('data/train.csv')\n",
    "df.head()\n"
   ]
  },
  {
   "source": [
    "# 1. Flag Search Success"
   ],
   "cell_type": "markdown",
   "metadata": {}
  },
  {
   "cell_type": "code",
   "execution_count": 401,
   "metadata": {},
   "outputs": [],
   "source": [
    "class Mask_OutcomePositive(BaseEstimator, TransformerMixin):\n",
    "\n",
    "    #Return self nothing else to do here\n",
    "    def fit( self, X=None, y = None):\n",
    "        return self\n",
    "    #Method that describes what we need this transformer to do\n",
    "    def transform( self, X, y=None):\n",
    "\n",
    "        df = X.copy()\n",
    "        def mask(value):\n",
    "            if value == 'A no further action disposal':\n",
    "                return False\n",
    "            elif value == 'Nothing found - no further action':\n",
    "                return False\n",
    "            else: \n",
    "                return True\n",
    "\n",
    "        df['outcome_positive'] = df.Outcome.apply(mask)\n",
    "        return df"
   ]
  },
  {
   "cell_type": "code",
   "execution_count": 402,
   "metadata": {},
   "outputs": [
    {
     "output_type": "execute_result",
     "data": {
      "text/plain": [
       "                              observation_id                       Type  \\\n",
       "0       34d76816-cfc2-4bdd-b3a2-bf0c40b12689              Person search   \n",
       "1       83c87ec1-e6d4-4bbb-8e0c-159516706359              Person search   \n",
       "2       8c2eae4b-035a-492f-92d6-cd27e6c900a1              Person search   \n",
       "3       e63a036a-a728-4efe-8e08-7198f56d6d0a              Person search   \n",
       "4       40c70aca-1f7f-4efe-8c5b-ade0f2e9937d              Person search   \n",
       "...                                      ...                        ...   \n",
       "660606  a23dc59d-29fe-48e5-b012-81feb6acfddf              Person search   \n",
       "660607  425fde18-f7d5-4ebe-baf4-714cadd5a445  Person and Vehicle search   \n",
       "660608  7c249ab7-d4bf-47ef-86bd-aad51d7d2aab              Person search   \n",
       "660609  4fa54513-20c4-4a53-a5db-8a4bb85b1e32              Person search   \n",
       "660610  4d8604d3-9864-4fd5-a811-f8ce7bed619a              Person search   \n",
       "\n",
       "                             Date Part of a policing operation   Latitude  \\\n",
       "0       2019-12-01T00:00:00+00:00                         True        NaN   \n",
       "1       2019-12-01T00:09:00+00:00                         True        NaN   \n",
       "2       2019-12-01T00:10:00+00:00                         True        NaN   \n",
       "3       2019-12-01T00:10:00+00:00                        False        NaN   \n",
       "4       2019-12-01T00:12:00+00:00                         True  50.368247   \n",
       "...                           ...                          ...        ...   \n",
       "660606  2018-08-29T02:45:00+00:00                          NaN        NaN   \n",
       "660607  2018-08-29T21:00:00+00:00                        False  51.540219   \n",
       "660608  2018-08-29T21:10:00+00:00                        False  51.540219   \n",
       "660609  2018-08-29T21:15:00+00:00                        False  51.540219   \n",
       "660610  2018-08-30T13:15:00+00:00                          NaN        NaN   \n",
       "\n",
       "        Longitude  Gender Age range  \\\n",
       "0             NaN    Male     18-24   \n",
       "1             NaN    Male     18-24   \n",
       "2             NaN  Female     18-24   \n",
       "3             NaN    Male     18-24   \n",
       "4       -4.126646    Male     18-24   \n",
       "...           ...     ...       ...   \n",
       "660606        NaN    Male     18-24   \n",
       "660607  -1.764708    Male     18-24   \n",
       "660608  -1.764708    Male     18-24   \n",
       "660609  -1.764708    Male     18-24   \n",
       "660610        NaN  Female   over 34   \n",
       "\n",
       "                                   Self-defined ethnicity  \\\n",
       "0        Asian/Asian British - Any other Asian background   \n",
       "1                                                     NaN   \n",
       "2       White - English/Welsh/Scottish/Northern Irish/...   \n",
       "3                                                     NaN   \n",
       "4                                                     NaN   \n",
       "...                                                   ...   \n",
       "660606  White - English/Welsh/Scottish/Northern Irish/...   \n",
       "660607  White - English/Welsh/Scottish/Northern Irish/...   \n",
       "660608  White - English/Welsh/Scottish/Northern Irish/...   \n",
       "660609  White - English/Welsh/Scottish/Northern Irish/...   \n",
       "660610  White - English/Welsh/Scottish/Northern Irish/...   \n",
       "\n",
       "       Officer-defined ethnicity                            Legislation  \\\n",
       "0                          Asian  Misuse of Drugs Act 1971 (section 23)   \n",
       "1                          White  Misuse of Drugs Act 1971 (section 23)   \n",
       "2                          White  Misuse of Drugs Act 1971 (section 23)   \n",
       "3                          Asian  Misuse of Drugs Act 1971 (section 23)   \n",
       "4                          White  Misuse of Drugs Act 1971 (section 23)   \n",
       "...                          ...                                    ...   \n",
       "660606                     White  Misuse of Drugs Act 1971 (section 23)   \n",
       "660607                     White  Misuse of Drugs Act 1971 (section 23)   \n",
       "660608                     White  Misuse of Drugs Act 1971 (section 23)   \n",
       "660609                     White  Misuse of Drugs Act 1971 (section 23)   \n",
       "660610                     White  Misuse of Drugs Act 1971 (section 23)   \n",
       "\n",
       "        Object of search                          Outcome  \\\n",
       "0       Controlled drugs     A no further action disposal   \n",
       "1       Controlled drugs     A no further action disposal   \n",
       "2       Controlled drugs     A no further action disposal   \n",
       "3       Controlled drugs     A no further action disposal   \n",
       "4       Controlled drugs     A no further action disposal   \n",
       "...                  ...                              ...   \n",
       "660606  Controlled drugs     A no further action disposal   \n",
       "660607  Controlled drugs      Penalty Notice for Disorder   \n",
       "660608  Controlled drugs     A no further action disposal   \n",
       "660609  Controlled drugs     A no further action disposal   \n",
       "660610  Controlled drugs  Caution (simple or conditional)   \n",
       "\n",
       "       Outcome linked to object of search  \\\n",
       "0                                     NaN   \n",
       "1                                     NaN   \n",
       "2                                     NaN   \n",
       "3                                     NaN   \n",
       "4                                     NaN   \n",
       "...                                   ...   \n",
       "660606                                NaN   \n",
       "660607                               True   \n",
       "660608                                NaN   \n",
       "660609                                NaN   \n",
       "660610                                NaN   \n",
       "\n",
       "       Removal of more than just outer clothing             station  \\\n",
       "0                                         False  devon-and-cornwall   \n",
       "1                                         False  devon-and-cornwall   \n",
       "2                                         False  devon-and-cornwall   \n",
       "3                                         False  devon-and-cornwall   \n",
       "4                                         False  devon-and-cornwall   \n",
       "...                                         ...                 ...   \n",
       "660606                                      NaN           wiltshire   \n",
       "660607                                    False           wiltshire   \n",
       "660608                                    False           wiltshire   \n",
       "660609                                    False           wiltshire   \n",
       "660610                                      NaN           wiltshire   \n",
       "\n",
       "        outcome_positive  \n",
       "0                  False  \n",
       "1                  False  \n",
       "2                  False  \n",
       "3                  False  \n",
       "4                  False  \n",
       "...                  ...  \n",
       "660606             False  \n",
       "660607              True  \n",
       "660608             False  \n",
       "660609             False  \n",
       "660610              True  \n",
       "\n",
       "[660611 rows x 17 columns]"
      ],
      "text/html": "<div>\n<style scoped>\n    .dataframe tbody tr th:only-of-type {\n        vertical-align: middle;\n    }\n\n    .dataframe tbody tr th {\n        vertical-align: top;\n    }\n\n    .dataframe thead th {\n        text-align: right;\n    }\n</style>\n<table border=\"1\" class=\"dataframe\">\n  <thead>\n    <tr style=\"text-align: right;\">\n      <th></th>\n      <th>observation_id</th>\n      <th>Type</th>\n      <th>Date</th>\n      <th>Part of a policing operation</th>\n      <th>Latitude</th>\n      <th>Longitude</th>\n      <th>Gender</th>\n      <th>Age range</th>\n      <th>Self-defined ethnicity</th>\n      <th>Officer-defined ethnicity</th>\n      <th>Legislation</th>\n      <th>Object of search</th>\n      <th>Outcome</th>\n      <th>Outcome linked to object of search</th>\n      <th>Removal of more than just outer clothing</th>\n      <th>station</th>\n      <th>outcome_positive</th>\n    </tr>\n  </thead>\n  <tbody>\n    <tr>\n      <th>0</th>\n      <td>34d76816-cfc2-4bdd-b3a2-bf0c40b12689</td>\n      <td>Person search</td>\n      <td>2019-12-01T00:00:00+00:00</td>\n      <td>True</td>\n      <td>NaN</td>\n      <td>NaN</td>\n      <td>Male</td>\n      <td>18-24</td>\n      <td>Asian/Asian British - Any other Asian background</td>\n      <td>Asian</td>\n      <td>Misuse of Drugs Act 1971 (section 23)</td>\n      <td>Controlled drugs</td>\n      <td>A no further action disposal</td>\n      <td>NaN</td>\n      <td>False</td>\n      <td>devon-and-cornwall</td>\n      <td>False</td>\n    </tr>\n    <tr>\n      <th>1</th>\n      <td>83c87ec1-e6d4-4bbb-8e0c-159516706359</td>\n      <td>Person search</td>\n      <td>2019-12-01T00:09:00+00:00</td>\n      <td>True</td>\n      <td>NaN</td>\n      <td>NaN</td>\n      <td>Male</td>\n      <td>18-24</td>\n      <td>NaN</td>\n      <td>White</td>\n      <td>Misuse of Drugs Act 1971 (section 23)</td>\n      <td>Controlled drugs</td>\n      <td>A no further action disposal</td>\n      <td>NaN</td>\n      <td>False</td>\n      <td>devon-and-cornwall</td>\n      <td>False</td>\n    </tr>\n    <tr>\n      <th>2</th>\n      <td>8c2eae4b-035a-492f-92d6-cd27e6c900a1</td>\n      <td>Person search</td>\n      <td>2019-12-01T00:10:00+00:00</td>\n      <td>True</td>\n      <td>NaN</td>\n      <td>NaN</td>\n      <td>Female</td>\n      <td>18-24</td>\n      <td>White - English/Welsh/Scottish/Northern Irish/...</td>\n      <td>White</td>\n      <td>Misuse of Drugs Act 1971 (section 23)</td>\n      <td>Controlled drugs</td>\n      <td>A no further action disposal</td>\n      <td>NaN</td>\n      <td>False</td>\n      <td>devon-and-cornwall</td>\n      <td>False</td>\n    </tr>\n    <tr>\n      <th>3</th>\n      <td>e63a036a-a728-4efe-8e08-7198f56d6d0a</td>\n      <td>Person search</td>\n      <td>2019-12-01T00:10:00+00:00</td>\n      <td>False</td>\n      <td>NaN</td>\n      <td>NaN</td>\n      <td>Male</td>\n      <td>18-24</td>\n      <td>NaN</td>\n      <td>Asian</td>\n      <td>Misuse of Drugs Act 1971 (section 23)</td>\n      <td>Controlled drugs</td>\n      <td>A no further action disposal</td>\n      <td>NaN</td>\n      <td>False</td>\n      <td>devon-and-cornwall</td>\n      <td>False</td>\n    </tr>\n    <tr>\n      <th>4</th>\n      <td>40c70aca-1f7f-4efe-8c5b-ade0f2e9937d</td>\n      <td>Person search</td>\n      <td>2019-12-01T00:12:00+00:00</td>\n      <td>True</td>\n      <td>50.368247</td>\n      <td>-4.126646</td>\n      <td>Male</td>\n      <td>18-24</td>\n      <td>NaN</td>\n      <td>White</td>\n      <td>Misuse of Drugs Act 1971 (section 23)</td>\n      <td>Controlled drugs</td>\n      <td>A no further action disposal</td>\n      <td>NaN</td>\n      <td>False</td>\n      <td>devon-and-cornwall</td>\n      <td>False</td>\n    </tr>\n    <tr>\n      <th>...</th>\n      <td>...</td>\n      <td>...</td>\n      <td>...</td>\n      <td>...</td>\n      <td>...</td>\n      <td>...</td>\n      <td>...</td>\n      <td>...</td>\n      <td>...</td>\n      <td>...</td>\n      <td>...</td>\n      <td>...</td>\n      <td>...</td>\n      <td>...</td>\n      <td>...</td>\n      <td>...</td>\n      <td>...</td>\n    </tr>\n    <tr>\n      <th>660606</th>\n      <td>a23dc59d-29fe-48e5-b012-81feb6acfddf</td>\n      <td>Person search</td>\n      <td>2018-08-29T02:45:00+00:00</td>\n      <td>NaN</td>\n      <td>NaN</td>\n      <td>NaN</td>\n      <td>Male</td>\n      <td>18-24</td>\n      <td>White - English/Welsh/Scottish/Northern Irish/...</td>\n      <td>White</td>\n      <td>Misuse of Drugs Act 1971 (section 23)</td>\n      <td>Controlled drugs</td>\n      <td>A no further action disposal</td>\n      <td>NaN</td>\n      <td>NaN</td>\n      <td>wiltshire</td>\n      <td>False</td>\n    </tr>\n    <tr>\n      <th>660607</th>\n      <td>425fde18-f7d5-4ebe-baf4-714cadd5a445</td>\n      <td>Person and Vehicle search</td>\n      <td>2018-08-29T21:00:00+00:00</td>\n      <td>False</td>\n      <td>51.540219</td>\n      <td>-1.764708</td>\n      <td>Male</td>\n      <td>18-24</td>\n      <td>White - English/Welsh/Scottish/Northern Irish/...</td>\n      <td>White</td>\n      <td>Misuse of Drugs Act 1971 (section 23)</td>\n      <td>Controlled drugs</td>\n      <td>Penalty Notice for Disorder</td>\n      <td>True</td>\n      <td>False</td>\n      <td>wiltshire</td>\n      <td>True</td>\n    </tr>\n    <tr>\n      <th>660608</th>\n      <td>7c249ab7-d4bf-47ef-86bd-aad51d7d2aab</td>\n      <td>Person search</td>\n      <td>2018-08-29T21:10:00+00:00</td>\n      <td>False</td>\n      <td>51.540219</td>\n      <td>-1.764708</td>\n      <td>Male</td>\n      <td>18-24</td>\n      <td>White - English/Welsh/Scottish/Northern Irish/...</td>\n      <td>White</td>\n      <td>Misuse of Drugs Act 1971 (section 23)</td>\n      <td>Controlled drugs</td>\n      <td>A no further action disposal</td>\n      <td>NaN</td>\n      <td>False</td>\n      <td>wiltshire</td>\n      <td>False</td>\n    </tr>\n    <tr>\n      <th>660609</th>\n      <td>4fa54513-20c4-4a53-a5db-8a4bb85b1e32</td>\n      <td>Person search</td>\n      <td>2018-08-29T21:15:00+00:00</td>\n      <td>False</td>\n      <td>51.540219</td>\n      <td>-1.764708</td>\n      <td>Male</td>\n      <td>18-24</td>\n      <td>White - English/Welsh/Scottish/Northern Irish/...</td>\n      <td>White</td>\n      <td>Misuse of Drugs Act 1971 (section 23)</td>\n      <td>Controlled drugs</td>\n      <td>A no further action disposal</td>\n      <td>NaN</td>\n      <td>False</td>\n      <td>wiltshire</td>\n      <td>False</td>\n    </tr>\n    <tr>\n      <th>660610</th>\n      <td>4d8604d3-9864-4fd5-a811-f8ce7bed619a</td>\n      <td>Person search</td>\n      <td>2018-08-30T13:15:00+00:00</td>\n      <td>NaN</td>\n      <td>NaN</td>\n      <td>NaN</td>\n      <td>Female</td>\n      <td>over 34</td>\n      <td>White - English/Welsh/Scottish/Northern Irish/...</td>\n      <td>White</td>\n      <td>Misuse of Drugs Act 1971 (section 23)</td>\n      <td>Controlled drugs</td>\n      <td>Caution (simple or conditional)</td>\n      <td>NaN</td>\n      <td>NaN</td>\n      <td>wiltshire</td>\n      <td>True</td>\n    </tr>\n  </tbody>\n</table>\n<p>660611 rows × 17 columns</p>\n</div>"
     },
     "metadata": {},
     "execution_count": 402
    }
   ],
   "source": [
    "df = Mask_OutcomePositive().fit_transform(df)\n",
    "df"
   ]
  },
  {
   "cell_type": "code",
   "execution_count": 403,
   "metadata": {},
   "outputs": [],
   "source": [
    "columns = df.columns"
   ]
  },
  {
   "source": [
    "class Mask_SearchSuccess(BaseEstimator, TransformerMixin):\n",
    "\n",
    "    #Return self nothing else to do here\n",
    "    def fit( self, X, y = None):\n",
    "        return self\n",
    "    #Method that describes what we need this transformer to do\n",
    "    def transform( self, X, y = None):\n",
    "\n",
    "        df = X.copy()\n",
    "        def mask(a, b):\n",
    "            if a == True and b == True:\n",
    "                return True\n",
    "            else:\n",
    "                return False  \n",
    "\n",
    "        df['search_success'] = df.apply(lambda row: mask(row['outcome_positive'], row['Outcome linked to object of search']), axis=1)\n",
    "        return df"
   ],
   "cell_type": "code",
   "metadata": {},
   "execution_count": 404,
   "outputs": []
  },
  {
   "cell_type": "code",
   "execution_count": 405,
   "metadata": {},
   "outputs": [
    {
     "output_type": "execute_result",
     "data": {
      "text/plain": [
       "                              observation_id                       Type  \\\n",
       "0       34d76816-cfc2-4bdd-b3a2-bf0c40b12689              Person search   \n",
       "1       83c87ec1-e6d4-4bbb-8e0c-159516706359              Person search   \n",
       "2       8c2eae4b-035a-492f-92d6-cd27e6c900a1              Person search   \n",
       "3       e63a036a-a728-4efe-8e08-7198f56d6d0a              Person search   \n",
       "4       40c70aca-1f7f-4efe-8c5b-ade0f2e9937d              Person search   \n",
       "...                                      ...                        ...   \n",
       "660606  a23dc59d-29fe-48e5-b012-81feb6acfddf              Person search   \n",
       "660607  425fde18-f7d5-4ebe-baf4-714cadd5a445  Person and Vehicle search   \n",
       "660608  7c249ab7-d4bf-47ef-86bd-aad51d7d2aab              Person search   \n",
       "660609  4fa54513-20c4-4a53-a5db-8a4bb85b1e32              Person search   \n",
       "660610  4d8604d3-9864-4fd5-a811-f8ce7bed619a              Person search   \n",
       "\n",
       "                             Date Part of a policing operation   Latitude  \\\n",
       "0       2019-12-01T00:00:00+00:00                         True        NaN   \n",
       "1       2019-12-01T00:09:00+00:00                         True        NaN   \n",
       "2       2019-12-01T00:10:00+00:00                         True        NaN   \n",
       "3       2019-12-01T00:10:00+00:00                        False        NaN   \n",
       "4       2019-12-01T00:12:00+00:00                         True  50.368247   \n",
       "...                           ...                          ...        ...   \n",
       "660606  2018-08-29T02:45:00+00:00                          NaN        NaN   \n",
       "660607  2018-08-29T21:00:00+00:00                        False  51.540219   \n",
       "660608  2018-08-29T21:10:00+00:00                        False  51.540219   \n",
       "660609  2018-08-29T21:15:00+00:00                        False  51.540219   \n",
       "660610  2018-08-30T13:15:00+00:00                          NaN        NaN   \n",
       "\n",
       "        Longitude  Gender Age range  \\\n",
       "0             NaN    Male     18-24   \n",
       "1             NaN    Male     18-24   \n",
       "2             NaN  Female     18-24   \n",
       "3             NaN    Male     18-24   \n",
       "4       -4.126646    Male     18-24   \n",
       "...           ...     ...       ...   \n",
       "660606        NaN    Male     18-24   \n",
       "660607  -1.764708    Male     18-24   \n",
       "660608  -1.764708    Male     18-24   \n",
       "660609  -1.764708    Male     18-24   \n",
       "660610        NaN  Female   over 34   \n",
       "\n",
       "                                   Self-defined ethnicity  \\\n",
       "0        Asian/Asian British - Any other Asian background   \n",
       "1                                                     NaN   \n",
       "2       White - English/Welsh/Scottish/Northern Irish/...   \n",
       "3                                                     NaN   \n",
       "4                                                     NaN   \n",
       "...                                                   ...   \n",
       "660606  White - English/Welsh/Scottish/Northern Irish/...   \n",
       "660607  White - English/Welsh/Scottish/Northern Irish/...   \n",
       "660608  White - English/Welsh/Scottish/Northern Irish/...   \n",
       "660609  White - English/Welsh/Scottish/Northern Irish/...   \n",
       "660610  White - English/Welsh/Scottish/Northern Irish/...   \n",
       "\n",
       "       Officer-defined ethnicity                            Legislation  \\\n",
       "0                          Asian  Misuse of Drugs Act 1971 (section 23)   \n",
       "1                          White  Misuse of Drugs Act 1971 (section 23)   \n",
       "2                          White  Misuse of Drugs Act 1971 (section 23)   \n",
       "3                          Asian  Misuse of Drugs Act 1971 (section 23)   \n",
       "4                          White  Misuse of Drugs Act 1971 (section 23)   \n",
       "...                          ...                                    ...   \n",
       "660606                     White  Misuse of Drugs Act 1971 (section 23)   \n",
       "660607                     White  Misuse of Drugs Act 1971 (section 23)   \n",
       "660608                     White  Misuse of Drugs Act 1971 (section 23)   \n",
       "660609                     White  Misuse of Drugs Act 1971 (section 23)   \n",
       "660610                     White  Misuse of Drugs Act 1971 (section 23)   \n",
       "\n",
       "        Object of search                          Outcome  \\\n",
       "0       Controlled drugs     A no further action disposal   \n",
       "1       Controlled drugs     A no further action disposal   \n",
       "2       Controlled drugs     A no further action disposal   \n",
       "3       Controlled drugs     A no further action disposal   \n",
       "4       Controlled drugs     A no further action disposal   \n",
       "...                  ...                              ...   \n",
       "660606  Controlled drugs     A no further action disposal   \n",
       "660607  Controlled drugs      Penalty Notice for Disorder   \n",
       "660608  Controlled drugs     A no further action disposal   \n",
       "660609  Controlled drugs     A no further action disposal   \n",
       "660610  Controlled drugs  Caution (simple or conditional)   \n",
       "\n",
       "       Outcome linked to object of search  \\\n",
       "0                                     NaN   \n",
       "1                                     NaN   \n",
       "2                                     NaN   \n",
       "3                                     NaN   \n",
       "4                                     NaN   \n",
       "...                                   ...   \n",
       "660606                                NaN   \n",
       "660607                               True   \n",
       "660608                                NaN   \n",
       "660609                                NaN   \n",
       "660610                                NaN   \n",
       "\n",
       "       Removal of more than just outer clothing             station  \\\n",
       "0                                         False  devon-and-cornwall   \n",
       "1                                         False  devon-and-cornwall   \n",
       "2                                         False  devon-and-cornwall   \n",
       "3                                         False  devon-and-cornwall   \n",
       "4                                         False  devon-and-cornwall   \n",
       "...                                         ...                 ...   \n",
       "660606                                      NaN           wiltshire   \n",
       "660607                                    False           wiltshire   \n",
       "660608                                    False           wiltshire   \n",
       "660609                                    False           wiltshire   \n",
       "660610                                      NaN           wiltshire   \n",
       "\n",
       "        outcome_positive  search_success  \n",
       "0                  False           False  \n",
       "1                  False           False  \n",
       "2                  False           False  \n",
       "3                  False           False  \n",
       "4                  False           False  \n",
       "...                  ...             ...  \n",
       "660606             False           False  \n",
       "660607              True            True  \n",
       "660608             False           False  \n",
       "660609             False           False  \n",
       "660610              True           False  \n",
       "\n",
       "[660611 rows x 18 columns]"
      ],
      "text/html": "<div>\n<style scoped>\n    .dataframe tbody tr th:only-of-type {\n        vertical-align: middle;\n    }\n\n    .dataframe tbody tr th {\n        vertical-align: top;\n    }\n\n    .dataframe thead th {\n        text-align: right;\n    }\n</style>\n<table border=\"1\" class=\"dataframe\">\n  <thead>\n    <tr style=\"text-align: right;\">\n      <th></th>\n      <th>observation_id</th>\n      <th>Type</th>\n      <th>Date</th>\n      <th>Part of a policing operation</th>\n      <th>Latitude</th>\n      <th>Longitude</th>\n      <th>Gender</th>\n      <th>Age range</th>\n      <th>Self-defined ethnicity</th>\n      <th>Officer-defined ethnicity</th>\n      <th>Legislation</th>\n      <th>Object of search</th>\n      <th>Outcome</th>\n      <th>Outcome linked to object of search</th>\n      <th>Removal of more than just outer clothing</th>\n      <th>station</th>\n      <th>outcome_positive</th>\n      <th>search_success</th>\n    </tr>\n  </thead>\n  <tbody>\n    <tr>\n      <th>0</th>\n      <td>34d76816-cfc2-4bdd-b3a2-bf0c40b12689</td>\n      <td>Person search</td>\n      <td>2019-12-01T00:00:00+00:00</td>\n      <td>True</td>\n      <td>NaN</td>\n      <td>NaN</td>\n      <td>Male</td>\n      <td>18-24</td>\n      <td>Asian/Asian British - Any other Asian background</td>\n      <td>Asian</td>\n      <td>Misuse of Drugs Act 1971 (section 23)</td>\n      <td>Controlled drugs</td>\n      <td>A no further action disposal</td>\n      <td>NaN</td>\n      <td>False</td>\n      <td>devon-and-cornwall</td>\n      <td>False</td>\n      <td>False</td>\n    </tr>\n    <tr>\n      <th>1</th>\n      <td>83c87ec1-e6d4-4bbb-8e0c-159516706359</td>\n      <td>Person search</td>\n      <td>2019-12-01T00:09:00+00:00</td>\n      <td>True</td>\n      <td>NaN</td>\n      <td>NaN</td>\n      <td>Male</td>\n      <td>18-24</td>\n      <td>NaN</td>\n      <td>White</td>\n      <td>Misuse of Drugs Act 1971 (section 23)</td>\n      <td>Controlled drugs</td>\n      <td>A no further action disposal</td>\n      <td>NaN</td>\n      <td>False</td>\n      <td>devon-and-cornwall</td>\n      <td>False</td>\n      <td>False</td>\n    </tr>\n    <tr>\n      <th>2</th>\n      <td>8c2eae4b-035a-492f-92d6-cd27e6c900a1</td>\n      <td>Person search</td>\n      <td>2019-12-01T00:10:00+00:00</td>\n      <td>True</td>\n      <td>NaN</td>\n      <td>NaN</td>\n      <td>Female</td>\n      <td>18-24</td>\n      <td>White - English/Welsh/Scottish/Northern Irish/...</td>\n      <td>White</td>\n      <td>Misuse of Drugs Act 1971 (section 23)</td>\n      <td>Controlled drugs</td>\n      <td>A no further action disposal</td>\n      <td>NaN</td>\n      <td>False</td>\n      <td>devon-and-cornwall</td>\n      <td>False</td>\n      <td>False</td>\n    </tr>\n    <tr>\n      <th>3</th>\n      <td>e63a036a-a728-4efe-8e08-7198f56d6d0a</td>\n      <td>Person search</td>\n      <td>2019-12-01T00:10:00+00:00</td>\n      <td>False</td>\n      <td>NaN</td>\n      <td>NaN</td>\n      <td>Male</td>\n      <td>18-24</td>\n      <td>NaN</td>\n      <td>Asian</td>\n      <td>Misuse of Drugs Act 1971 (section 23)</td>\n      <td>Controlled drugs</td>\n      <td>A no further action disposal</td>\n      <td>NaN</td>\n      <td>False</td>\n      <td>devon-and-cornwall</td>\n      <td>False</td>\n      <td>False</td>\n    </tr>\n    <tr>\n      <th>4</th>\n      <td>40c70aca-1f7f-4efe-8c5b-ade0f2e9937d</td>\n      <td>Person search</td>\n      <td>2019-12-01T00:12:00+00:00</td>\n      <td>True</td>\n      <td>50.368247</td>\n      <td>-4.126646</td>\n      <td>Male</td>\n      <td>18-24</td>\n      <td>NaN</td>\n      <td>White</td>\n      <td>Misuse of Drugs Act 1971 (section 23)</td>\n      <td>Controlled drugs</td>\n      <td>A no further action disposal</td>\n      <td>NaN</td>\n      <td>False</td>\n      <td>devon-and-cornwall</td>\n      <td>False</td>\n      <td>False</td>\n    </tr>\n    <tr>\n      <th>...</th>\n      <td>...</td>\n      <td>...</td>\n      <td>...</td>\n      <td>...</td>\n      <td>...</td>\n      <td>...</td>\n      <td>...</td>\n      <td>...</td>\n      <td>...</td>\n      <td>...</td>\n      <td>...</td>\n      <td>...</td>\n      <td>...</td>\n      <td>...</td>\n      <td>...</td>\n      <td>...</td>\n      <td>...</td>\n      <td>...</td>\n    </tr>\n    <tr>\n      <th>660606</th>\n      <td>a23dc59d-29fe-48e5-b012-81feb6acfddf</td>\n      <td>Person search</td>\n      <td>2018-08-29T02:45:00+00:00</td>\n      <td>NaN</td>\n      <td>NaN</td>\n      <td>NaN</td>\n      <td>Male</td>\n      <td>18-24</td>\n      <td>White - English/Welsh/Scottish/Northern Irish/...</td>\n      <td>White</td>\n      <td>Misuse of Drugs Act 1971 (section 23)</td>\n      <td>Controlled drugs</td>\n      <td>A no further action disposal</td>\n      <td>NaN</td>\n      <td>NaN</td>\n      <td>wiltshire</td>\n      <td>False</td>\n      <td>False</td>\n    </tr>\n    <tr>\n      <th>660607</th>\n      <td>425fde18-f7d5-4ebe-baf4-714cadd5a445</td>\n      <td>Person and Vehicle search</td>\n      <td>2018-08-29T21:00:00+00:00</td>\n      <td>False</td>\n      <td>51.540219</td>\n      <td>-1.764708</td>\n      <td>Male</td>\n      <td>18-24</td>\n      <td>White - English/Welsh/Scottish/Northern Irish/...</td>\n      <td>White</td>\n      <td>Misuse of Drugs Act 1971 (section 23)</td>\n      <td>Controlled drugs</td>\n      <td>Penalty Notice for Disorder</td>\n      <td>True</td>\n      <td>False</td>\n      <td>wiltshire</td>\n      <td>True</td>\n      <td>True</td>\n    </tr>\n    <tr>\n      <th>660608</th>\n      <td>7c249ab7-d4bf-47ef-86bd-aad51d7d2aab</td>\n      <td>Person search</td>\n      <td>2018-08-29T21:10:00+00:00</td>\n      <td>False</td>\n      <td>51.540219</td>\n      <td>-1.764708</td>\n      <td>Male</td>\n      <td>18-24</td>\n      <td>White - English/Welsh/Scottish/Northern Irish/...</td>\n      <td>White</td>\n      <td>Misuse of Drugs Act 1971 (section 23)</td>\n      <td>Controlled drugs</td>\n      <td>A no further action disposal</td>\n      <td>NaN</td>\n      <td>False</td>\n      <td>wiltshire</td>\n      <td>False</td>\n      <td>False</td>\n    </tr>\n    <tr>\n      <th>660609</th>\n      <td>4fa54513-20c4-4a53-a5db-8a4bb85b1e32</td>\n      <td>Person search</td>\n      <td>2018-08-29T21:15:00+00:00</td>\n      <td>False</td>\n      <td>51.540219</td>\n      <td>-1.764708</td>\n      <td>Male</td>\n      <td>18-24</td>\n      <td>White - English/Welsh/Scottish/Northern Irish/...</td>\n      <td>White</td>\n      <td>Misuse of Drugs Act 1971 (section 23)</td>\n      <td>Controlled drugs</td>\n      <td>A no further action disposal</td>\n      <td>NaN</td>\n      <td>False</td>\n      <td>wiltshire</td>\n      <td>False</td>\n      <td>False</td>\n    </tr>\n    <tr>\n      <th>660610</th>\n      <td>4d8604d3-9864-4fd5-a811-f8ce7bed619a</td>\n      <td>Person search</td>\n      <td>2018-08-30T13:15:00+00:00</td>\n      <td>NaN</td>\n      <td>NaN</td>\n      <td>NaN</td>\n      <td>Female</td>\n      <td>over 34</td>\n      <td>White - English/Welsh/Scottish/Northern Irish/...</td>\n      <td>White</td>\n      <td>Misuse of Drugs Act 1971 (section 23)</td>\n      <td>Controlled drugs</td>\n      <td>Caution (simple or conditional)</td>\n      <td>NaN</td>\n      <td>NaN</td>\n      <td>wiltshire</td>\n      <td>True</td>\n      <td>False</td>\n    </tr>\n  </tbody>\n</table>\n<p>660611 rows × 18 columns</p>\n</div>"
     },
     "metadata": {},
     "execution_count": 405
    }
   ],
   "source": [
    "df = Mask_SearchSuccess().fit_transform(df)\n",
    "df"
   ]
  },
  {
   "source": [
    "# 2. Filter"
   ],
   "cell_type": "markdown",
   "metadata": {}
  },
  {
   "cell_type": "code",
   "execution_count": 406,
   "metadata": {},
   "outputs": [],
   "source": [
    "# Filter rows of the station Metropolitain"
   ]
  },
  {
   "cell_type": "code",
   "execution_count": 407,
   "metadata": {},
   "outputs": [],
   "source": [
    "class Filter_ColumnValue(BaseEstimator, TransformerMixin):\n",
    "    \"\"\"\n",
    "\n",
    "    \"\"\"\n",
    "    def __init__(self, col, value):\n",
    "        self.col = col\n",
    "        self.value = value\n",
    "\n",
    "    def fit(self, X, y=None):\n",
    "        return self\n",
    "\n",
    "    def transform(self, X, y=None):\n",
    "        X_copy = X.copy()\n",
    "        X = X[X['station'] != self.value]\n",
    "        \n",
    "        return X"
   ]
  },
  {
   "cell_type": "code",
   "execution_count": 408,
   "metadata": {},
   "outputs": [],
   "source": [
    "df = Filter_ColumnValue(col='station', value='metropolitan').fit_transform(df)"
   ]
  },
  {
   "cell_type": "code",
   "execution_count": 409,
   "metadata": {},
   "outputs": [],
   "source": [
    "class FilterRowsYear(BaseEstimator, TransformerMixin):\n",
    "    \"\"\"\n",
    "\n",
    "    \"\"\"\n",
    "    def __init__(self, date_feature, year):\n",
    "        self.date_feature = date_feature\n",
    "        self.year = year\n",
    "\n",
    "    def fit(self, X, y=None):\n",
    "        return self\n",
    "\n",
    "    def transform(self, X, y=None):\n",
    "        X_copy = X.copy()\n",
    "        X[self.date_feature] = pd.to_datetime(X[self.date_feature], errors='coerce', yearfirst=True, format=\"%Y-%m-%dT%H:%M:%S+%f:00\")\n",
    "        X = X[ X[self.date_feature].dt.year == self.year]\n",
    "\n",
    "        return X"
   ]
  },
  {
   "cell_type": "code",
   "execution_count": 410,
   "metadata": {},
   "outputs": [],
   "source": [
    "df = FilterRowsYear(date_feature='Date', year=2019).fit_transform(df)"
   ]
  },
  {
   "cell_type": "code",
   "execution_count": 411,
   "metadata": {},
   "outputs": [],
   "source": [
    "# Filter rows based on Threshold to be used to filter police stations with less tha 30 observations"
   ]
  },
  {
   "cell_type": "code",
   "execution_count": 412,
   "metadata": {},
   "outputs": [],
   "source": [
    "class FilterRowsThreshold(BaseEstimator, TransformerMixin):\n",
    "    \"\"\"\n",
    "\n",
    "    \"\"\"\n",
    "    def __init__(self, col, threshold):\n",
    "        self.col = col\n",
    "        self.threshold = threshold\n",
    "\n",
    "    def fit(self, X, y=None):\n",
    "        return self\n",
    "\n",
    "    def transform(self, X, y=None):\n",
    "        X_copy = X.copy()\n",
    "        filtered_list = X_copy.groupby(self.col)['observation_id'].count() < len(df)*self.threshold\n",
    "        filtered_list = list(filtered_list[filtered_list.values == True].keys())\n",
    "        X = X[X[self.col].isin(filtered_list)]\n",
    "        return X"
   ]
  },
  {
   "cell_type": "code",
   "execution_count": 413,
   "metadata": {},
   "outputs": [],
   "source": [
    "# df = FilterRowsThreshold(col='station', threshold=300).fit_transform(df)\n",
    "# df"
   ]
  },
  {
   "source": [
    "# 3. Missing Values Imputation"
   ],
   "cell_type": "markdown",
   "metadata": {}
  },
  {
   "source": [
    "## Outcome linked to object of search and Removal of more than just outer clothing"
   ],
   "cell_type": "markdown",
   "metadata": {}
  },
  {
   "cell_type": "code",
   "execution_count": 414,
   "metadata": {},
   "outputs": [
    {
     "output_type": "execute_result",
     "data": {
      "text/plain": [
       "observation_id                                  0\n",
       "Type                                            0\n",
       "Date                                            0\n",
       "Part of a policing operation                87360\n",
       "Latitude                                    50103\n",
       "Longitude                                   50103\n",
       "Gender                                          0\n",
       "Age range                                       0\n",
       "Self-defined ethnicity                       3553\n",
       "Officer-defined ethnicity                       0\n",
       "Legislation                                 17091\n",
       "Object of search                                0\n",
       "Outcome                                         0\n",
       "Outcome linked to object of search          70471\n",
       "Removal of more than just outer clothing    37190\n",
       "station                                         0\n",
       "outcome_positive                                0\n",
       "search_success                                  0\n",
       "dtype: int64"
      ]
     },
     "metadata": {},
     "execution_count": 414
    }
   ],
   "source": [
    "df.isna().sum()"
   ]
  },
  {
   "cell_type": "code",
   "execution_count": 415,
   "metadata": {},
   "outputs": [],
   "source": [
    "class FixNA_OutcomeLinkedSearch_RemovalClothing(BaseEstimator, TransformerMixin):\n",
    "    def __init__(self):\n",
    "        pass\n",
    "\n",
    "    def fit(self, X, y=None):\n",
    "        return self\n",
    "\n",
    "    def transform(self, X_, y=None):\n",
    "        X = X_.copy()\n",
    "\n",
    "        #stations without location known - btp   \n",
    "        X['Outcome linked to object of search'] = X['Outcome linked to object of search'].fillna(False)\n",
    "        X['Removal of more than just outer clothing'] = X['Removal of more than just outer clothing'].fillna(False)\n",
    "\n",
    "\n",
    "        return X"
   ]
  },
  {
   "cell_type": "code",
   "execution_count": 416,
   "metadata": {},
   "outputs": [
    {
     "output_type": "execute_result",
     "data": {
      "text/plain": [
       "observation_id                                  0\n",
       "Type                                            0\n",
       "Date                                            0\n",
       "Part of a policing operation                87360\n",
       "Latitude                                    50103\n",
       "Longitude                                   50103\n",
       "Gender                                          0\n",
       "Age range                                       0\n",
       "Self-defined ethnicity                       3553\n",
       "Officer-defined ethnicity                       0\n",
       "Legislation                                 17091\n",
       "Object of search                                0\n",
       "Outcome                                         0\n",
       "Outcome linked to object of search              0\n",
       "Removal of more than just outer clothing        0\n",
       "station                                         0\n",
       "outcome_positive                                0\n",
       "search_success                                  0\n",
       "dtype: int64"
      ]
     },
     "metadata": {},
     "execution_count": 416
    }
   ],
   "source": [
    "df = FixNA_OutcomeLinkedSearch_RemovalClothing().fit_transform(df)\n",
    "df.isna().sum()"
   ]
  },
  {
   "cell_type": "code",
   "execution_count": 417,
   "metadata": {},
   "outputs": [
    {
     "output_type": "execute_result",
     "data": {
      "text/plain": [
       "observation_id                                  0\n",
       "Type                                            0\n",
       "Date                                            0\n",
       "Part of a policing operation                87360\n",
       "Latitude                                    50103\n",
       "Longitude                                   50103\n",
       "Gender                                          0\n",
       "Age range                                       0\n",
       "Self-defined ethnicity                       3553\n",
       "Officer-defined ethnicity                       0\n",
       "Legislation                                 17091\n",
       "Object of search                                0\n",
       "Outcome                                         0\n",
       "Outcome linked to object of search              0\n",
       "Removal of more than just outer clothing        0\n",
       "station                                         0\n",
       "outcome_positive                                0\n",
       "search_success                                  0\n",
       "dtype: int64"
      ]
     },
     "metadata": {},
     "execution_count": 417
    }
   ],
   "source": [
    "df = FixNA_OutcomeLinkedSearch_RemovalClothing().fit_transform(df)\n",
    "df.isna().sum()"
   ]
  },
  {
   "cell_type": "code",
   "execution_count": 418,
   "metadata": {},
   "outputs": [],
   "source": [
    "## Coordinates"
   ]
  },
  {
   "cell_type": "code",
   "execution_count": 419,
   "metadata": {},
   "outputs": [],
   "source": [
    "class FixNA_Coordinates(BaseEstimator, TransformerMixin):\n",
    "    def __init__(self):\n",
    "        pass\n",
    "\n",
    "    def fit(self, X_, y=None):\n",
    "        return self\n",
    "\n",
    "    def transform(self, X_, y=None):\n",
    "        X = X_.copy()\n",
    "        columns = X.columns\n",
    "\n",
    "        feature_name = 'station'\n",
    "        stations_location = pd.read_csv('data/stations_location_2019.csv', sep=',')\n",
    "        stations_location = stations_location[['PFA19NM', 'LONG', 'LAT','Shape__Area']]\n",
    "        stations_location = stations_location.rename(columns={'PFA19NM':'station'})\n",
    "        stations_location[feature_name] = stations_location[feature_name] \\\n",
    "                                                .str.lower() \\\n",
    "                                                .str.replace('police','') \\\n",
    "                                                .str.replace('&','and') \\\n",
    "                                                .str.replace('london, city of','city of london') \\\n",
    "                                                .str.strip() \\\n",
    "                                                .str.replace(' ','-')\n",
    "\n",
    "        X = X.merge(stations_location,how='left', left_on='station', right_on='station')\n",
    "\n",
    "        #stations known   \n",
    "        X[\"Latitude\"] = X[\"Latitude\"].fillna(X[\"LAT\"])\n",
    "        X[\"Longitude\"] = X[\"Longitude\"].fillna(X[\"LONG\"])\n",
    "\n",
    "        #stations without location known - btp   \n",
    "        X[\"Latitude\"] = X[\"Latitude\"].fillna(X[\"Latitude\"].median())\n",
    "        X[\"Longitude\"] = X[\"Longitude\"].fillna(X[\"LONG\"].median())\n",
    "\n",
    "\n",
    "        return X[columns]"
   ]
  },
  {
   "cell_type": "code",
   "execution_count": 420,
   "metadata": {},
   "outputs": [],
   "source": [
    "df = FixNA_Coordinates().fit_transform(df)"
   ]
  },
  {
   "cell_type": "code",
   "execution_count": 421,
   "metadata": {},
   "outputs": [],
   "source": [
    "## Self-defined ethnicity create besed on Self-defined ethnicity"
   ]
  },
  {
   "cell_type": "code",
   "execution_count": 422,
   "metadata": {},
   "outputs": [],
   "source": [
    "class FixNA_Selfdefinedethnicity(BaseEstimator, TransformerMixin):\n",
    "    def __init__(self):\n",
    "        pass\n",
    "    def fit(self, X_, y=None):\n",
    "        data = X_.copy()\n",
    "        data_ethnicity  = data.groupby([\"Officer-defined ethnicity\",\"Self-defined ethnicity\"])['observation_id'].count().sort_values().reset_index()\n",
    "        self.mapping = data_ethnicity.set_index([\"Officer-defined ethnicity\"])[\"Self-defined ethnicity\"].to_dict()\n",
    "\n",
    "        return self\n",
    "    def transform(self, X_, y=None):\n",
    "        X = X_.copy()\n",
    "        X[\"Self-defined ethnicity\"] = X.apply(lambda row: self.mapping[row[\"Officer-defined ethnicity\"]]\n",
    "                                if (pd.isnull(row[\"Self-defined ethnicity\"]) and row[\"Officer-defined ethnicity\"] in self.mapping.keys())\n",
    "                                else row[\"Self-defined ethnicity\"], axis=1)\n",
    "        return X"
   ]
  },
  {
   "cell_type": "code",
   "execution_count": 423,
   "metadata": {},
   "outputs": [],
   "source": [
    "df = FixNA_Selfdefinedethnicity().fit_transform(df)"
   ]
  },
  {
   "source": [
    "# 4. Feature Engineering"
   ],
   "cell_type": "markdown",
   "metadata": {}
  },
  {
   "cell_type": "code",
   "execution_count": 424,
   "metadata": {},
   "outputs": [],
   "source": [
    "class DateTransformer(BaseEstimator, TransformerMixin):\n",
    "    \"\"\"\n",
    "    ok\n",
    "    \"\"\"\n",
    "    def __init__(self, date_feature='Date'):\n",
    "        self.date_feature = date_feature\n",
    "        \n",
    "    def fit(self, X, y=None):\n",
    "        return self\n",
    "    \n",
    "    def transform(self, X, y=None):\n",
    "\n",
    "        df =  X.copy()\n",
    "        def clean_df_time(df_):\n",
    "            # fill null values with average from other wind towers\n",
    "            df = df_.copy()\n",
    "            df['Date'] = pd.to_datetime(df[self.date_feature], errors='coerce',yearfirst=True, format=\"%Y-%m-%dT%H:%M:%S+%f:00\")# ,  infer_datetime_format=True, ,format=\"%Y-%m-%dT%H:%M:%S-%f\"\n",
    "            \n",
    "\n",
    "            return df \n",
    "        \n",
    "\n",
    "        df = clean_df_time(df)\n",
    "\n",
    "\n",
    "        df['Day'] = df['Date'].dt.date\n",
    "        df['Hour'] = df['Date'].dt.hour\n",
    "        df['Minute'] = df['Date'].dt.minute\n",
    "\n",
    "\n",
    "        df['Time (sin)'] = np.sin((2. * (df['Hour']+ df['Minute']/60) *  np.pi / 24)) \n",
    "        df['Time (cos)'] = np.sin((2. * (df['Hour']+ df['Minute']/60) *  np.pi / 24)) \n",
    "\n",
    "        return df"
   ]
  },
  {
   "cell_type": "code",
   "execution_count": 425,
   "metadata": {},
   "outputs": [],
   "source": [
    "df = DateTransformer(date_feature='Date').fit_transform(df)"
   ]
  },
  {
   "cell_type": "code",
   "execution_count": 426,
   "metadata": {},
   "outputs": [],
   "source": [
    "# 5. Select Features"
   ]
  },
  {
   "cell_type": "code",
   "execution_count": 427,
   "metadata": {},
   "outputs": [
    {
     "output_type": "execute_result",
     "data": {
      "text/plain": [
       "                         observation_id           Type  \\\n",
       "0  34d76816-cfc2-4bdd-b3a2-bf0c40b12689  Person search   \n",
       "1  83c87ec1-e6d4-4bbb-8e0c-159516706359  Person search   \n",
       "2  8c2eae4b-035a-492f-92d6-cd27e6c900a1  Person search   \n",
       "3  e63a036a-a728-4efe-8e08-7198f56d6d0a  Person search   \n",
       "4  40c70aca-1f7f-4efe-8c5b-ade0f2e9937d  Person search   \n",
       "\n",
       "                        Date Part of a policing operation   Latitude  \\\n",
       "0  2019-12-01T00:00:00+00:00                         True        NaN   \n",
       "1  2019-12-01T00:09:00+00:00                         True        NaN   \n",
       "2  2019-12-01T00:10:00+00:00                         True        NaN   \n",
       "3  2019-12-01T00:10:00+00:00                        False        NaN   \n",
       "4  2019-12-01T00:12:00+00:00                         True  50.368247   \n",
       "\n",
       "   Longitude  Gender Age range  \\\n",
       "0        NaN    Male     18-24   \n",
       "1        NaN    Male     18-24   \n",
       "2        NaN  Female     18-24   \n",
       "3        NaN    Male     18-24   \n",
       "4  -4.126646    Male     18-24   \n",
       "\n",
       "                              Self-defined ethnicity  \\\n",
       "0   Asian/Asian British - Any other Asian background   \n",
       "1                                                NaN   \n",
       "2  White - English/Welsh/Scottish/Northern Irish/...   \n",
       "3                                                NaN   \n",
       "4                                                NaN   \n",
       "\n",
       "  Officer-defined ethnicity                            Legislation  \\\n",
       "0                     Asian  Misuse of Drugs Act 1971 (section 23)   \n",
       "1                     White  Misuse of Drugs Act 1971 (section 23)   \n",
       "2                     White  Misuse of Drugs Act 1971 (section 23)   \n",
       "3                     Asian  Misuse of Drugs Act 1971 (section 23)   \n",
       "4                     White  Misuse of Drugs Act 1971 (section 23)   \n",
       "\n",
       "   Object of search                       Outcome  \\\n",
       "0  Controlled drugs  A no further action disposal   \n",
       "1  Controlled drugs  A no further action disposal   \n",
       "2  Controlled drugs  A no further action disposal   \n",
       "3  Controlled drugs  A no further action disposal   \n",
       "4  Controlled drugs  A no further action disposal   \n",
       "\n",
       "  Outcome linked to object of search Removal of more than just outer clothing  \\\n",
       "0                                NaN                                    False   \n",
       "1                                NaN                                    False   \n",
       "2                                NaN                                    False   \n",
       "3                                NaN                                    False   \n",
       "4                                NaN                                    False   \n",
       "\n",
       "              station  \n",
       "0  devon-and-cornwall  \n",
       "1  devon-and-cornwall  \n",
       "2  devon-and-cornwall  \n",
       "3  devon-and-cornwall  \n",
       "4  devon-and-cornwall  "
      ],
      "text/html": "<div>\n<style scoped>\n    .dataframe tbody tr th:only-of-type {\n        vertical-align: middle;\n    }\n\n    .dataframe tbody tr th {\n        vertical-align: top;\n    }\n\n    .dataframe thead th {\n        text-align: right;\n    }\n</style>\n<table border=\"1\" class=\"dataframe\">\n  <thead>\n    <tr style=\"text-align: right;\">\n      <th></th>\n      <th>observation_id</th>\n      <th>Type</th>\n      <th>Date</th>\n      <th>Part of a policing operation</th>\n      <th>Latitude</th>\n      <th>Longitude</th>\n      <th>Gender</th>\n      <th>Age range</th>\n      <th>Self-defined ethnicity</th>\n      <th>Officer-defined ethnicity</th>\n      <th>Legislation</th>\n      <th>Object of search</th>\n      <th>Outcome</th>\n      <th>Outcome linked to object of search</th>\n      <th>Removal of more than just outer clothing</th>\n      <th>station</th>\n    </tr>\n  </thead>\n  <tbody>\n    <tr>\n      <th>0</th>\n      <td>34d76816-cfc2-4bdd-b3a2-bf0c40b12689</td>\n      <td>Person search</td>\n      <td>2019-12-01T00:00:00+00:00</td>\n      <td>True</td>\n      <td>NaN</td>\n      <td>NaN</td>\n      <td>Male</td>\n      <td>18-24</td>\n      <td>Asian/Asian British - Any other Asian background</td>\n      <td>Asian</td>\n      <td>Misuse of Drugs Act 1971 (section 23)</td>\n      <td>Controlled drugs</td>\n      <td>A no further action disposal</td>\n      <td>NaN</td>\n      <td>False</td>\n      <td>devon-and-cornwall</td>\n    </tr>\n    <tr>\n      <th>1</th>\n      <td>83c87ec1-e6d4-4bbb-8e0c-159516706359</td>\n      <td>Person search</td>\n      <td>2019-12-01T00:09:00+00:00</td>\n      <td>True</td>\n      <td>NaN</td>\n      <td>NaN</td>\n      <td>Male</td>\n      <td>18-24</td>\n      <td>NaN</td>\n      <td>White</td>\n      <td>Misuse of Drugs Act 1971 (section 23)</td>\n      <td>Controlled drugs</td>\n      <td>A no further action disposal</td>\n      <td>NaN</td>\n      <td>False</td>\n      <td>devon-and-cornwall</td>\n    </tr>\n    <tr>\n      <th>2</th>\n      <td>8c2eae4b-035a-492f-92d6-cd27e6c900a1</td>\n      <td>Person search</td>\n      <td>2019-12-01T00:10:00+00:00</td>\n      <td>True</td>\n      <td>NaN</td>\n      <td>NaN</td>\n      <td>Female</td>\n      <td>18-24</td>\n      <td>White - English/Welsh/Scottish/Northern Irish/...</td>\n      <td>White</td>\n      <td>Misuse of Drugs Act 1971 (section 23)</td>\n      <td>Controlled drugs</td>\n      <td>A no further action disposal</td>\n      <td>NaN</td>\n      <td>False</td>\n      <td>devon-and-cornwall</td>\n    </tr>\n    <tr>\n      <th>3</th>\n      <td>e63a036a-a728-4efe-8e08-7198f56d6d0a</td>\n      <td>Person search</td>\n      <td>2019-12-01T00:10:00+00:00</td>\n      <td>False</td>\n      <td>NaN</td>\n      <td>NaN</td>\n      <td>Male</td>\n      <td>18-24</td>\n      <td>NaN</td>\n      <td>Asian</td>\n      <td>Misuse of Drugs Act 1971 (section 23)</td>\n      <td>Controlled drugs</td>\n      <td>A no further action disposal</td>\n      <td>NaN</td>\n      <td>False</td>\n      <td>devon-and-cornwall</td>\n    </tr>\n    <tr>\n      <th>4</th>\n      <td>40c70aca-1f7f-4efe-8c5b-ade0f2e9937d</td>\n      <td>Person search</td>\n      <td>2019-12-01T00:12:00+00:00</td>\n      <td>True</td>\n      <td>50.368247</td>\n      <td>-4.126646</td>\n      <td>Male</td>\n      <td>18-24</td>\n      <td>NaN</td>\n      <td>White</td>\n      <td>Misuse of Drugs Act 1971 (section 23)</td>\n      <td>Controlled drugs</td>\n      <td>A no further action disposal</td>\n      <td>NaN</td>\n      <td>False</td>\n      <td>devon-and-cornwall</td>\n    </tr>\n  </tbody>\n</table>\n</div>"
     },
     "metadata": {},
     "execution_count": 427
    }
   ],
   "source": [
    "df = pd.read_csv('data/train.csv')\n",
    "df.head()"
   ]
  },
  {
   "cell_type": "code",
   "execution_count": 428,
   "metadata": {},
   "outputs": [],
   "source": [
    "# Create the model"
   ]
  },
  {
   "cell_type": "code",
   "execution_count": 429,
   "metadata": {},
   "outputs": [],
   "source": [
    "target = 'search_success'\n",
    "df_sorted = df.sort_values(by=\"Date\")\n",
    "\n",
    "# Split data\n",
    "df_train, df_test = train_test_split(df_sorted, test_size=0.25, shuffle=False)\n"
   ]
  },
  {
   "cell_type": "code",
   "execution_count": 430,
   "metadata": {},
   "outputs": [],
   "source": [
    "# Group feaatures \n",
    "categorical_features = ['Type','Gender','Age range','Officer-defined ethnicity','Object of search','Removal of more than just outer clothing','station']\n",
    "numeric_features = ['Time (sin)','Time (cos)']\n",
    "\n",
    "# features = ['age', 'workclass', 'fnlwgt', 'education-num', 'education',\n",
    "#         'marital-status', 'occupation', 'relationship', 'race', 'sex',\n",
    "#         'capital-gain', 'capital-loss', 'hours-per-week', 'native-country']"
   ]
  },
  {
   "cell_type": "code",
   "execution_count": 431,
   "metadata": {},
   "outputs": [
    {
     "output_type": "execute_result",
     "data": {
      "text/plain": [
       "observation_id                                   0\n",
       "Type                                             0\n",
       "Date                                             0\n",
       "Part of a policing operation                153564\n",
       "Latitude                                    112316\n",
       "Longitude                                   112316\n",
       "Gender                                           0\n",
       "Age range                                        0\n",
       "Self-defined ethnicity                        5574\n",
       "Officer-defined ethnicity                        0\n",
       "Legislation                                  27940\n",
       "Object of search                                 0\n",
       "Outcome                                          0\n",
       "Outcome linked to object of search          473100\n",
       "Removal of more than just outer clothing    426549\n",
       "station                                          0\n",
       "dtype: int64"
      ]
     },
     "metadata": {},
     "execution_count": 431
    }
   ],
   "source": [
    "df.isna().sum()"
   ]
  },
  {
   "cell_type": "code",
   "execution_count": 432,
   "metadata": {},
   "outputs": [],
   "source": [
    "numeric_transformer = Pipeline(steps=[\n",
    "    ('imputer', SimpleImputer(strategy='median'))])\n",
    "\n",
    "categorical_transformer = Pipeline(steps=[\n",
    "    ('imputer', SimpleImputer(strategy='constant', fill_value='missing')),\n",
    "    ('onehot', OneHotEncoder(handle_unknown='ignore'))])\n",
    "\n",
    "standard_preprocessor = ColumnTransformer(\n",
    "    transformers=[\n",
    "        ('num', numeric_transformer, numeric_features),\n",
    "        ('cat', categorical_transformer, categorical_features)])"
   ]
  },
  {
   "cell_type": "code",
   "execution_count": 433,
   "metadata": {},
   "outputs": [],
   "source": [
    "initial_pipe = Pipeline(\n",
    "    steps=[\n",
    "            ('OutcomePositive', Mask_OutcomePositive()),\n",
    "            ('SearchSuccess', Mask_SearchSuccess()),\n",
    "            ('Filter Metropolitain', Filter_ColumnValue(col='station', value='metropolitan')),\n",
    "            # ('Filter Year 2019', FilterRowsYear(date_feature='Date', year=2019)),\n",
    "            ('FixNA_OutcomeLinkedSearch_RemovalClothing', FixNA_OutcomeLinkedSearch_RemovalClothing()), \n",
    "            ('FixNA_Coordinates', FixNA_Coordinates()),\n",
    "            ('FixNA_Selfdefinedethnicity', FixNA_Selfdefinedethnicity()),\n",
    "            ('DateTransformer', DateTransformer())\n",
    "            ])"
   ]
  },
  {
   "cell_type": "code",
   "execution_count": 434,
   "metadata": {},
   "outputs": [],
   "source": [
    "pipeline = Pipeline([\n",
    "        ('Initial Preprocessing Pipeline',initial_pipe),\n",
    "        ('preprocessor', standard_preprocessor),\n",
    "        ('model', LGBMClassifier(n_jobs=-1, random_state=42))\n",
    "]    \n",
    ")"
   ]
  },
  {
   "cell_type": "code",
   "execution_count": 435,
   "metadata": {},
   "outputs": [],
   "source": [
    "df_train = initial_pipe.fit_transform(df_train)\n",
    "df_test = initial_pipe.fit_transform(df_test)"
   ]
  },
  {
   "cell_type": "code",
   "execution_count": 436,
   "metadata": {},
   "outputs": [
    {
     "output_type": "execute_result",
     "data": {
      "text/plain": [
       "231123"
      ]
     },
     "metadata": {},
     "execution_count": 436
    }
   ],
   "source": [
    "len(df_train)"
   ]
  },
  {
   "source": [
    "# Pipeline for choosing the model (test and traning datasets will need different pipelines since creating the target features is not needed in test)"
   ],
   "cell_type": "markdown",
   "metadata": {}
  },
  {
   "cell_type": "code",
   "execution_count": 437,
   "metadata": {},
   "outputs": [],
   "source": [
    "fase2_pipeline = Pipeline([\n",
    "        ('preprocessor', standard_preprocessor),\n",
    "        ('model', LGBMClassifier(n_jobs=-1, random_state=42))\n",
    "]    \n",
    ")"
   ]
  },
  {
   "source": [
    "# Baseline model"
   ],
   "cell_type": "markdown",
   "metadata": {}
  },
  {
   "cell_type": "code",
   "execution_count": 438,
   "metadata": {},
   "outputs": [],
   "source": [
    "X_train, y_train= df_train.drop(columns=[target]), df_train[target] \n",
    "X_test, y_test= df_test.drop(columns=[target]), df_test[target]"
   ]
  },
  {
   "cell_type": "code",
   "execution_count": 439,
   "metadata": {},
   "outputs": [
    {
     "output_type": "execute_result",
     "data": {
      "text/plain": [
       "Pipeline(steps=[('preprocessor',\n",
       "                 ColumnTransformer(transformers=[('num',\n",
       "                                                  Pipeline(steps=[('imputer',\n",
       "                                                                   SimpleImputer(strategy='median'))]),\n",
       "                                                  ['Time (sin)', 'Time (cos)']),\n",
       "                                                 ('cat',\n",
       "                                                  Pipeline(steps=[('imputer',\n",
       "                                                                   SimpleImputer(fill_value='missing',\n",
       "                                                                                 strategy='constant')),\n",
       "                                                                  ('onehot',\n",
       "                                                                   OneHotEncoder(handle_unknown='ignore'))]),\n",
       "                                                  ['Type', 'Gender',\n",
       "                                                   'Age range',\n",
       "                                                   'Officer-defined ethnicity',\n",
       "                                                   'Object of search',\n",
       "                                                   'Removal of more than just '\n",
       "                                                   'outer clothing',\n",
       "                                                   'station'])])),\n",
       "                ('model', LGBMClassifier(random_state=42))])"
      ]
     },
     "metadata": {},
     "execution_count": 439
    }
   ],
   "source": [
    "fase2_pipeline.fit(X_train, y_train)"
   ]
  },
  {
   "cell_type": "code",
   "execution_count": 440,
   "metadata": {},
   "outputs": [
    {
     "output_type": "stream",
     "name": "stdout",
     "text": [
      "precision 0.4846153846153846\nrecall 0.00430327868852459\nf1 0.008530805687203793\nroc_auc 0.501624528540851\n"
     ]
    },
    {
     "output_type": "execute_result",
     "data": {
      "text/plain": [
       "<AxesSubplot:xlabel='Predicted', ylabel='Actual'>"
      ]
     },
     "metadata": {},
     "execution_count": 440
    },
    {
     "output_type": "display_data",
     "data": {
      "text/plain": "<Figure size 432x288 with 2 Axes>",
      "image/svg+xml": "<?xml version=\"1.0\" encoding=\"utf-8\" standalone=\"no\"?>\r\n<!DOCTYPE svg PUBLIC \"-//W3C//DTD SVG 1.1//EN\"\r\n  \"http://www.w3.org/Graphics/SVG/1.1/DTD/svg11.dtd\">\r\n<!-- Created with matplotlib (https://matplotlib.org/) -->\r\n<svg height=\"262.19625pt\" version=\"1.1\" viewBox=\"0 0 379.02075 262.19625\" width=\"379.02075pt\" xmlns=\"http://www.w3.org/2000/svg\" xmlns:xlink=\"http://www.w3.org/1999/xlink\">\r\n <metadata>\r\n  <rdf:RDF xmlns:cc=\"http://creativecommons.org/ns#\" xmlns:dc=\"http://purl.org/dc/elements/1.1/\" xmlns:rdf=\"http://www.w3.org/1999/02/22-rdf-syntax-ns#\">\r\n   <cc:Work>\r\n    <dc:type rdf:resource=\"http://purl.org/dc/dcmitype/StillImage\"/>\r\n    <dc:date>2021-02-21T12:36:36.074714</dc:date>\r\n    <dc:format>image/svg+xml</dc:format>\r\n    <dc:creator>\r\n     <cc:Agent>\r\n      <dc:title>Matplotlib v3.3.3, https://matplotlib.org/</dc:title>\r\n     </cc:Agent>\r\n    </dc:creator>\r\n   </cc:Work>\r\n  </rdf:RDF>\r\n </metadata>\r\n <defs>\r\n  <style type=\"text/css\">*{stroke-linecap:butt;stroke-linejoin:round;}</style>\r\n </defs>\r\n <g id=\"figure_1\">\r\n  <g id=\"patch_1\">\r\n   <path d=\"M 0 262.19625 \r\nL 379.02075 262.19625 \r\nL 379.02075 0 \r\nL 0 0 \r\nz\r\n\" style=\"fill:none;\"/>\r\n  </g>\r\n  <g id=\"axes_1\">\r\n   <g id=\"patch_2\">\r\n    <path d=\"M 37.55625 224.64 \r\nL 305.39625 224.64 \r\nL 305.39625 7.2 \r\nL 37.55625 7.2 \r\nz\r\n\" style=\"fill:#ffffff;\"/>\r\n   </g>\r\n   <g id=\"QuadMesh_1\">\r\n    <path clip-path=\"url(#pfacd996b34)\" d=\"M 37.55625 7.2 \r\nL 171.47625 7.2 \r\nL 171.47625 115.92 \r\nL 37.55625 115.92 \r\nL 37.55625 7.2 \r\n\" style=\"fill:#081d58;\"/>\r\n    <path clip-path=\"url(#pfacd996b34)\" d=\"M 171.47625 7.2 \r\nL 305.39625 7.2 \r\nL 305.39625 115.92 \r\nL 171.47625 115.92 \r\nL 171.47625 7.2 \r\n\" style=\"fill:#ffffd9;\"/>\r\n    <path clip-path=\"url(#pfacd996b34)\" d=\"M 37.55625 115.92 \r\nL 171.47625 115.92 \r\nL 171.47625 224.64 \r\nL 37.55625 224.64 \r\nL 37.55625 115.92 \r\n\" style=\"fill:#ceecb3;\"/>\r\n    <path clip-path=\"url(#pfacd996b34)\" d=\"M 171.47625 115.92 \r\nL 305.39625 115.92 \r\nL 305.39625 224.64 \r\nL 171.47625 224.64 \r\nL 171.47625 115.92 \r\n\" style=\"fill:#ffffd9;\"/>\r\n   </g>\r\n   <g id=\"matplotlib.axis_1\">\r\n    <g id=\"xtick_1\">\r\n     <g id=\"line2d_1\">\r\n      <defs>\r\n       <path d=\"M 0 0 \r\nL 0 3.5 \r\n\" id=\"m54ce7c092d\" style=\"stroke:#000000;stroke-width:0.8;\"/>\r\n      </defs>\r\n      <g>\r\n       <use style=\"stroke:#000000;stroke-width:0.8;\" x=\"104.51625\" xlink:href=\"#m54ce7c092d\" y=\"224.64\"/>\r\n      </g>\r\n     </g>\r\n     <g id=\"text_1\">\r\n      <!-- False -->\r\n      <g transform=\"translate(91.962344 239.238437)scale(0.1 -0.1)\">\r\n       <defs>\r\n        <path d=\"M 9.8125 72.90625 \r\nL 51.703125 72.90625 \r\nL 51.703125 64.59375 \r\nL 19.671875 64.59375 \r\nL 19.671875 43.109375 \r\nL 48.578125 43.109375 \r\nL 48.578125 34.8125 \r\nL 19.671875 34.8125 \r\nL 19.671875 0 \r\nL 9.8125 0 \r\nz\r\n\" id=\"DejaVuSans-70\"/>\r\n        <path d=\"M 34.28125 27.484375 \r\nQ 23.390625 27.484375 19.1875 25 \r\nQ 14.984375 22.515625 14.984375 16.5 \r\nQ 14.984375 11.71875 18.140625 8.90625 \r\nQ 21.296875 6.109375 26.703125 6.109375 \r\nQ 34.1875 6.109375 38.703125 11.40625 \r\nQ 43.21875 16.703125 43.21875 25.484375 \r\nL 43.21875 27.484375 \r\nz\r\nM 52.203125 31.203125 \r\nL 52.203125 0 \r\nL 43.21875 0 \r\nL 43.21875 8.296875 \r\nQ 40.140625 3.328125 35.546875 0.953125 \r\nQ 30.953125 -1.421875 24.3125 -1.421875 \r\nQ 15.921875 -1.421875 10.953125 3.296875 \r\nQ 6 8.015625 6 15.921875 \r\nQ 6 25.140625 12.171875 29.828125 \r\nQ 18.359375 34.515625 30.609375 34.515625 \r\nL 43.21875 34.515625 \r\nL 43.21875 35.40625 \r\nQ 43.21875 41.609375 39.140625 45 \r\nQ 35.0625 48.390625 27.6875 48.390625 \r\nQ 23 48.390625 18.546875 47.265625 \r\nQ 14.109375 46.140625 10.015625 43.890625 \r\nL 10.015625 52.203125 \r\nQ 14.9375 54.109375 19.578125 55.046875 \r\nQ 24.21875 56 28.609375 56 \r\nQ 40.484375 56 46.34375 49.84375 \r\nQ 52.203125 43.703125 52.203125 31.203125 \r\nz\r\n\" id=\"DejaVuSans-97\"/>\r\n        <path d=\"M 9.421875 75.984375 \r\nL 18.40625 75.984375 \r\nL 18.40625 0 \r\nL 9.421875 0 \r\nz\r\n\" id=\"DejaVuSans-108\"/>\r\n        <path d=\"M 44.28125 53.078125 \r\nL 44.28125 44.578125 \r\nQ 40.484375 46.53125 36.375 47.5 \r\nQ 32.28125 48.484375 27.875 48.484375 \r\nQ 21.1875 48.484375 17.84375 46.4375 \r\nQ 14.5 44.390625 14.5 40.28125 \r\nQ 14.5 37.15625 16.890625 35.375 \r\nQ 19.28125 33.59375 26.515625 31.984375 \r\nL 29.59375 31.296875 \r\nQ 39.15625 29.25 43.1875 25.515625 \r\nQ 47.21875 21.78125 47.21875 15.09375 \r\nQ 47.21875 7.46875 41.1875 3.015625 \r\nQ 35.15625 -1.421875 24.609375 -1.421875 \r\nQ 20.21875 -1.421875 15.453125 -0.5625 \r\nQ 10.6875 0.296875 5.421875 2 \r\nL 5.421875 11.28125 \r\nQ 10.40625 8.6875 15.234375 7.390625 \r\nQ 20.0625 6.109375 24.8125 6.109375 \r\nQ 31.15625 6.109375 34.5625 8.28125 \r\nQ 37.984375 10.453125 37.984375 14.40625 \r\nQ 37.984375 18.0625 35.515625 20.015625 \r\nQ 33.0625 21.96875 24.703125 23.78125 \r\nL 21.578125 24.515625 \r\nQ 13.234375 26.265625 9.515625 29.90625 \r\nQ 5.8125 33.546875 5.8125 39.890625 \r\nQ 5.8125 47.609375 11.28125 51.796875 \r\nQ 16.75 56 26.8125 56 \r\nQ 31.78125 56 36.171875 55.265625 \r\nQ 40.578125 54.546875 44.28125 53.078125 \r\nz\r\n\" id=\"DejaVuSans-115\"/>\r\n        <path d=\"M 56.203125 29.59375 \r\nL 56.203125 25.203125 \r\nL 14.890625 25.203125 \r\nQ 15.484375 15.921875 20.484375 11.0625 \r\nQ 25.484375 6.203125 34.421875 6.203125 \r\nQ 39.59375 6.203125 44.453125 7.46875 \r\nQ 49.3125 8.734375 54.109375 11.28125 \r\nL 54.109375 2.78125 \r\nQ 49.265625 0.734375 44.1875 -0.34375 \r\nQ 39.109375 -1.421875 33.890625 -1.421875 \r\nQ 20.796875 -1.421875 13.15625 6.1875 \r\nQ 5.515625 13.8125 5.515625 26.8125 \r\nQ 5.515625 40.234375 12.765625 48.109375 \r\nQ 20.015625 56 32.328125 56 \r\nQ 43.359375 56 49.78125 48.890625 \r\nQ 56.203125 41.796875 56.203125 29.59375 \r\nz\r\nM 47.21875 32.234375 \r\nQ 47.125 39.59375 43.09375 43.984375 \r\nQ 39.0625 48.390625 32.421875 48.390625 \r\nQ 24.90625 48.390625 20.390625 44.140625 \r\nQ 15.875 39.890625 15.1875 32.171875 \r\nz\r\n\" id=\"DejaVuSans-101\"/>\r\n       </defs>\r\n       <use xlink:href=\"#DejaVuSans-70\"/>\r\n       <use x=\"48.394531\" xlink:href=\"#DejaVuSans-97\"/>\r\n       <use x=\"109.673828\" xlink:href=\"#DejaVuSans-108\"/>\r\n       <use x=\"137.457031\" xlink:href=\"#DejaVuSans-115\"/>\r\n       <use x=\"189.556641\" xlink:href=\"#DejaVuSans-101\"/>\r\n      </g>\r\n     </g>\r\n    </g>\r\n    <g id=\"xtick_2\">\r\n     <g id=\"line2d_2\">\r\n      <g>\r\n       <use style=\"stroke:#000000;stroke-width:0.8;\" x=\"238.43625\" xlink:href=\"#m54ce7c092d\" y=\"224.64\"/>\r\n      </g>\r\n     </g>\r\n     <g id=\"text_2\">\r\n      <!-- True -->\r\n      <g transform=\"translate(227.819063 239.238437)scale(0.1 -0.1)\">\r\n       <defs>\r\n        <path d=\"M -0.296875 72.90625 \r\nL 61.375 72.90625 \r\nL 61.375 64.59375 \r\nL 35.5 64.59375 \r\nL 35.5 0 \r\nL 25.59375 0 \r\nL 25.59375 64.59375 \r\nL -0.296875 64.59375 \r\nz\r\n\" id=\"DejaVuSans-84\"/>\r\n        <path d=\"M 41.109375 46.296875 \r\nQ 39.59375 47.171875 37.8125 47.578125 \r\nQ 36.03125 48 33.890625 48 \r\nQ 26.265625 48 22.1875 43.046875 \r\nQ 18.109375 38.09375 18.109375 28.8125 \r\nL 18.109375 0 \r\nL 9.078125 0 \r\nL 9.078125 54.6875 \r\nL 18.109375 54.6875 \r\nL 18.109375 46.1875 \r\nQ 20.953125 51.171875 25.484375 53.578125 \r\nQ 30.03125 56 36.53125 56 \r\nQ 37.453125 56 38.578125 55.875 \r\nQ 39.703125 55.765625 41.0625 55.515625 \r\nz\r\n\" id=\"DejaVuSans-114\"/>\r\n        <path d=\"M 8.5 21.578125 \r\nL 8.5 54.6875 \r\nL 17.484375 54.6875 \r\nL 17.484375 21.921875 \r\nQ 17.484375 14.15625 20.5 10.265625 \r\nQ 23.53125 6.390625 29.59375 6.390625 \r\nQ 36.859375 6.390625 41.078125 11.03125 \r\nQ 45.3125 15.671875 45.3125 23.6875 \r\nL 45.3125 54.6875 \r\nL 54.296875 54.6875 \r\nL 54.296875 0 \r\nL 45.3125 0 \r\nL 45.3125 8.40625 \r\nQ 42.046875 3.421875 37.71875 1 \r\nQ 33.40625 -1.421875 27.6875 -1.421875 \r\nQ 18.265625 -1.421875 13.375 4.4375 \r\nQ 8.5 10.296875 8.5 21.578125 \r\nz\r\nM 31.109375 56 \r\nz\r\n\" id=\"DejaVuSans-117\"/>\r\n       </defs>\r\n       <use xlink:href=\"#DejaVuSans-84\"/>\r\n       <use x=\"46.333984\" xlink:href=\"#DejaVuSans-114\"/>\r\n       <use x=\"87.447266\" xlink:href=\"#DejaVuSans-117\"/>\r\n       <use x=\"150.826172\" xlink:href=\"#DejaVuSans-101\"/>\r\n      </g>\r\n     </g>\r\n    </g>\r\n    <g id=\"text_3\">\r\n     <!-- Predicted -->\r\n     <g transform=\"translate(148.005938 252.916562)scale(0.1 -0.1)\">\r\n      <defs>\r\n       <path d=\"M 19.671875 64.796875 \r\nL 19.671875 37.40625 \r\nL 32.078125 37.40625 \r\nQ 38.96875 37.40625 42.71875 40.96875 \r\nQ 46.484375 44.53125 46.484375 51.125 \r\nQ 46.484375 57.671875 42.71875 61.234375 \r\nQ 38.96875 64.796875 32.078125 64.796875 \r\nz\r\nM 9.8125 72.90625 \r\nL 32.078125 72.90625 \r\nQ 44.34375 72.90625 50.609375 67.359375 \r\nQ 56.890625 61.8125 56.890625 51.125 \r\nQ 56.890625 40.328125 50.609375 34.8125 \r\nQ 44.34375 29.296875 32.078125 29.296875 \r\nL 19.671875 29.296875 \r\nL 19.671875 0 \r\nL 9.8125 0 \r\nz\r\n\" id=\"DejaVuSans-80\"/>\r\n       <path d=\"M 45.40625 46.390625 \r\nL 45.40625 75.984375 \r\nL 54.390625 75.984375 \r\nL 54.390625 0 \r\nL 45.40625 0 \r\nL 45.40625 8.203125 \r\nQ 42.578125 3.328125 38.25 0.953125 \r\nQ 33.9375 -1.421875 27.875 -1.421875 \r\nQ 17.96875 -1.421875 11.734375 6.484375 \r\nQ 5.515625 14.40625 5.515625 27.296875 \r\nQ 5.515625 40.1875 11.734375 48.09375 \r\nQ 17.96875 56 27.875 56 \r\nQ 33.9375 56 38.25 53.625 \r\nQ 42.578125 51.265625 45.40625 46.390625 \r\nz\r\nM 14.796875 27.296875 \r\nQ 14.796875 17.390625 18.875 11.75 \r\nQ 22.953125 6.109375 30.078125 6.109375 \r\nQ 37.203125 6.109375 41.296875 11.75 \r\nQ 45.40625 17.390625 45.40625 27.296875 \r\nQ 45.40625 37.203125 41.296875 42.84375 \r\nQ 37.203125 48.484375 30.078125 48.484375 \r\nQ 22.953125 48.484375 18.875 42.84375 \r\nQ 14.796875 37.203125 14.796875 27.296875 \r\nz\r\n\" id=\"DejaVuSans-100\"/>\r\n       <path d=\"M 9.421875 54.6875 \r\nL 18.40625 54.6875 \r\nL 18.40625 0 \r\nL 9.421875 0 \r\nz\r\nM 9.421875 75.984375 \r\nL 18.40625 75.984375 \r\nL 18.40625 64.59375 \r\nL 9.421875 64.59375 \r\nz\r\n\" id=\"DejaVuSans-105\"/>\r\n       <path d=\"M 48.78125 52.59375 \r\nL 48.78125 44.1875 \r\nQ 44.96875 46.296875 41.140625 47.34375 \r\nQ 37.3125 48.390625 33.40625 48.390625 \r\nQ 24.65625 48.390625 19.8125 42.84375 \r\nQ 14.984375 37.3125 14.984375 27.296875 \r\nQ 14.984375 17.28125 19.8125 11.734375 \r\nQ 24.65625 6.203125 33.40625 6.203125 \r\nQ 37.3125 6.203125 41.140625 7.25 \r\nQ 44.96875 8.296875 48.78125 10.40625 \r\nL 48.78125 2.09375 \r\nQ 45.015625 0.34375 40.984375 -0.53125 \r\nQ 36.96875 -1.421875 32.421875 -1.421875 \r\nQ 20.0625 -1.421875 12.78125 6.34375 \r\nQ 5.515625 14.109375 5.515625 27.296875 \r\nQ 5.515625 40.671875 12.859375 48.328125 \r\nQ 20.21875 56 33.015625 56 \r\nQ 37.15625 56 41.109375 55.140625 \r\nQ 45.0625 54.296875 48.78125 52.59375 \r\nz\r\n\" id=\"DejaVuSans-99\"/>\r\n       <path d=\"M 18.3125 70.21875 \r\nL 18.3125 54.6875 \r\nL 36.8125 54.6875 \r\nL 36.8125 47.703125 \r\nL 18.3125 47.703125 \r\nL 18.3125 18.015625 \r\nQ 18.3125 11.328125 20.140625 9.421875 \r\nQ 21.96875 7.515625 27.59375 7.515625 \r\nL 36.8125 7.515625 \r\nL 36.8125 0 \r\nL 27.59375 0 \r\nQ 17.1875 0 13.234375 3.875 \r\nQ 9.28125 7.765625 9.28125 18.015625 \r\nL 9.28125 47.703125 \r\nL 2.6875 47.703125 \r\nL 2.6875 54.6875 \r\nL 9.28125 54.6875 \r\nL 9.28125 70.21875 \r\nz\r\n\" id=\"DejaVuSans-116\"/>\r\n      </defs>\r\n      <use xlink:href=\"#DejaVuSans-80\"/>\r\n      <use x=\"58.552734\" xlink:href=\"#DejaVuSans-114\"/>\r\n      <use x=\"97.416016\" xlink:href=\"#DejaVuSans-101\"/>\r\n      <use x=\"158.939453\" xlink:href=\"#DejaVuSans-100\"/>\r\n      <use x=\"222.416016\" xlink:href=\"#DejaVuSans-105\"/>\r\n      <use x=\"250.199219\" xlink:href=\"#DejaVuSans-99\"/>\r\n      <use x=\"305.179688\" xlink:href=\"#DejaVuSans-116\"/>\r\n      <use x=\"344.388672\" xlink:href=\"#DejaVuSans-101\"/>\r\n      <use x=\"405.912109\" xlink:href=\"#DejaVuSans-100\"/>\r\n     </g>\r\n    </g>\r\n   </g>\r\n   <g id=\"matplotlib.axis_2\">\r\n    <g id=\"ytick_1\">\r\n     <g id=\"line2d_3\">\r\n      <defs>\r\n       <path d=\"M 0 0 \r\nL -3.5 0 \r\n\" id=\"m7f7d24e270\" style=\"stroke:#000000;stroke-width:0.8;\"/>\r\n      </defs>\r\n      <g>\r\n       <use style=\"stroke:#000000;stroke-width:0.8;\" x=\"37.55625\" xlink:href=\"#m7f7d24e270\" y=\"61.56\"/>\r\n      </g>\r\n     </g>\r\n     <g id=\"text_4\">\r\n      <!-- False -->\r\n      <g transform=\"translate(28.476563 82.868594)rotate(-90)scale(0.1 -0.1)\">\r\n       <use xlink:href=\"#DejaVuSans-70\"/>\r\n       <use x=\"48.394531\" xlink:href=\"#DejaVuSans-97\"/>\r\n       <use x=\"109.673828\" xlink:href=\"#DejaVuSans-108\"/>\r\n       <use x=\"137.457031\" xlink:href=\"#DejaVuSans-115\"/>\r\n       <use x=\"189.556641\" xlink:href=\"#DejaVuSans-101\"/>\r\n      </g>\r\n     </g>\r\n    </g>\r\n    <g id=\"ytick_2\">\r\n     <g id=\"line2d_4\">\r\n      <g>\r\n       <use style=\"stroke:#000000;stroke-width:0.8;\" x=\"37.55625\" xlink:href=\"#m7f7d24e270\" y=\"170.28\"/>\r\n      </g>\r\n     </g>\r\n     <g id=\"text_5\">\r\n      <!-- True -->\r\n      <g transform=\"translate(28.476563 187.715156)rotate(-90)scale(0.1 -0.1)\">\r\n       <use xlink:href=\"#DejaVuSans-84\"/>\r\n       <use x=\"46.333984\" xlink:href=\"#DejaVuSans-114\"/>\r\n       <use x=\"87.447266\" xlink:href=\"#DejaVuSans-117\"/>\r\n       <use x=\"150.826172\" xlink:href=\"#DejaVuSans-101\"/>\r\n      </g>\r\n     </g>\r\n    </g>\r\n    <g id=\"text_6\">\r\n     <!-- Actual -->\r\n     <g transform=\"translate(14.798438 131.584062)rotate(-90)scale(0.1 -0.1)\">\r\n      <defs>\r\n       <path d=\"M 34.1875 63.1875 \r\nL 20.796875 26.90625 \r\nL 47.609375 26.90625 \r\nz\r\nM 28.609375 72.90625 \r\nL 39.796875 72.90625 \r\nL 67.578125 0 \r\nL 57.328125 0 \r\nL 50.6875 18.703125 \r\nL 17.828125 18.703125 \r\nL 11.1875 0 \r\nL 0.78125 0 \r\nz\r\n\" id=\"DejaVuSans-65\"/>\r\n      </defs>\r\n      <use xlink:href=\"#DejaVuSans-65\"/>\r\n      <use x=\"66.658203\" xlink:href=\"#DejaVuSans-99\"/>\r\n      <use x=\"121.638672\" xlink:href=\"#DejaVuSans-116\"/>\r\n      <use x=\"160.847656\" xlink:href=\"#DejaVuSans-117\"/>\r\n      <use x=\"224.226562\" xlink:href=\"#DejaVuSans-97\"/>\r\n      <use x=\"285.505859\" xlink:href=\"#DejaVuSans-108\"/>\r\n     </g>\r\n    </g>\r\n   </g>\r\n   <g id=\"text_7\">\r\n    <!-- 6.3e+04 -->\r\n    <g style=\"fill:#ffffff;\" transform=\"translate(82.935781 64.319375)scale(0.1 -0.1)\">\r\n     <defs>\r\n      <path d=\"M 33.015625 40.375 \r\nQ 26.375 40.375 22.484375 35.828125 \r\nQ 18.609375 31.296875 18.609375 23.390625 \r\nQ 18.609375 15.53125 22.484375 10.953125 \r\nQ 26.375 6.390625 33.015625 6.390625 \r\nQ 39.65625 6.390625 43.53125 10.953125 \r\nQ 47.40625 15.53125 47.40625 23.390625 \r\nQ 47.40625 31.296875 43.53125 35.828125 \r\nQ 39.65625 40.375 33.015625 40.375 \r\nz\r\nM 52.59375 71.296875 \r\nL 52.59375 62.3125 \r\nQ 48.875 64.0625 45.09375 64.984375 \r\nQ 41.3125 65.921875 37.59375 65.921875 \r\nQ 27.828125 65.921875 22.671875 59.328125 \r\nQ 17.53125 52.734375 16.796875 39.40625 \r\nQ 19.671875 43.65625 24.015625 45.921875 \r\nQ 28.375 48.1875 33.59375 48.1875 \r\nQ 44.578125 48.1875 50.953125 41.515625 \r\nQ 57.328125 34.859375 57.328125 23.390625 \r\nQ 57.328125 12.15625 50.6875 5.359375 \r\nQ 44.046875 -1.421875 33.015625 -1.421875 \r\nQ 20.359375 -1.421875 13.671875 8.265625 \r\nQ 6.984375 17.96875 6.984375 36.375 \r\nQ 6.984375 53.65625 15.1875 63.9375 \r\nQ 23.390625 74.21875 37.203125 74.21875 \r\nQ 40.921875 74.21875 44.703125 73.484375 \r\nQ 48.484375 72.75 52.59375 71.296875 \r\nz\r\n\" id=\"DejaVuSans-54\"/>\r\n      <path d=\"M 10.6875 12.40625 \r\nL 21 12.40625 \r\nL 21 0 \r\nL 10.6875 0 \r\nz\r\n\" id=\"DejaVuSans-46\"/>\r\n      <path d=\"M 40.578125 39.3125 \r\nQ 47.65625 37.796875 51.625 33 \r\nQ 55.609375 28.21875 55.609375 21.1875 \r\nQ 55.609375 10.40625 48.1875 4.484375 \r\nQ 40.765625 -1.421875 27.09375 -1.421875 \r\nQ 22.515625 -1.421875 17.65625 -0.515625 \r\nQ 12.796875 0.390625 7.625 2.203125 \r\nL 7.625 11.71875 \r\nQ 11.71875 9.328125 16.59375 8.109375 \r\nQ 21.484375 6.890625 26.8125 6.890625 \r\nQ 36.078125 6.890625 40.9375 10.546875 \r\nQ 45.796875 14.203125 45.796875 21.1875 \r\nQ 45.796875 27.640625 41.28125 31.265625 \r\nQ 36.765625 34.90625 28.71875 34.90625 \r\nL 20.21875 34.90625 \r\nL 20.21875 43.015625 \r\nL 29.109375 43.015625 \r\nQ 36.375 43.015625 40.234375 45.921875 \r\nQ 44.09375 48.828125 44.09375 54.296875 \r\nQ 44.09375 59.90625 40.109375 62.90625 \r\nQ 36.140625 65.921875 28.71875 65.921875 \r\nQ 24.65625 65.921875 20.015625 65.03125 \r\nQ 15.375 64.15625 9.8125 62.3125 \r\nL 9.8125 71.09375 \r\nQ 15.4375 72.65625 20.34375 73.4375 \r\nQ 25.25 74.21875 29.59375 74.21875 \r\nQ 40.828125 74.21875 47.359375 69.109375 \r\nQ 53.90625 64.015625 53.90625 55.328125 \r\nQ 53.90625 49.265625 50.4375 45.09375 \r\nQ 46.96875 40.921875 40.578125 39.3125 \r\nz\r\n\" id=\"DejaVuSans-51\"/>\r\n      <path d=\"M 46 62.703125 \r\nL 46 35.5 \r\nL 73.1875 35.5 \r\nL 73.1875 27.203125 \r\nL 46 27.203125 \r\nL 46 0 \r\nL 37.796875 0 \r\nL 37.796875 27.203125 \r\nL 10.59375 27.203125 \r\nL 10.59375 35.5 \r\nL 37.796875 35.5 \r\nL 37.796875 62.703125 \r\nz\r\n\" id=\"DejaVuSans-43\"/>\r\n      <path d=\"M 31.78125 66.40625 \r\nQ 24.171875 66.40625 20.328125 58.90625 \r\nQ 16.5 51.421875 16.5 36.375 \r\nQ 16.5 21.390625 20.328125 13.890625 \r\nQ 24.171875 6.390625 31.78125 6.390625 \r\nQ 39.453125 6.390625 43.28125 13.890625 \r\nQ 47.125 21.390625 47.125 36.375 \r\nQ 47.125 51.421875 43.28125 58.90625 \r\nQ 39.453125 66.40625 31.78125 66.40625 \r\nz\r\nM 31.78125 74.21875 \r\nQ 44.046875 74.21875 50.515625 64.515625 \r\nQ 56.984375 54.828125 56.984375 36.375 \r\nQ 56.984375 17.96875 50.515625 8.265625 \r\nQ 44.046875 -1.421875 31.78125 -1.421875 \r\nQ 19.53125 -1.421875 13.0625 8.265625 \r\nQ 6.59375 17.96875 6.59375 36.375 \r\nQ 6.59375 54.828125 13.0625 64.515625 \r\nQ 19.53125 74.21875 31.78125 74.21875 \r\nz\r\n\" id=\"DejaVuSans-48\"/>\r\n      <path d=\"M 37.796875 64.3125 \r\nL 12.890625 25.390625 \r\nL 37.796875 25.390625 \r\nz\r\nM 35.203125 72.90625 \r\nL 47.609375 72.90625 \r\nL 47.609375 25.390625 \r\nL 58.015625 25.390625 \r\nL 58.015625 17.1875 \r\nL 47.609375 17.1875 \r\nL 47.609375 0 \r\nL 37.796875 0 \r\nL 37.796875 17.1875 \r\nL 4.890625 17.1875 \r\nL 4.890625 26.703125 \r\nz\r\n\" id=\"DejaVuSans-52\"/>\r\n     </defs>\r\n     <use xlink:href=\"#DejaVuSans-54\"/>\r\n     <use x=\"63.623047\" xlink:href=\"#DejaVuSans-46\"/>\r\n     <use x=\"95.410156\" xlink:href=\"#DejaVuSans-51\"/>\r\n     <use x=\"159.033203\" xlink:href=\"#DejaVuSans-101\"/>\r\n     <use x=\"220.556641\" xlink:href=\"#DejaVuSans-43\"/>\r\n     <use x=\"304.345703\" xlink:href=\"#DejaVuSans-48\"/>\r\n     <use x=\"367.96875\" xlink:href=\"#DejaVuSans-52\"/>\r\n    </g>\r\n   </g>\r\n   <g id=\"text_8\">\r\n    <!-- 67 -->\r\n    <g style=\"fill:#262626;\" transform=\"translate(232.07375 64.319375)scale(0.1 -0.1)\">\r\n     <defs>\r\n      <path d=\"M 8.203125 72.90625 \r\nL 55.078125 72.90625 \r\nL 55.078125 68.703125 \r\nL 28.609375 0 \r\nL 18.3125 0 \r\nL 43.21875 64.59375 \r\nL 8.203125 64.59375 \r\nz\r\n\" id=\"DejaVuSans-55\"/>\r\n     </defs>\r\n     <use xlink:href=\"#DejaVuSans-54\"/>\r\n     <use x=\"63.623047\" xlink:href=\"#DejaVuSans-55\"/>\r\n    </g>\r\n   </g>\r\n   <g id=\"text_9\">\r\n    <!-- 1.5e+04 -->\r\n    <g style=\"fill:#262626;\" transform=\"translate(82.935781 173.039375)scale(0.1 -0.1)\">\r\n     <defs>\r\n      <path d=\"M 12.40625 8.296875 \r\nL 28.515625 8.296875 \r\nL 28.515625 63.921875 \r\nL 10.984375 60.40625 \r\nL 10.984375 69.390625 \r\nL 28.421875 72.90625 \r\nL 38.28125 72.90625 \r\nL 38.28125 8.296875 \r\nL 54.390625 8.296875 \r\nL 54.390625 0 \r\nL 12.40625 0 \r\nz\r\n\" id=\"DejaVuSans-49\"/>\r\n      <path d=\"M 10.796875 72.90625 \r\nL 49.515625 72.90625 \r\nL 49.515625 64.59375 \r\nL 19.828125 64.59375 \r\nL 19.828125 46.734375 \r\nQ 21.96875 47.46875 24.109375 47.828125 \r\nQ 26.265625 48.1875 28.421875 48.1875 \r\nQ 40.625 48.1875 47.75 41.5 \r\nQ 54.890625 34.8125 54.890625 23.390625 \r\nQ 54.890625 11.625 47.5625 5.09375 \r\nQ 40.234375 -1.421875 26.90625 -1.421875 \r\nQ 22.3125 -1.421875 17.546875 -0.640625 \r\nQ 12.796875 0.140625 7.71875 1.703125 \r\nL 7.71875 11.625 \r\nQ 12.109375 9.234375 16.796875 8.0625 \r\nQ 21.484375 6.890625 26.703125 6.890625 \r\nQ 35.15625 6.890625 40.078125 11.328125 \r\nQ 45.015625 15.765625 45.015625 23.390625 \r\nQ 45.015625 31 40.078125 35.4375 \r\nQ 35.15625 39.890625 26.703125 39.890625 \r\nQ 22.75 39.890625 18.8125 39.015625 \r\nQ 14.890625 38.140625 10.796875 36.28125 \r\nz\r\n\" id=\"DejaVuSans-53\"/>\r\n     </defs>\r\n     <use xlink:href=\"#DejaVuSans-49\"/>\r\n     <use x=\"63.623047\" xlink:href=\"#DejaVuSans-46\"/>\r\n     <use x=\"95.410156\" xlink:href=\"#DejaVuSans-53\"/>\r\n     <use x=\"159.033203\" xlink:href=\"#DejaVuSans-101\"/>\r\n     <use x=\"220.556641\" xlink:href=\"#DejaVuSans-43\"/>\r\n     <use x=\"304.345703\" xlink:href=\"#DejaVuSans-48\"/>\r\n     <use x=\"367.96875\" xlink:href=\"#DejaVuSans-52\"/>\r\n    </g>\r\n   </g>\r\n   <g id=\"text_10\">\r\n    <!-- 63 -->\r\n    <g style=\"fill:#262626;\" transform=\"translate(232.07375 173.039375)scale(0.1 -0.1)\">\r\n     <use xlink:href=\"#DejaVuSans-54\"/>\r\n     <use x=\"63.623047\" xlink:href=\"#DejaVuSans-51\"/>\r\n    </g>\r\n   </g>\r\n  </g>\r\n  <g id=\"axes_2\">\r\n   <g id=\"patch_3\">\r\n    <path clip-path=\"url(#p14e3c65920)\" d=\"M 322.13625 224.64 \r\nL 322.13625 223.790625 \r\nL 322.13625 8.049375 \r\nL 322.13625 7.2 \r\nL 333.00825 7.2 \r\nL 333.00825 8.049375 \r\nL 333.00825 223.790625 \r\nL 333.00825 224.64 \r\nz\r\n\" style=\"fill:#ffffff;stroke:#ffffff;stroke-linejoin:miter;stroke-width:0.01;\"/>\r\n   </g>\r\n   <image height=\"217\" id=\"image706d92e3cf\" transform=\"scale(1 -1)translate(0 -217)\" width=\"11\" x=\"322\" xlink:href=\"data:image/png;base64,\r\niVBORw0KGgoAAAANSUhEUgAAAAsAAADZCAYAAAD2WsoCAAABWklEQVR4nNWawQ0DMQgEsUT/9V0vOUNaYB4jcXkjtJ5dE8fxqX46hp+MqGltZDcpjrEKLAN0hjJQ5wuKiWYoA6BDnYvYzRz0TGGcgebSOKNtBbNhca4G4Yc0xrWRc3ARCRpHFpHRfVbIIJ0ZZ88UcYGWKXeHKV6QzNQBU5YECdntcS6CztP87pDhFf+KRFQbjBftFJEG6mxpnp821G0FaXjFZA/OG0e+nt1Ehnf6grMOFC+h4Q1zL6LeFF1Cw4voF2mI2UDFZNax4yW6oUKdNc1XpEGKgYWijDU0UGdygaOdZJbkmd1vaKlDnME9WWQQzUGyccDPNihD0wxuZyMP2N5bNMPOO+zWNIt2ew7uQGfaPa5Vs0FkwGyAzl8cBWJEta+2g2Sg8H8wz0wGocE4e3nWFgifN2gvFtDfwaS4+pVkQBor0Hk0xEc1bIHogcoKzWaQkN3a3FhB4w9t6ajtRcvsGQAAAABJRU5ErkJggg==\" y=\"-7\"/>\r\n   <g id=\"matplotlib.axis_3\"/>\r\n   <g id=\"matplotlib.axis_4\">\r\n    <g id=\"ytick_3\">\r\n     <g id=\"line2d_5\">\r\n      <defs>\r\n       <path d=\"M 0 0 \r\nL 3.5 0 \r\n\" id=\"m9738e63541\" style=\"stroke:#000000;stroke-width:0.8;\"/>\r\n      </defs>\r\n      <g>\r\n       <use style=\"stroke:#000000;stroke-width:0.8;\" x=\"333.00825\" xlink:href=\"#m9738e63541\" y=\"190.572434\"/>\r\n      </g>\r\n     </g>\r\n     <g id=\"text_11\">\r\n      <!-- 10000 -->\r\n      <g transform=\"translate(340.00825 194.371653)scale(0.1 -0.1)\">\r\n       <use xlink:href=\"#DejaVuSans-49\"/>\r\n       <use x=\"63.623047\" xlink:href=\"#DejaVuSans-48\"/>\r\n       <use x=\"127.246094\" xlink:href=\"#DejaVuSans-48\"/>\r\n       <use x=\"190.869141\" xlink:href=\"#DejaVuSans-48\"/>\r\n       <use x=\"254.492188\" xlink:href=\"#DejaVuSans-48\"/>\r\n      </g>\r\n     </g>\r\n    </g>\r\n    <g id=\"ytick_4\">\r\n     <g id=\"line2d_6\">\r\n      <g>\r\n       <use style=\"stroke:#000000;stroke-width:0.8;\" x=\"333.00825\" xlink:href=\"#m9738e63541\" y=\"156.288882\"/>\r\n      </g>\r\n     </g>\r\n     <g id=\"text_12\">\r\n      <!-- 20000 -->\r\n      <g transform=\"translate(340.00825 160.088101)scale(0.1 -0.1)\">\r\n       <defs>\r\n        <path d=\"M 19.1875 8.296875 \r\nL 53.609375 8.296875 \r\nL 53.609375 0 \r\nL 7.328125 0 \r\nL 7.328125 8.296875 \r\nQ 12.9375 14.109375 22.625 23.890625 \r\nQ 32.328125 33.6875 34.8125 36.53125 \r\nQ 39.546875 41.84375 41.421875 45.53125 \r\nQ 43.3125 49.21875 43.3125 52.78125 \r\nQ 43.3125 58.59375 39.234375 62.25 \r\nQ 35.15625 65.921875 28.609375 65.921875 \r\nQ 23.96875 65.921875 18.8125 64.3125 \r\nQ 13.671875 62.703125 7.8125 59.421875 \r\nL 7.8125 69.390625 \r\nQ 13.765625 71.78125 18.9375 73 \r\nQ 24.125 74.21875 28.421875 74.21875 \r\nQ 39.75 74.21875 46.484375 68.546875 \r\nQ 53.21875 62.890625 53.21875 53.421875 \r\nQ 53.21875 48.921875 51.53125 44.890625 \r\nQ 49.859375 40.875 45.40625 35.40625 \r\nQ 44.1875 33.984375 37.640625 27.21875 \r\nQ 31.109375 20.453125 19.1875 8.296875 \r\nz\r\n\" id=\"DejaVuSans-50\"/>\r\n       </defs>\r\n       <use xlink:href=\"#DejaVuSans-50\"/>\r\n       <use x=\"63.623047\" xlink:href=\"#DejaVuSans-48\"/>\r\n       <use x=\"127.246094\" xlink:href=\"#DejaVuSans-48\"/>\r\n       <use x=\"190.869141\" xlink:href=\"#DejaVuSans-48\"/>\r\n       <use x=\"254.492188\" xlink:href=\"#DejaVuSans-48\"/>\r\n      </g>\r\n     </g>\r\n    </g>\r\n    <g id=\"ytick_5\">\r\n     <g id=\"line2d_7\">\r\n      <g>\r\n       <use style=\"stroke:#000000;stroke-width:0.8;\" x=\"333.00825\" xlink:href=\"#m9738e63541\" y=\"122.00533\"/>\r\n      </g>\r\n     </g>\r\n     <g id=\"text_13\">\r\n      <!-- 30000 -->\r\n      <g transform=\"translate(340.00825 125.804549)scale(0.1 -0.1)\">\r\n       <use xlink:href=\"#DejaVuSans-51\"/>\r\n       <use x=\"63.623047\" xlink:href=\"#DejaVuSans-48\"/>\r\n       <use x=\"127.246094\" xlink:href=\"#DejaVuSans-48\"/>\r\n       <use x=\"190.869141\" xlink:href=\"#DejaVuSans-48\"/>\r\n       <use x=\"254.492188\" xlink:href=\"#DejaVuSans-48\"/>\r\n      </g>\r\n     </g>\r\n    </g>\r\n    <g id=\"ytick_6\">\r\n     <g id=\"line2d_8\">\r\n      <g>\r\n       <use style=\"stroke:#000000;stroke-width:0.8;\" x=\"333.00825\" xlink:href=\"#m9738e63541\" y=\"87.721779\"/>\r\n      </g>\r\n     </g>\r\n     <g id=\"text_14\">\r\n      <!-- 40000 -->\r\n      <g transform=\"translate(340.00825 91.520997)scale(0.1 -0.1)\">\r\n       <use xlink:href=\"#DejaVuSans-52\"/>\r\n       <use x=\"63.623047\" xlink:href=\"#DejaVuSans-48\"/>\r\n       <use x=\"127.246094\" xlink:href=\"#DejaVuSans-48\"/>\r\n       <use x=\"190.869141\" xlink:href=\"#DejaVuSans-48\"/>\r\n       <use x=\"254.492188\" xlink:href=\"#DejaVuSans-48\"/>\r\n      </g>\r\n     </g>\r\n    </g>\r\n    <g id=\"ytick_7\">\r\n     <g id=\"line2d_9\">\r\n      <g>\r\n       <use style=\"stroke:#000000;stroke-width:0.8;\" x=\"333.00825\" xlink:href=\"#m9738e63541\" y=\"53.438227\"/>\r\n      </g>\r\n     </g>\r\n     <g id=\"text_15\">\r\n      <!-- 50000 -->\r\n      <g transform=\"translate(340.00825 57.237445)scale(0.1 -0.1)\">\r\n       <use xlink:href=\"#DejaVuSans-53\"/>\r\n       <use x=\"63.623047\" xlink:href=\"#DejaVuSans-48\"/>\r\n       <use x=\"127.246094\" xlink:href=\"#DejaVuSans-48\"/>\r\n       <use x=\"190.869141\" xlink:href=\"#DejaVuSans-48\"/>\r\n       <use x=\"254.492188\" xlink:href=\"#DejaVuSans-48\"/>\r\n      </g>\r\n     </g>\r\n    </g>\r\n    <g id=\"ytick_8\">\r\n     <g id=\"line2d_10\">\r\n      <g>\r\n       <use style=\"stroke:#000000;stroke-width:0.8;\" x=\"333.00825\" xlink:href=\"#m9738e63541\" y=\"19.154675\"/>\r\n      </g>\r\n     </g>\r\n     <g id=\"text_16\">\r\n      <!-- 60000 -->\r\n      <g transform=\"translate(340.00825 22.953893)scale(0.1 -0.1)\">\r\n       <use xlink:href=\"#DejaVuSans-54\"/>\r\n       <use x=\"63.623047\" xlink:href=\"#DejaVuSans-48\"/>\r\n       <use x=\"127.246094\" xlink:href=\"#DejaVuSans-48\"/>\r\n       <use x=\"190.869141\" xlink:href=\"#DejaVuSans-48\"/>\r\n       <use x=\"254.492188\" xlink:href=\"#DejaVuSans-48\"/>\r\n      </g>\r\n     </g>\r\n    </g>\r\n   </g>\r\n   <g id=\"patch_4\">\r\n    <path d=\"M 322.13625 224.64 \r\nL 322.13625 223.790625 \r\nL 322.13625 8.049375 \r\nL 322.13625 7.2 \r\nL 333.00825 7.2 \r\nL 333.00825 8.049375 \r\nL 333.00825 223.790625 \r\nL 333.00825 224.64 \r\nz\r\n\" style=\"fill:none;\"/>\r\n   </g>\r\n  </g>\r\n </g>\r\n <defs>\r\n  <clipPath id=\"pfacd996b34\">\r\n   <rect height=\"217.44\" width=\"267.84\" x=\"37.55625\" y=\"7.2\"/>\r\n  </clipPath>\r\n  <clipPath id=\"p14e3c65920\">\r\n   <rect height=\"217.44\" width=\"10.872\" x=\"322.13625\" y=\"7.2\"/>\r\n  </clipPath>\r\n </defs>\r\n</svg>\r\n",
      "image/png": "[encoded data removed]"
     },
     "metadata": {
      "needs_background": "light"
     }
    }
   ],
   "source": [
    "y_pred = fase2_pipeline.predict(X_test)\n",
    "y_pred_proba = fase2_pipeline.predict_proba(X_test)[:, 1]\n",
    "\n",
    "\n",
    "precision, recall, thresholds = precision_recall_curve( y_test, y_pred , pos_label=True)\n",
    "\n",
    "\n",
    "precision = precision[:-1][1]\n",
    "recall = recall[:-1][1]\n",
    "f1_score_ = f1_score( y_test, y_pred, pos_label=True)\n",
    "roc_auc_score_ = roc_auc_score(y_test, y_pred)\n",
    "print(\"precision\", precision)\n",
    "print(\"recall\", recall)\n",
    "print('f1',f1_score_)\n",
    "print('roc_auc',  roc_auc_score_)\n",
    "\n",
    "confusion_matrix = pd.crosstab(y_test, y_pred, rownames=['Actual'], colnames=['Predicted'])\n",
    "sns.heatmap(confusion_matrix, annot=True, cmap=\"YlGnBu\")\n",
    "\n"
   ]
  },
  {
   "cell_type": "code",
   "execution_count": 441,
   "metadata": {},
   "outputs": [
    {
     "output_type": "execute_result",
     "data": {
      "text/plain": [
       "search_success\n",
       "False    63554\n",
       "True     14640\n",
       "Name: observation_id, dtype: int64"
      ]
     },
     "metadata": {},
     "execution_count": 441
    }
   ],
   "source": [
    "df_test.groupby('search_success')['observation_id'].count()"
   ]
  },
  {
   "cell_type": "code",
   "execution_count": 442,
   "metadata": {},
   "outputs": [],
   "source": [
    "def verify_retrieve_rates(X_test, y_true, y_test, sensitive_column, max_diff= 0.10):\n",
    "\n",
    "    sensitive_column = sensitive_column\n",
    "    max_diff = max_diff\n",
    "    sensitive_classes = X_test[sensitive_column].unique()\n",
    "\n",
    "    precisions={}\n",
    "    for value in sensitive_classes:\n",
    "        mask = X_test[sensitive_column] == value\n",
    "        precisions[value]=recall_score(y_true[mask], y_test[mask], pos_label=True)\n",
    "    rate_diff = np.max(list(precisions.values())) - np.min(list(precisions.values()))\n",
    "    if rate_diff > max_diff:\n",
    "        return False, rate_diff,  precisions\n",
    "    else:\n",
    "        return True, rate_diff"
   ]
  },
  {
   "cell_type": "code",
   "execution_count": 443,
   "metadata": {},
   "outputs": [
    {
     "output_type": "stream",
     "name": "stdout",
     "text": [
      "Officer-defined ethnicity (True, 0.005273623238523386)\n",
      "Age range (True, 0.00723701214784182)\n",
      "Gender (True, 0.004760105780128448)\n",
      "Stations (False, 0.1506849315068493, {'thames-valley': 0.0, 'leicestershire': 0.010309278350515464, 'avon-and-somerset': 0.0, 'northumbria': 0.0, 'bedfordshire': 0.0, 'norfolk': 0.0, 'essex': 0.0, 'cumbria': 0.0, 'north-yorkshire': 0.0, 'lincolnshire': 0.0, 'hampshire': 0.0, 'north-wales': 0.0, 'merseyside': 0.0, 'west-mercia': 0.0, 'devon-and-cornwall': 0.0, 'btp': 0.0, 'staffordshire': 0.00963855421686747, 'humberside': 0.0, 'cleveland': 0.016260162601626018, 'south-yorkshire': 0.0, 'west-yorkshire': 0.0, 'durham': 0.05172413793103448, 'lancashire': 0.0, 'wiltshire': 0.0, 'kent': 0.0, 'cheshire': 0.0, 'suffolk': 0.0, 'hertfordshire': 0.00482315112540193, 'nottinghamshire': 0.0, 'surrey': 0.0, 'dorset': 0.0, 'dyfed-powys': 0.0, 'city-of-london': 0.1506849315068493, 'northamptonshire': 0.0, 'gloucestershire': 0.0, 'derbyshire': 0.0, 'warwickshire': 0.0, 'sussex': 0.0, 'cambridgeshire': 0.0})\n",
      "Combine (True, 0.00590513068731849)\n"
     ]
    }
   ],
   "source": [
    "print('Officer-defined ethnicity', verify_retrieve_rates(X_test, y_test, y_pred, sensitive_column ='Officer-defined ethnicity', max_diff = 0.10))\n",
    "print('Age range', verify_retrieve_rates(X_test, y_test, y_pred, sensitive_column ='Age range', max_diff = 0.10))\n",
    "print('Gender', verify_retrieve_rates(X_test, y_test, y_pred, sensitive_column ='Gender', max_diff = 0.10))\n",
    "print('Stations', verify_retrieve_rates(X_test, y_test, y_pred, sensitive_column ='station', max_diff = 0.10))\n",
    "\n",
    "X_test['combine'] = X_test['Officer-defined ethnicity'] +' ' + X_test['Age range']+' ' + X_test['station']\n",
    "X_test['combine'] = X_test['Officer-defined ethnicity'] +' ' + X_test['Gender']\n",
    "print('Combine', verify_retrieve_rates(X_test, y_test, y_pred, sensitive_column ='combine', max_diff = 0.10))"
   ]
  },
  {
   "cell_type": "code",
   "execution_count": 444,
   "metadata": {},
   "outputs": [
    {
     "output_type": "execute_result",
     "data": {
      "text/plain": [
       "Index(['observation_id', 'Type', 'Date', 'Part of a policing operation',\n",
       "       'Latitude', 'Longitude', 'Gender', 'Age range',\n",
       "       'Self-defined ethnicity', 'Officer-defined ethnicity', 'Legislation',\n",
       "       'Object of search', 'Outcome', 'Outcome linked to object of search',\n",
       "       'Removal of more than just outer clothing', 'station',\n",
       "       'outcome_positive', 'search_success', 'Day', 'Hour', 'Minute',\n",
       "       'Time (sin)', 'Time (cos)'],\n",
       "      dtype='object')"
      ]
     },
     "metadata": {},
     "execution_count": 444
    }
   ],
   "source": [
    "df_test.columns"
   ]
  },
  {
   "cell_type": "code",
   "execution_count": 445,
   "metadata": {},
   "outputs": [],
   "source": [
    "# Validation analysis \n",
    "df_test.predicted_outcome = y_pred"
   ]
  },
  {
   "cell_type": "code",
   "execution_count": 446,
   "metadata": {},
   "outputs": [
    {
     "output_type": "stream",
     "name": "stdout",
     "text": [
      "True positives Officer-defined ethnicity  Gender  search_success\nAsian                      Male    True               2\nWhite                      Male    True              61\nName: observation_id, dtype: int64\n"
     ]
    }
   ],
   "source": [
    "df_test_ = df_test[(df_test.search_success==True)&(df_test.predicted_outcome==True)]\n",
    "print(\"True positives\", df_test_.groupby(['Officer-defined ethnicity','Gender','search_success'])['observation_id'].count())"
   ]
  },
  {
   "cell_type": "code",
   "execution_count": 447,
   "metadata": {},
   "outputs": [
    {
     "output_type": "stream",
     "name": "stdout",
     "text": [
      "False positives Officer-defined ethnicity  Gender  search_success\nAsian                      Male    False              1\nWhite                      Male    False             66\nName: observation_id, dtype: int64\n"
     ]
    }
   ],
   "source": [
    "\n",
    "df_test_ = df_test[(df_test.search_success==False)&(df_test.predicted_outcome==True)]\n",
    "print(\"False positives\", df_test_.groupby(['Officer-defined ethnicity','Gender','search_success'])['observation_id'].count())"
   ]
  },
  {
   "source": [
    "# First Iteration Model: Excluding half of the false from training data"
   ],
   "cell_type": "markdown",
   "metadata": {}
  },
  {
   "cell_type": "code",
   "execution_count": 448,
   "metadata": {},
   "outputs": [
    {
     "output_type": "stream",
     "name": "stdout",
     "text": [
      "False    183477\n",
      "True      47646\n",
      "Name: search_success, dtype: int64\n",
      "False False    91738\n",
      "Name: search_success, dtype: int64\n",
      "True True    47646\n",
      "Name: search_success, dtype: int64\n"
     ]
    },
    {
     "output_type": "execute_result",
     "data": {
      "text/plain": [
       "False    91738\n",
       "True     47646\n",
       "Name: search_success, dtype: int64"
      ]
     },
     "metadata": {},
     "execution_count": 448
    }
   ],
   "source": [
    "print(df_train.search_success.value_counts())\n",
    "\n",
    "df_train_true = df_train[df_train.search_success == True]\n",
    "\n",
    "df_train_false = df_train[df_train.search_success == False]\n",
    "df_train_false, df_train_false_exclude = train_test_split(df_train_false,  test_size=0.5, shuffle=True )\n",
    "\n",
    "print('False',df_train_false.search_success.value_counts())\n",
    "print('True',df_train_true.search_success.value_counts())\n",
    "\n",
    "\n",
    "#Append True and False\n",
    "df_train = df_train_true.append(df_train_false, ignore_index=True)\n",
    "df_train.search_success.value_counts()"
   ]
  },
  {
   "source": [
    "X_train, y_train= df_train.drop(columns=[target]), df_train[target] \n",
    "X_test, y_test= df_test.drop(columns=[target]), df_test[target]"
   ],
   "cell_type": "code",
   "metadata": {},
   "execution_count": 449,
   "outputs": []
  },
  {
   "cell_type": "code",
   "execution_count": 450,
   "metadata": {},
   "outputs": [
    {
     "output_type": "execute_result",
     "data": {
      "text/plain": [
       "Pipeline(steps=[('preprocessor',\n",
       "                 ColumnTransformer(transformers=[('num',\n",
       "                                                  Pipeline(steps=[('imputer',\n",
       "                                                                   SimpleImputer(strategy='median'))]),\n",
       "                                                  ['Time (sin)', 'Time (cos)']),\n",
       "                                                 ('cat',\n",
       "                                                  Pipeline(steps=[('imputer',\n",
       "                                                                   SimpleImputer(fill_value='missing',\n",
       "                                                                                 strategy='constant')),\n",
       "                                                                  ('onehot',\n",
       "                                                                   OneHotEncoder(handle_unknown='ignore'))]),\n",
       "                                                  ['Type', 'Gender',\n",
       "                                                   'Age range',\n",
       "                                                   'Officer-defined ethnicity',\n",
       "                                                   'Object of search',\n",
       "                                                   'Removal of more than just '\n",
       "                                                   'outer clothing',\n",
       "                                                   'station'])])),\n",
       "                ('model', LGBMClassifier(random_state=42))])"
      ]
     },
     "metadata": {},
     "execution_count": 450
    }
   ],
   "source": [
    "fase2_pipeline.fit(X_train, y_train)"
   ]
  },
  {
   "cell_type": "code",
   "execution_count": 451,
   "metadata": {},
   "outputs": [],
   "source": [
    "def plot_roc_curve(roc_auc, fpr, tpr):\n",
    "    # Function to plot ROC Curve\n",
    "    # Note: this is ALL just matplotlib stuff, nothing scientific about it! \n",
    "    \n",
    "    # Inputs: \n",
    "    #     roc_auc - AU ROC value (float)\n",
    "    #     fpr - false positive rate (output of roc_curve()) array\n",
    "    #     tpr - true positive rate (output of roc_curve()) array\n",
    "    \n",
    "    plt.figure(figsize=(8,6))\n",
    "    lw = 2\n",
    "    plt.plot(fpr, tpr, color='orange', lw=lw, label='ROC curve (AUROC = %0.2f)' % roc_auc)\n",
    "    plt.plot([0, 1], [0, 1], color='navy', lw=lw, linestyle='--', label='random')\n",
    "    plt.xlim([-0.05, 1.0])\n",
    "    plt.ylim([0.0, 1.05])\n",
    "    plt.grid()\n",
    "    plt.xlabel('False Positive Rate')\n",
    "    plt.ylabel('True Positive Rate')\n",
    "    plt.title('Receiver operating characteristic example')\n",
    "    plt.legend(loc=\"lower right\")\n",
    "    plt.show()"
   ]
  },
  {
   "cell_type": "code",
   "execution_count": 452,
   "metadata": {},
   "outputs": [
    {
     "output_type": "stream",
     "name": "stdout",
     "text": [
      "precision 0.3521787093215665\nrecall 0.1744535519125683\nf1 0.2333272428284305\nroc_auc 0.5502660811141027\n"
     ]
    },
    {
     "output_type": "display_data",
     "data": {
      "text/plain": "<Figure size 432x288 with 2 Axes>",
      "image/svg+xml": "<?xml version=\"1.0\" encoding=\"utf-8\" standalone=\"no\"?>\r\n<!DOCTYPE svg PUBLIC \"-//W3C//DTD SVG 1.1//EN\"\r\n  \"http://www.w3.org/Graphics/SVG/1.1/DTD/svg11.dtd\">\r\n<!-- Created with matplotlib (https://matplotlib.org/) -->\r\n<svg height=\"262.19625pt\" version=\"1.1\" viewBox=\"0 0 379.02075 262.19625\" width=\"379.02075pt\" xmlns=\"http://www.w3.org/2000/svg\" xmlns:xlink=\"http://www.w3.org/1999/xlink\">\r\n <metadata>\r\n  <rdf:RDF xmlns:cc=\"http://creativecommons.org/ns#\" xmlns:dc=\"http://purl.org/dc/elements/1.1/\" xmlns:rdf=\"http://www.w3.org/1999/02/22-rdf-syntax-ns#\">\r\n   <cc:Work>\r\n    <dc:type rdf:resource=\"http://purl.org/dc/dcmitype/StillImage\"/>\r\n    <dc:date>2021-02-21T12:36:39.861711</dc:date>\r\n    <dc:format>image/svg+xml</dc:format>\r\n    <dc:creator>\r\n     <cc:Agent>\r\n      <dc:title>Matplotlib v3.3.3, https://matplotlib.org/</dc:title>\r\n     </cc:Agent>\r\n    </dc:creator>\r\n   </cc:Work>\r\n  </rdf:RDF>\r\n </metadata>\r\n <defs>\r\n  <style type=\"text/css\">*{stroke-linecap:butt;stroke-linejoin:round;}</style>\r\n </defs>\r\n <g id=\"figure_1\">\r\n  <g id=\"patch_1\">\r\n   <path d=\"M 0 262.19625 \r\nL 379.02075 262.19625 \r\nL 379.02075 0 \r\nL 0 0 \r\nz\r\n\" style=\"fill:none;\"/>\r\n  </g>\r\n  <g id=\"axes_1\">\r\n   <g id=\"patch_2\">\r\n    <path d=\"M 37.55625 224.64 \r\nL 305.39625 224.64 \r\nL 305.39625 7.2 \r\nL 37.55625 7.2 \r\nz\r\n\" style=\"fill:#ffffff;\"/>\r\n   </g>\r\n   <g id=\"QuadMesh_1\">\r\n    <path clip-path=\"url(#p22d150e4ba)\" d=\"M 37.55625 7.2 \r\nL 171.47625 7.2 \r\nL 171.47625 115.92 \r\nL 37.55625 115.92 \r\nL 37.55625 7.2 \r\n\" style=\"fill:#081d58;\"/>\r\n    <path clip-path=\"url(#p22d150e4ba)\" d=\"M 171.47625 7.2 \r\nL 305.39625 7.2 \r\nL 305.39625 115.92 \r\nL 171.47625 115.92 \r\nL 171.47625 7.2 \r\n\" style=\"fill:#fafdce;\"/>\r\n    <path clip-path=\"url(#p22d150e4ba)\" d=\"M 37.55625 115.92 \r\nL 171.47625 115.92 \r\nL 171.47625 224.64 \r\nL 37.55625 224.64 \r\nL 37.55625 115.92 \r\n\" style=\"fill:#e0f3b2;\"/>\r\n    <path clip-path=\"url(#p22d150e4ba)\" d=\"M 171.47625 115.92 \r\nL 305.39625 115.92 \r\nL 305.39625 224.64 \r\nL 171.47625 224.64 \r\nL 171.47625 115.92 \r\n\" style=\"fill:#ffffd9;\"/>\r\n   </g>\r\n   <g id=\"matplotlib.axis_1\">\r\n    <g id=\"xtick_1\">\r\n     <g id=\"line2d_1\">\r\n      <defs>\r\n       <path d=\"M 0 0 \r\nL 0 3.5 \r\n\" id=\"m455fe08c4c\" style=\"stroke:#000000;stroke-width:0.8;\"/>\r\n      </defs>\r\n      <g>\r\n       <use style=\"stroke:#000000;stroke-width:0.8;\" x=\"104.51625\" xlink:href=\"#m455fe08c4c\" y=\"224.64\"/>\r\n      </g>\r\n     </g>\r\n     <g id=\"text_1\">\r\n      <!-- False -->\r\n      <g transform=\"translate(91.962344 239.238437)scale(0.1 -0.1)\">\r\n       <defs>\r\n        <path d=\"M 9.8125 72.90625 \r\nL 51.703125 72.90625 \r\nL 51.703125 64.59375 \r\nL 19.671875 64.59375 \r\nL 19.671875 43.109375 \r\nL 48.578125 43.109375 \r\nL 48.578125 34.8125 \r\nL 19.671875 34.8125 \r\nL 19.671875 0 \r\nL 9.8125 0 \r\nz\r\n\" id=\"DejaVuSans-70\"/>\r\n        <path d=\"M 34.28125 27.484375 \r\nQ 23.390625 27.484375 19.1875 25 \r\nQ 14.984375 22.515625 14.984375 16.5 \r\nQ 14.984375 11.71875 18.140625 8.90625 \r\nQ 21.296875 6.109375 26.703125 6.109375 \r\nQ 34.1875 6.109375 38.703125 11.40625 \r\nQ 43.21875 16.703125 43.21875 25.484375 \r\nL 43.21875 27.484375 \r\nz\r\nM 52.203125 31.203125 \r\nL 52.203125 0 \r\nL 43.21875 0 \r\nL 43.21875 8.296875 \r\nQ 40.140625 3.328125 35.546875 0.953125 \r\nQ 30.953125 -1.421875 24.3125 -1.421875 \r\nQ 15.921875 -1.421875 10.953125 3.296875 \r\nQ 6 8.015625 6 15.921875 \r\nQ 6 25.140625 12.171875 29.828125 \r\nQ 18.359375 34.515625 30.609375 34.515625 \r\nL 43.21875 34.515625 \r\nL 43.21875 35.40625 \r\nQ 43.21875 41.609375 39.140625 45 \r\nQ 35.0625 48.390625 27.6875 48.390625 \r\nQ 23 48.390625 18.546875 47.265625 \r\nQ 14.109375 46.140625 10.015625 43.890625 \r\nL 10.015625 52.203125 \r\nQ 14.9375 54.109375 19.578125 55.046875 \r\nQ 24.21875 56 28.609375 56 \r\nQ 40.484375 56 46.34375 49.84375 \r\nQ 52.203125 43.703125 52.203125 31.203125 \r\nz\r\n\" id=\"DejaVuSans-97\"/>\r\n        <path d=\"M 9.421875 75.984375 \r\nL 18.40625 75.984375 \r\nL 18.40625 0 \r\nL 9.421875 0 \r\nz\r\n\" id=\"DejaVuSans-108\"/>\r\n        <path d=\"M 44.28125 53.078125 \r\nL 44.28125 44.578125 \r\nQ 40.484375 46.53125 36.375 47.5 \r\nQ 32.28125 48.484375 27.875 48.484375 \r\nQ 21.1875 48.484375 17.84375 46.4375 \r\nQ 14.5 44.390625 14.5 40.28125 \r\nQ 14.5 37.15625 16.890625 35.375 \r\nQ 19.28125 33.59375 26.515625 31.984375 \r\nL 29.59375 31.296875 \r\nQ 39.15625 29.25 43.1875 25.515625 \r\nQ 47.21875 21.78125 47.21875 15.09375 \r\nQ 47.21875 7.46875 41.1875 3.015625 \r\nQ 35.15625 -1.421875 24.609375 -1.421875 \r\nQ 20.21875 -1.421875 15.453125 -0.5625 \r\nQ 10.6875 0.296875 5.421875 2 \r\nL 5.421875 11.28125 \r\nQ 10.40625 8.6875 15.234375 7.390625 \r\nQ 20.0625 6.109375 24.8125 6.109375 \r\nQ 31.15625 6.109375 34.5625 8.28125 \r\nQ 37.984375 10.453125 37.984375 14.40625 \r\nQ 37.984375 18.0625 35.515625 20.015625 \r\nQ 33.0625 21.96875 24.703125 23.78125 \r\nL 21.578125 24.515625 \r\nQ 13.234375 26.265625 9.515625 29.90625 \r\nQ 5.8125 33.546875 5.8125 39.890625 \r\nQ 5.8125 47.609375 11.28125 51.796875 \r\nQ 16.75 56 26.8125 56 \r\nQ 31.78125 56 36.171875 55.265625 \r\nQ 40.578125 54.546875 44.28125 53.078125 \r\nz\r\n\" id=\"DejaVuSans-115\"/>\r\n        <path d=\"M 56.203125 29.59375 \r\nL 56.203125 25.203125 \r\nL 14.890625 25.203125 \r\nQ 15.484375 15.921875 20.484375 11.0625 \r\nQ 25.484375 6.203125 34.421875 6.203125 \r\nQ 39.59375 6.203125 44.453125 7.46875 \r\nQ 49.3125 8.734375 54.109375 11.28125 \r\nL 54.109375 2.78125 \r\nQ 49.265625 0.734375 44.1875 -0.34375 \r\nQ 39.109375 -1.421875 33.890625 -1.421875 \r\nQ 20.796875 -1.421875 13.15625 6.1875 \r\nQ 5.515625 13.8125 5.515625 26.8125 \r\nQ 5.515625 40.234375 12.765625 48.109375 \r\nQ 20.015625 56 32.328125 56 \r\nQ 43.359375 56 49.78125 48.890625 \r\nQ 56.203125 41.796875 56.203125 29.59375 \r\nz\r\nM 47.21875 32.234375 \r\nQ 47.125 39.59375 43.09375 43.984375 \r\nQ 39.0625 48.390625 32.421875 48.390625 \r\nQ 24.90625 48.390625 20.390625 44.140625 \r\nQ 15.875 39.890625 15.1875 32.171875 \r\nz\r\n\" id=\"DejaVuSans-101\"/>\r\n       </defs>\r\n       <use xlink:href=\"#DejaVuSans-70\"/>\r\n       <use x=\"48.394531\" xlink:href=\"#DejaVuSans-97\"/>\r\n       <use x=\"109.673828\" xlink:href=\"#DejaVuSans-108\"/>\r\n       <use x=\"137.457031\" xlink:href=\"#DejaVuSans-115\"/>\r\n       <use x=\"189.556641\" xlink:href=\"#DejaVuSans-101\"/>\r\n      </g>\r\n     </g>\r\n    </g>\r\n    <g id=\"xtick_2\">\r\n     <g id=\"line2d_2\">\r\n      <g>\r\n       <use style=\"stroke:#000000;stroke-width:0.8;\" x=\"238.43625\" xlink:href=\"#m455fe08c4c\" y=\"224.64\"/>\r\n      </g>\r\n     </g>\r\n     <g id=\"text_2\">\r\n      <!-- True -->\r\n      <g transform=\"translate(227.819063 239.238437)scale(0.1 -0.1)\">\r\n       <defs>\r\n        <path d=\"M -0.296875 72.90625 \r\nL 61.375 72.90625 \r\nL 61.375 64.59375 \r\nL 35.5 64.59375 \r\nL 35.5 0 \r\nL 25.59375 0 \r\nL 25.59375 64.59375 \r\nL -0.296875 64.59375 \r\nz\r\n\" id=\"DejaVuSans-84\"/>\r\n        <path d=\"M 41.109375 46.296875 \r\nQ 39.59375 47.171875 37.8125 47.578125 \r\nQ 36.03125 48 33.890625 48 \r\nQ 26.265625 48 22.1875 43.046875 \r\nQ 18.109375 38.09375 18.109375 28.8125 \r\nL 18.109375 0 \r\nL 9.078125 0 \r\nL 9.078125 54.6875 \r\nL 18.109375 54.6875 \r\nL 18.109375 46.1875 \r\nQ 20.953125 51.171875 25.484375 53.578125 \r\nQ 30.03125 56 36.53125 56 \r\nQ 37.453125 56 38.578125 55.875 \r\nQ 39.703125 55.765625 41.0625 55.515625 \r\nz\r\n\" id=\"DejaVuSans-114\"/>\r\n        <path d=\"M 8.5 21.578125 \r\nL 8.5 54.6875 \r\nL 17.484375 54.6875 \r\nL 17.484375 21.921875 \r\nQ 17.484375 14.15625 20.5 10.265625 \r\nQ 23.53125 6.390625 29.59375 6.390625 \r\nQ 36.859375 6.390625 41.078125 11.03125 \r\nQ 45.3125 15.671875 45.3125 23.6875 \r\nL 45.3125 54.6875 \r\nL 54.296875 54.6875 \r\nL 54.296875 0 \r\nL 45.3125 0 \r\nL 45.3125 8.40625 \r\nQ 42.046875 3.421875 37.71875 1 \r\nQ 33.40625 -1.421875 27.6875 -1.421875 \r\nQ 18.265625 -1.421875 13.375 4.4375 \r\nQ 8.5 10.296875 8.5 21.578125 \r\nz\r\nM 31.109375 56 \r\nz\r\n\" id=\"DejaVuSans-117\"/>\r\n       </defs>\r\n       <use xlink:href=\"#DejaVuSans-84\"/>\r\n       <use x=\"46.333984\" xlink:href=\"#DejaVuSans-114\"/>\r\n       <use x=\"87.447266\" xlink:href=\"#DejaVuSans-117\"/>\r\n       <use x=\"150.826172\" xlink:href=\"#DejaVuSans-101\"/>\r\n      </g>\r\n     </g>\r\n    </g>\r\n    <g id=\"text_3\">\r\n     <!-- Predicted -->\r\n     <g transform=\"translate(148.005938 252.916562)scale(0.1 -0.1)\">\r\n      <defs>\r\n       <path d=\"M 19.671875 64.796875 \r\nL 19.671875 37.40625 \r\nL 32.078125 37.40625 \r\nQ 38.96875 37.40625 42.71875 40.96875 \r\nQ 46.484375 44.53125 46.484375 51.125 \r\nQ 46.484375 57.671875 42.71875 61.234375 \r\nQ 38.96875 64.796875 32.078125 64.796875 \r\nz\r\nM 9.8125 72.90625 \r\nL 32.078125 72.90625 \r\nQ 44.34375 72.90625 50.609375 67.359375 \r\nQ 56.890625 61.8125 56.890625 51.125 \r\nQ 56.890625 40.328125 50.609375 34.8125 \r\nQ 44.34375 29.296875 32.078125 29.296875 \r\nL 19.671875 29.296875 \r\nL 19.671875 0 \r\nL 9.8125 0 \r\nz\r\n\" id=\"DejaVuSans-80\"/>\r\n       <path d=\"M 45.40625 46.390625 \r\nL 45.40625 75.984375 \r\nL 54.390625 75.984375 \r\nL 54.390625 0 \r\nL 45.40625 0 \r\nL 45.40625 8.203125 \r\nQ 42.578125 3.328125 38.25 0.953125 \r\nQ 33.9375 -1.421875 27.875 -1.421875 \r\nQ 17.96875 -1.421875 11.734375 6.484375 \r\nQ 5.515625 14.40625 5.515625 27.296875 \r\nQ 5.515625 40.1875 11.734375 48.09375 \r\nQ 17.96875 56 27.875 56 \r\nQ 33.9375 56 38.25 53.625 \r\nQ 42.578125 51.265625 45.40625 46.390625 \r\nz\r\nM 14.796875 27.296875 \r\nQ 14.796875 17.390625 18.875 11.75 \r\nQ 22.953125 6.109375 30.078125 6.109375 \r\nQ 37.203125 6.109375 41.296875 11.75 \r\nQ 45.40625 17.390625 45.40625 27.296875 \r\nQ 45.40625 37.203125 41.296875 42.84375 \r\nQ 37.203125 48.484375 30.078125 48.484375 \r\nQ 22.953125 48.484375 18.875 42.84375 \r\nQ 14.796875 37.203125 14.796875 27.296875 \r\nz\r\n\" id=\"DejaVuSans-100\"/>\r\n       <path d=\"M 9.421875 54.6875 \r\nL 18.40625 54.6875 \r\nL 18.40625 0 \r\nL 9.421875 0 \r\nz\r\nM 9.421875 75.984375 \r\nL 18.40625 75.984375 \r\nL 18.40625 64.59375 \r\nL 9.421875 64.59375 \r\nz\r\n\" id=\"DejaVuSans-105\"/>\r\n       <path d=\"M 48.78125 52.59375 \r\nL 48.78125 44.1875 \r\nQ 44.96875 46.296875 41.140625 47.34375 \r\nQ 37.3125 48.390625 33.40625 48.390625 \r\nQ 24.65625 48.390625 19.8125 42.84375 \r\nQ 14.984375 37.3125 14.984375 27.296875 \r\nQ 14.984375 17.28125 19.8125 11.734375 \r\nQ 24.65625 6.203125 33.40625 6.203125 \r\nQ 37.3125 6.203125 41.140625 7.25 \r\nQ 44.96875 8.296875 48.78125 10.40625 \r\nL 48.78125 2.09375 \r\nQ 45.015625 0.34375 40.984375 -0.53125 \r\nQ 36.96875 -1.421875 32.421875 -1.421875 \r\nQ 20.0625 -1.421875 12.78125 6.34375 \r\nQ 5.515625 14.109375 5.515625 27.296875 \r\nQ 5.515625 40.671875 12.859375 48.328125 \r\nQ 20.21875 56 33.015625 56 \r\nQ 37.15625 56 41.109375 55.140625 \r\nQ 45.0625 54.296875 48.78125 52.59375 \r\nz\r\n\" id=\"DejaVuSans-99\"/>\r\n       <path d=\"M 18.3125 70.21875 \r\nL 18.3125 54.6875 \r\nL 36.8125 54.6875 \r\nL 36.8125 47.703125 \r\nL 18.3125 47.703125 \r\nL 18.3125 18.015625 \r\nQ 18.3125 11.328125 20.140625 9.421875 \r\nQ 21.96875 7.515625 27.59375 7.515625 \r\nL 36.8125 7.515625 \r\nL 36.8125 0 \r\nL 27.59375 0 \r\nQ 17.1875 0 13.234375 3.875 \r\nQ 9.28125 7.765625 9.28125 18.015625 \r\nL 9.28125 47.703125 \r\nL 2.6875 47.703125 \r\nL 2.6875 54.6875 \r\nL 9.28125 54.6875 \r\nL 9.28125 70.21875 \r\nz\r\n\" id=\"DejaVuSans-116\"/>\r\n      </defs>\r\n      <use xlink:href=\"#DejaVuSans-80\"/>\r\n      <use x=\"58.552734\" xlink:href=\"#DejaVuSans-114\"/>\r\n      <use x=\"97.416016\" xlink:href=\"#DejaVuSans-101\"/>\r\n      <use x=\"158.939453\" xlink:href=\"#DejaVuSans-100\"/>\r\n      <use x=\"222.416016\" xlink:href=\"#DejaVuSans-105\"/>\r\n      <use x=\"250.199219\" xlink:href=\"#DejaVuSans-99\"/>\r\n      <use x=\"305.179688\" xlink:href=\"#DejaVuSans-116\"/>\r\n      <use x=\"344.388672\" xlink:href=\"#DejaVuSans-101\"/>\r\n      <use x=\"405.912109\" xlink:href=\"#DejaVuSans-100\"/>\r\n     </g>\r\n    </g>\r\n   </g>\r\n   <g id=\"matplotlib.axis_2\">\r\n    <g id=\"ytick_1\">\r\n     <g id=\"line2d_3\">\r\n      <defs>\r\n       <path d=\"M 0 0 \r\nL -3.5 0 \r\n\" id=\"m20b5eb799d\" style=\"stroke:#000000;stroke-width:0.8;\"/>\r\n      </defs>\r\n      <g>\r\n       <use style=\"stroke:#000000;stroke-width:0.8;\" x=\"37.55625\" xlink:href=\"#m20b5eb799d\" y=\"61.56\"/>\r\n      </g>\r\n     </g>\r\n     <g id=\"text_4\">\r\n      <!-- False -->\r\n      <g transform=\"translate(28.476563 82.868594)rotate(-90)scale(0.1 -0.1)\">\r\n       <use xlink:href=\"#DejaVuSans-70\"/>\r\n       <use x=\"48.394531\" xlink:href=\"#DejaVuSans-97\"/>\r\n       <use x=\"109.673828\" xlink:href=\"#DejaVuSans-108\"/>\r\n       <use x=\"137.457031\" xlink:href=\"#DejaVuSans-115\"/>\r\n       <use x=\"189.556641\" xlink:href=\"#DejaVuSans-101\"/>\r\n      </g>\r\n     </g>\r\n    </g>\r\n    <g id=\"ytick_2\">\r\n     <g id=\"line2d_4\">\r\n      <g>\r\n       <use style=\"stroke:#000000;stroke-width:0.8;\" x=\"37.55625\" xlink:href=\"#m20b5eb799d\" y=\"170.28\"/>\r\n      </g>\r\n     </g>\r\n     <g id=\"text_5\">\r\n      <!-- True -->\r\n      <g transform=\"translate(28.476563 187.715156)rotate(-90)scale(0.1 -0.1)\">\r\n       <use xlink:href=\"#DejaVuSans-84\"/>\r\n       <use x=\"46.333984\" xlink:href=\"#DejaVuSans-114\"/>\r\n       <use x=\"87.447266\" xlink:href=\"#DejaVuSans-117\"/>\r\n       <use x=\"150.826172\" xlink:href=\"#DejaVuSans-101\"/>\r\n      </g>\r\n     </g>\r\n    </g>\r\n    <g id=\"text_6\">\r\n     <!-- Actual -->\r\n     <g transform=\"translate(14.798438 131.584062)rotate(-90)scale(0.1 -0.1)\">\r\n      <defs>\r\n       <path d=\"M 34.1875 63.1875 \r\nL 20.796875 26.90625 \r\nL 47.609375 26.90625 \r\nz\r\nM 28.609375 72.90625 \r\nL 39.796875 72.90625 \r\nL 67.578125 0 \r\nL 57.328125 0 \r\nL 50.6875 18.703125 \r\nL 17.828125 18.703125 \r\nL 11.1875 0 \r\nL 0.78125 0 \r\nz\r\n\" id=\"DejaVuSans-65\"/>\r\n      </defs>\r\n      <use xlink:href=\"#DejaVuSans-65\"/>\r\n      <use x=\"66.658203\" xlink:href=\"#DejaVuSans-99\"/>\r\n      <use x=\"121.638672\" xlink:href=\"#DejaVuSans-116\"/>\r\n      <use x=\"160.847656\" xlink:href=\"#DejaVuSans-117\"/>\r\n      <use x=\"224.226562\" xlink:href=\"#DejaVuSans-97\"/>\r\n      <use x=\"285.505859\" xlink:href=\"#DejaVuSans-108\"/>\r\n     </g>\r\n    </g>\r\n   </g>\r\n   <g id=\"text_7\">\r\n    <!-- 5.9e+04 -->\r\n    <g style=\"fill:#ffffff;\" transform=\"translate(82.935781 64.319375)scale(0.1 -0.1)\">\r\n     <defs>\r\n      <path d=\"M 10.796875 72.90625 \r\nL 49.515625 72.90625 \r\nL 49.515625 64.59375 \r\nL 19.828125 64.59375 \r\nL 19.828125 46.734375 \r\nQ 21.96875 47.46875 24.109375 47.828125 \r\nQ 26.265625 48.1875 28.421875 48.1875 \r\nQ 40.625 48.1875 47.75 41.5 \r\nQ 54.890625 34.8125 54.890625 23.390625 \r\nQ 54.890625 11.625 47.5625 5.09375 \r\nQ 40.234375 -1.421875 26.90625 -1.421875 \r\nQ 22.3125 -1.421875 17.546875 -0.640625 \r\nQ 12.796875 0.140625 7.71875 1.703125 \r\nL 7.71875 11.625 \r\nQ 12.109375 9.234375 16.796875 8.0625 \r\nQ 21.484375 6.890625 26.703125 6.890625 \r\nQ 35.15625 6.890625 40.078125 11.328125 \r\nQ 45.015625 15.765625 45.015625 23.390625 \r\nQ 45.015625 31 40.078125 35.4375 \r\nQ 35.15625 39.890625 26.703125 39.890625 \r\nQ 22.75 39.890625 18.8125 39.015625 \r\nQ 14.890625 38.140625 10.796875 36.28125 \r\nz\r\n\" id=\"DejaVuSans-53\"/>\r\n      <path d=\"M 10.6875 12.40625 \r\nL 21 12.40625 \r\nL 21 0 \r\nL 10.6875 0 \r\nz\r\n\" id=\"DejaVuSans-46\"/>\r\n      <path d=\"M 10.984375 1.515625 \r\nL 10.984375 10.5 \r\nQ 14.703125 8.734375 18.5 7.8125 \r\nQ 22.3125 6.890625 25.984375 6.890625 \r\nQ 35.75 6.890625 40.890625 13.453125 \r\nQ 46.046875 20.015625 46.78125 33.40625 \r\nQ 43.953125 29.203125 39.59375 26.953125 \r\nQ 35.25 24.703125 29.984375 24.703125 \r\nQ 19.046875 24.703125 12.671875 31.3125 \r\nQ 6.296875 37.9375 6.296875 49.421875 \r\nQ 6.296875 60.640625 12.9375 67.421875 \r\nQ 19.578125 74.21875 30.609375 74.21875 \r\nQ 43.265625 74.21875 49.921875 64.515625 \r\nQ 56.59375 54.828125 56.59375 36.375 \r\nQ 56.59375 19.140625 48.40625 8.859375 \r\nQ 40.234375 -1.421875 26.421875 -1.421875 \r\nQ 22.703125 -1.421875 18.890625 -0.6875 \r\nQ 15.09375 0.046875 10.984375 1.515625 \r\nz\r\nM 30.609375 32.421875 \r\nQ 37.25 32.421875 41.125 36.953125 \r\nQ 45.015625 41.5 45.015625 49.421875 \r\nQ 45.015625 57.28125 41.125 61.84375 \r\nQ 37.25 66.40625 30.609375 66.40625 \r\nQ 23.96875 66.40625 20.09375 61.84375 \r\nQ 16.21875 57.28125 16.21875 49.421875 \r\nQ 16.21875 41.5 20.09375 36.953125 \r\nQ 23.96875 32.421875 30.609375 32.421875 \r\nz\r\n\" id=\"DejaVuSans-57\"/>\r\n      <path d=\"M 46 62.703125 \r\nL 46 35.5 \r\nL 73.1875 35.5 \r\nL 73.1875 27.203125 \r\nL 46 27.203125 \r\nL 46 0 \r\nL 37.796875 0 \r\nL 37.796875 27.203125 \r\nL 10.59375 27.203125 \r\nL 10.59375 35.5 \r\nL 37.796875 35.5 \r\nL 37.796875 62.703125 \r\nz\r\n\" id=\"DejaVuSans-43\"/>\r\n      <path d=\"M 31.78125 66.40625 \r\nQ 24.171875 66.40625 20.328125 58.90625 \r\nQ 16.5 51.421875 16.5 36.375 \r\nQ 16.5 21.390625 20.328125 13.890625 \r\nQ 24.171875 6.390625 31.78125 6.390625 \r\nQ 39.453125 6.390625 43.28125 13.890625 \r\nQ 47.125 21.390625 47.125 36.375 \r\nQ 47.125 51.421875 43.28125 58.90625 \r\nQ 39.453125 66.40625 31.78125 66.40625 \r\nz\r\nM 31.78125 74.21875 \r\nQ 44.046875 74.21875 50.515625 64.515625 \r\nQ 56.984375 54.828125 56.984375 36.375 \r\nQ 56.984375 17.96875 50.515625 8.265625 \r\nQ 44.046875 -1.421875 31.78125 -1.421875 \r\nQ 19.53125 -1.421875 13.0625 8.265625 \r\nQ 6.59375 17.96875 6.59375 36.375 \r\nQ 6.59375 54.828125 13.0625 64.515625 \r\nQ 19.53125 74.21875 31.78125 74.21875 \r\nz\r\n\" id=\"DejaVuSans-48\"/>\r\n      <path d=\"M 37.796875 64.3125 \r\nL 12.890625 25.390625 \r\nL 37.796875 25.390625 \r\nz\r\nM 35.203125 72.90625 \r\nL 47.609375 72.90625 \r\nL 47.609375 25.390625 \r\nL 58.015625 25.390625 \r\nL 58.015625 17.1875 \r\nL 47.609375 17.1875 \r\nL 47.609375 0 \r\nL 37.796875 0 \r\nL 37.796875 17.1875 \r\nL 4.890625 17.1875 \r\nL 4.890625 26.703125 \r\nz\r\n\" id=\"DejaVuSans-52\"/>\r\n     </defs>\r\n     <use xlink:href=\"#DejaVuSans-53\"/>\r\n     <use x=\"63.623047\" xlink:href=\"#DejaVuSans-46\"/>\r\n     <use x=\"95.410156\" xlink:href=\"#DejaVuSans-57\"/>\r\n     <use x=\"159.033203\" xlink:href=\"#DejaVuSans-101\"/>\r\n     <use x=\"220.556641\" xlink:href=\"#DejaVuSans-43\"/>\r\n     <use x=\"304.345703\" xlink:href=\"#DejaVuSans-48\"/>\r\n     <use x=\"367.96875\" xlink:href=\"#DejaVuSans-52\"/>\r\n    </g>\r\n   </g>\r\n   <g id=\"text_8\">\r\n    <!-- 4.7e+03 -->\r\n    <g style=\"fill:#262626;\" transform=\"translate(216.855781 64.319375)scale(0.1 -0.1)\">\r\n     <defs>\r\n      <path d=\"M 8.203125 72.90625 \r\nL 55.078125 72.90625 \r\nL 55.078125 68.703125 \r\nL 28.609375 0 \r\nL 18.3125 0 \r\nL 43.21875 64.59375 \r\nL 8.203125 64.59375 \r\nz\r\n\" id=\"DejaVuSans-55\"/>\r\n      <path d=\"M 40.578125 39.3125 \r\nQ 47.65625 37.796875 51.625 33 \r\nQ 55.609375 28.21875 55.609375 21.1875 \r\nQ 55.609375 10.40625 48.1875 4.484375 \r\nQ 40.765625 -1.421875 27.09375 -1.421875 \r\nQ 22.515625 -1.421875 17.65625 -0.515625 \r\nQ 12.796875 0.390625 7.625 2.203125 \r\nL 7.625 11.71875 \r\nQ 11.71875 9.328125 16.59375 8.109375 \r\nQ 21.484375 6.890625 26.8125 6.890625 \r\nQ 36.078125 6.890625 40.9375 10.546875 \r\nQ 45.796875 14.203125 45.796875 21.1875 \r\nQ 45.796875 27.640625 41.28125 31.265625 \r\nQ 36.765625 34.90625 28.71875 34.90625 \r\nL 20.21875 34.90625 \r\nL 20.21875 43.015625 \r\nL 29.109375 43.015625 \r\nQ 36.375 43.015625 40.234375 45.921875 \r\nQ 44.09375 48.828125 44.09375 54.296875 \r\nQ 44.09375 59.90625 40.109375 62.90625 \r\nQ 36.140625 65.921875 28.71875 65.921875 \r\nQ 24.65625 65.921875 20.015625 65.03125 \r\nQ 15.375 64.15625 9.8125 62.3125 \r\nL 9.8125 71.09375 \r\nQ 15.4375 72.65625 20.34375 73.4375 \r\nQ 25.25 74.21875 29.59375 74.21875 \r\nQ 40.828125 74.21875 47.359375 69.109375 \r\nQ 53.90625 64.015625 53.90625 55.328125 \r\nQ 53.90625 49.265625 50.4375 45.09375 \r\nQ 46.96875 40.921875 40.578125 39.3125 \r\nz\r\n\" id=\"DejaVuSans-51\"/>\r\n     </defs>\r\n     <use xlink:href=\"#DejaVuSans-52\"/>\r\n     <use x=\"63.623047\" xlink:href=\"#DejaVuSans-46\"/>\r\n     <use x=\"95.410156\" xlink:href=\"#DejaVuSans-55\"/>\r\n     <use x=\"159.033203\" xlink:href=\"#DejaVuSans-101\"/>\r\n     <use x=\"220.556641\" xlink:href=\"#DejaVuSans-43\"/>\r\n     <use x=\"304.345703\" xlink:href=\"#DejaVuSans-48\"/>\r\n     <use x=\"367.96875\" xlink:href=\"#DejaVuSans-51\"/>\r\n    </g>\r\n   </g>\r\n   <g id=\"text_9\">\r\n    <!-- 1.2e+04 -->\r\n    <g style=\"fill:#262626;\" transform=\"translate(82.935781 173.039375)scale(0.1 -0.1)\">\r\n     <defs>\r\n      <path d=\"M 12.40625 8.296875 \r\nL 28.515625 8.296875 \r\nL 28.515625 63.921875 \r\nL 10.984375 60.40625 \r\nL 10.984375 69.390625 \r\nL 28.421875 72.90625 \r\nL 38.28125 72.90625 \r\nL 38.28125 8.296875 \r\nL 54.390625 8.296875 \r\nL 54.390625 0 \r\nL 12.40625 0 \r\nz\r\n\" id=\"DejaVuSans-49\"/>\r\n      <path d=\"M 19.1875 8.296875 \r\nL 53.609375 8.296875 \r\nL 53.609375 0 \r\nL 7.328125 0 \r\nL 7.328125 8.296875 \r\nQ 12.9375 14.109375 22.625 23.890625 \r\nQ 32.328125 33.6875 34.8125 36.53125 \r\nQ 39.546875 41.84375 41.421875 45.53125 \r\nQ 43.3125 49.21875 43.3125 52.78125 \r\nQ 43.3125 58.59375 39.234375 62.25 \r\nQ 35.15625 65.921875 28.609375 65.921875 \r\nQ 23.96875 65.921875 18.8125 64.3125 \r\nQ 13.671875 62.703125 7.8125 59.421875 \r\nL 7.8125 69.390625 \r\nQ 13.765625 71.78125 18.9375 73 \r\nQ 24.125 74.21875 28.421875 74.21875 \r\nQ 39.75 74.21875 46.484375 68.546875 \r\nQ 53.21875 62.890625 53.21875 53.421875 \r\nQ 53.21875 48.921875 51.53125 44.890625 \r\nQ 49.859375 40.875 45.40625 35.40625 \r\nQ 44.1875 33.984375 37.640625 27.21875 \r\nQ 31.109375 20.453125 19.1875 8.296875 \r\nz\r\n\" id=\"DejaVuSans-50\"/>\r\n     </defs>\r\n     <use xlink:href=\"#DejaVuSans-49\"/>\r\n     <use x=\"63.623047\" xlink:href=\"#DejaVuSans-46\"/>\r\n     <use x=\"95.410156\" xlink:href=\"#DejaVuSans-50\"/>\r\n     <use x=\"159.033203\" xlink:href=\"#DejaVuSans-101\"/>\r\n     <use x=\"220.556641\" xlink:href=\"#DejaVuSans-43\"/>\r\n     <use x=\"304.345703\" xlink:href=\"#DejaVuSans-48\"/>\r\n     <use x=\"367.96875\" xlink:href=\"#DejaVuSans-52\"/>\r\n    </g>\r\n   </g>\r\n   <g id=\"text_10\">\r\n    <!-- 2.6e+03 -->\r\n    <g style=\"fill:#262626;\" transform=\"translate(216.855781 173.039375)scale(0.1 -0.1)\">\r\n     <defs>\r\n      <path d=\"M 33.015625 40.375 \r\nQ 26.375 40.375 22.484375 35.828125 \r\nQ 18.609375 31.296875 18.609375 23.390625 \r\nQ 18.609375 15.53125 22.484375 10.953125 \r\nQ 26.375 6.390625 33.015625 6.390625 \r\nQ 39.65625 6.390625 43.53125 10.953125 \r\nQ 47.40625 15.53125 47.40625 23.390625 \r\nQ 47.40625 31.296875 43.53125 35.828125 \r\nQ 39.65625 40.375 33.015625 40.375 \r\nz\r\nM 52.59375 71.296875 \r\nL 52.59375 62.3125 \r\nQ 48.875 64.0625 45.09375 64.984375 \r\nQ 41.3125 65.921875 37.59375 65.921875 \r\nQ 27.828125 65.921875 22.671875 59.328125 \r\nQ 17.53125 52.734375 16.796875 39.40625 \r\nQ 19.671875 43.65625 24.015625 45.921875 \r\nQ 28.375 48.1875 33.59375 48.1875 \r\nQ 44.578125 48.1875 50.953125 41.515625 \r\nQ 57.328125 34.859375 57.328125 23.390625 \r\nQ 57.328125 12.15625 50.6875 5.359375 \r\nQ 44.046875 -1.421875 33.015625 -1.421875 \r\nQ 20.359375 -1.421875 13.671875 8.265625 \r\nQ 6.984375 17.96875 6.984375 36.375 \r\nQ 6.984375 53.65625 15.1875 63.9375 \r\nQ 23.390625 74.21875 37.203125 74.21875 \r\nQ 40.921875 74.21875 44.703125 73.484375 \r\nQ 48.484375 72.75 52.59375 71.296875 \r\nz\r\n\" id=\"DejaVuSans-54\"/>\r\n     </defs>\r\n     <use xlink:href=\"#DejaVuSans-50\"/>\r\n     <use x=\"63.623047\" xlink:href=\"#DejaVuSans-46\"/>\r\n     <use x=\"95.410156\" xlink:href=\"#DejaVuSans-54\"/>\r\n     <use x=\"159.033203\" xlink:href=\"#DejaVuSans-101\"/>\r\n     <use x=\"220.556641\" xlink:href=\"#DejaVuSans-43\"/>\r\n     <use x=\"304.345703\" xlink:href=\"#DejaVuSans-48\"/>\r\n     <use x=\"367.96875\" xlink:href=\"#DejaVuSans-51\"/>\r\n    </g>\r\n   </g>\r\n  </g>\r\n  <g id=\"axes_2\">\r\n   <g id=\"patch_3\">\r\n    <path clip-path=\"url(#pec168fc2ba)\" d=\"M 322.13625 224.64 \r\nL 322.13625 223.790625 \r\nL 322.13625 8.049375 \r\nL 322.13625 7.2 \r\nL 333.00825 7.2 \r\nL 333.00825 8.049375 \r\nL 333.00825 223.790625 \r\nL 333.00825 224.64 \r\nz\r\n\" style=\"fill:#ffffff;stroke:#ffffff;stroke-linejoin:miter;stroke-width:0.01;\"/>\r\n   </g>\r\n   <image height=\"217\" id=\"imagedfe2e10f84\" transform=\"scale(1 -1)translate(0 -217)\" width=\"11\" x=\"322\" xlink:href=\"data:image/png;base64,\r\niVBORw0KGgoAAAANSUhEUgAAAAsAAADZCAYAAAD2WsoCAAABWklEQVR4nNWawQ0DMQgEsUT/9V0vOUNaYB4jcXkjtJ5dE8fxqX46hp+MqGltZDcpjrEKLAN0hjJQ5wuKiWYoA6BDnYvYzRz0TGGcgebSOKNtBbNhca4G4Yc0xrWRc3ARCRpHFpHRfVbIIJ0ZZ88UcYGWKXeHKV6QzNQBU5YECdntcS6CztP87pDhFf+KRFQbjBftFJEG6mxpnp821G0FaXjFZA/OG0e+nt1Ehnf6grMOFC+h4Q1zL6LeFF1Cw4voF2mI2UDFZNax4yW6oUKdNc1XpEGKgYWijDU0UGdygaOdZJbkmd1vaKlDnME9WWQQzUGyccDPNihD0wxuZyMP2N5bNMPOO+zWNIt2ew7uQGfaPa5Vs0FkwGyAzl8cBWJEta+2g2Sg8H8wz0wGocE4e3nWFgifN2gvFtDfwaS4+pVkQBor0Hk0xEc1bIHogcoKzWaQkN3a3FhB4w9t6ajtRcvsGQAAAABJRU5ErkJggg==\" y=\"-7\"/>\r\n   <g id=\"matplotlib.axis_3\"/>\r\n   <g id=\"matplotlib.axis_4\">\r\n    <g id=\"ytick_3\">\r\n     <g id=\"line2d_5\">\r\n      <defs>\r\n       <path d=\"M 0 0 \r\nL 3.5 0 \r\n\" id=\"m13fd2ebb50\" style=\"stroke:#000000;stroke-width:0.8;\"/>\r\n      </defs>\r\n      <g>\r\n       <use style=\"stroke:#000000;stroke-width:0.8;\" x=\"333.00825\" xlink:href=\"#m13fd2ebb50\" y=\"195.883326\"/>\r\n      </g>\r\n     </g>\r\n     <g id=\"text_11\">\r\n      <!-- 10000 -->\r\n      <g transform=\"translate(340.00825 199.682545)scale(0.1 -0.1)\">\r\n       <use xlink:href=\"#DejaVuSans-49\"/>\r\n       <use x=\"63.623047\" xlink:href=\"#DejaVuSans-48\"/>\r\n       <use x=\"127.246094\" xlink:href=\"#DejaVuSans-48\"/>\r\n       <use x=\"190.869141\" xlink:href=\"#DejaVuSans-48\"/>\r\n       <use x=\"254.492188\" xlink:href=\"#DejaVuSans-48\"/>\r\n      </g>\r\n     </g>\r\n    </g>\r\n    <g id=\"ytick_4\">\r\n     <g id=\"line2d_6\">\r\n      <g>\r\n       <use style=\"stroke:#000000;stroke-width:0.8;\" x=\"333.00825\" xlink:href=\"#m13fd2ebb50\" y=\"157.263029\"/>\r\n      </g>\r\n     </g>\r\n     <g id=\"text_12\">\r\n      <!-- 20000 -->\r\n      <g transform=\"translate(340.00825 161.062247)scale(0.1 -0.1)\">\r\n       <use xlink:href=\"#DejaVuSans-50\"/>\r\n       <use x=\"63.623047\" xlink:href=\"#DejaVuSans-48\"/>\r\n       <use x=\"127.246094\" xlink:href=\"#DejaVuSans-48\"/>\r\n       <use x=\"190.869141\" xlink:href=\"#DejaVuSans-48\"/>\r\n       <use x=\"254.492188\" xlink:href=\"#DejaVuSans-48\"/>\r\n      </g>\r\n     </g>\r\n    </g>\r\n    <g id=\"ytick_5\">\r\n     <g id=\"line2d_7\">\r\n      <g>\r\n       <use style=\"stroke:#000000;stroke-width:0.8;\" x=\"333.00825\" xlink:href=\"#m13fd2ebb50\" y=\"118.642731\"/>\r\n      </g>\r\n     </g>\r\n     <g id=\"text_13\">\r\n      <!-- 30000 -->\r\n      <g transform=\"translate(340.00825 122.44195)scale(0.1 -0.1)\">\r\n       <use xlink:href=\"#DejaVuSans-51\"/>\r\n       <use x=\"63.623047\" xlink:href=\"#DejaVuSans-48\"/>\r\n       <use x=\"127.246094\" xlink:href=\"#DejaVuSans-48\"/>\r\n       <use x=\"190.869141\" xlink:href=\"#DejaVuSans-48\"/>\r\n       <use x=\"254.492188\" xlink:href=\"#DejaVuSans-48\"/>\r\n      </g>\r\n     </g>\r\n    </g>\r\n    <g id=\"ytick_6\">\r\n     <g id=\"line2d_8\">\r\n      <g>\r\n       <use style=\"stroke:#000000;stroke-width:0.8;\" x=\"333.00825\" xlink:href=\"#m13fd2ebb50\" y=\"80.022433\"/>\r\n      </g>\r\n     </g>\r\n     <g id=\"text_14\">\r\n      <!-- 40000 -->\r\n      <g transform=\"translate(340.00825 83.821652)scale(0.1 -0.1)\">\r\n       <use xlink:href=\"#DejaVuSans-52\"/>\r\n       <use x=\"63.623047\" xlink:href=\"#DejaVuSans-48\"/>\r\n       <use x=\"127.246094\" xlink:href=\"#DejaVuSans-48\"/>\r\n       <use x=\"190.869141\" xlink:href=\"#DejaVuSans-48\"/>\r\n       <use x=\"254.492188\" xlink:href=\"#DejaVuSans-48\"/>\r\n      </g>\r\n     </g>\r\n    </g>\r\n    <g id=\"ytick_7\">\r\n     <g id=\"line2d_9\">\r\n      <g>\r\n       <use style=\"stroke:#000000;stroke-width:0.8;\" x=\"333.00825\" xlink:href=\"#m13fd2ebb50\" y=\"41.402136\"/>\r\n      </g>\r\n     </g>\r\n     <g id=\"text_15\">\r\n      <!-- 50000 -->\r\n      <g transform=\"translate(340.00825 45.201354)scale(0.1 -0.1)\">\r\n       <use xlink:href=\"#DejaVuSans-53\"/>\r\n       <use x=\"63.623047\" xlink:href=\"#DejaVuSans-48\"/>\r\n       <use x=\"127.246094\" xlink:href=\"#DejaVuSans-48\"/>\r\n       <use x=\"190.869141\" xlink:href=\"#DejaVuSans-48\"/>\r\n       <use x=\"254.492188\" xlink:href=\"#DejaVuSans-48\"/>\r\n      </g>\r\n     </g>\r\n    </g>\r\n   </g>\r\n   <g id=\"patch_4\">\r\n    <path d=\"M 322.13625 224.64 \r\nL 322.13625 223.790625 \r\nL 322.13625 8.049375 \r\nL 322.13625 7.2 \r\nL 333.00825 7.2 \r\nL 333.00825 8.049375 \r\nL 333.00825 223.790625 \r\nL 333.00825 224.64 \r\nz\r\n\" style=\"fill:none;\"/>\r\n   </g>\r\n  </g>\r\n </g>\r\n <defs>\r\n  <clipPath id=\"p22d150e4ba\">\r\n   <rect height=\"217.44\" width=\"267.84\" x=\"37.55625\" y=\"7.2\"/>\r\n  </clipPath>\r\n  <clipPath id=\"pec168fc2ba\">\r\n   <rect height=\"217.44\" width=\"10.872\" x=\"322.13625\" y=\"7.2\"/>\r\n  </clipPath>\r\n </defs>\r\n</svg>\r\n",
      "image/png": "[encoded data removed]"
     },
     "metadata": {
      "needs_background": "light"
     }
    },
    {
     "output_type": "display_data",
     "data": {
      "text/plain": "<Figure size 576x432 with 1 Axes>",
      "image/svg+xml": "<?xml version=\"1.0\" encoding=\"utf-8\" standalone=\"no\"?>\r\n<!DOCTYPE svg PUBLIC \"-//W3C//DTD SVG 1.1//EN\"\r\n  \"http://www.w3.org/Graphics/SVG/1.1/DTD/svg11.dtd\">\r\n<!-- Created with matplotlib (https://matplotlib.org/) -->\r\n<svg height=\"386.034375pt\" version=\"1.1\" viewBox=\"0 0 505.332813 386.034375\" width=\"505.332813pt\" xmlns=\"http://www.w3.org/2000/svg\" xmlns:xlink=\"http://www.w3.org/1999/xlink\">\r\n <metadata>\r\n  <rdf:RDF xmlns:cc=\"http://creativecommons.org/ns#\" xmlns:dc=\"http://purl.org/dc/elements/1.1/\" xmlns:rdf=\"http://www.w3.org/1999/02/22-rdf-syntax-ns#\">\r\n   <cc:Work>\r\n    <dc:type rdf:resource=\"http://purl.org/dc/dcmitype/StillImage\"/>\r\n    <dc:date>2021-02-21T12:36:40.095631</dc:date>\r\n    <dc:format>image/svg+xml</dc:format>\r\n    <dc:creator>\r\n     <cc:Agent>\r\n      <dc:title>Matplotlib v3.3.3, https://matplotlib.org/</dc:title>\r\n     </cc:Agent>\r\n    </dc:creator>\r\n   </cc:Work>\r\n  </rdf:RDF>\r\n </metadata>\r\n <defs>\r\n  <style type=\"text/css\">*{stroke-linecap:butt;stroke-linejoin:round;}</style>\r\n </defs>\r\n <g id=\"figure_1\">\r\n  <g id=\"patch_1\">\r\n   <path d=\"M 0 386.034375 \r\nL 505.332813 386.034375 \r\nL 505.332813 0 \r\nL 0 0 \r\nz\r\n\" style=\"fill:none;\"/>\r\n  </g>\r\n  <g id=\"axes_1\">\r\n   <g id=\"patch_2\">\r\n    <path d=\"M 43.78125 348.478125 \r\nL 490.18125 348.478125 \r\nL 490.18125 22.318125 \r\nL 43.78125 22.318125 \r\nz\r\n\" style=\"fill:#ffffff;\"/>\r\n   </g>\r\n   <g id=\"matplotlib.axis_1\">\r\n    <g id=\"xtick_1\">\r\n     <g id=\"line2d_1\">\r\n      <path clip-path=\"url(#p2db4fe239e)\" d=\"M 65.038393 348.478125 \r\nL 65.038393 22.318125 \r\n\" style=\"fill:none;stroke:#b0b0b0;stroke-linecap:square;stroke-width:0.8;\"/>\r\n     </g>\r\n     <g id=\"line2d_2\">\r\n      <defs>\r\n       <path d=\"M 0 0 \r\nL 0 3.5 \r\n\" id=\"m6c52f90b10\" style=\"stroke:#000000;stroke-width:0.8;\"/>\r\n      </defs>\r\n      <g>\r\n       <use style=\"stroke:#000000;stroke-width:0.8;\" x=\"65.038393\" xlink:href=\"#m6c52f90b10\" y=\"348.478125\"/>\r\n      </g>\r\n     </g>\r\n     <g id=\"text_1\">\r\n      <!-- 0.0 -->\r\n      <g transform=\"translate(57.08683 363.076562)scale(0.1 -0.1)\">\r\n       <defs>\r\n        <path d=\"M 31.78125 66.40625 \r\nQ 24.171875 66.40625 20.328125 58.90625 \r\nQ 16.5 51.421875 16.5 36.375 \r\nQ 16.5 21.390625 20.328125 13.890625 \r\nQ 24.171875 6.390625 31.78125 6.390625 \r\nQ 39.453125 6.390625 43.28125 13.890625 \r\nQ 47.125 21.390625 47.125 36.375 \r\nQ 47.125 51.421875 43.28125 58.90625 \r\nQ 39.453125 66.40625 31.78125 66.40625 \r\nz\r\nM 31.78125 74.21875 \r\nQ 44.046875 74.21875 50.515625 64.515625 \r\nQ 56.984375 54.828125 56.984375 36.375 \r\nQ 56.984375 17.96875 50.515625 8.265625 \r\nQ 44.046875 -1.421875 31.78125 -1.421875 \r\nQ 19.53125 -1.421875 13.0625 8.265625 \r\nQ 6.59375 17.96875 6.59375 36.375 \r\nQ 6.59375 54.828125 13.0625 64.515625 \r\nQ 19.53125 74.21875 31.78125 74.21875 \r\nz\r\n\" id=\"DejaVuSans-48\"/>\r\n        <path d=\"M 10.6875 12.40625 \r\nL 21 12.40625 \r\nL 21 0 \r\nL 10.6875 0 \r\nz\r\n\" id=\"DejaVuSans-46\"/>\r\n       </defs>\r\n       <use xlink:href=\"#DejaVuSans-48\"/>\r\n       <use x=\"63.623047\" xlink:href=\"#DejaVuSans-46\"/>\r\n       <use x=\"95.410156\" xlink:href=\"#DejaVuSans-48\"/>\r\n      </g>\r\n     </g>\r\n    </g>\r\n    <g id=\"xtick_2\">\r\n     <g id=\"line2d_3\">\r\n      <path clip-path=\"url(#p2db4fe239e)\" d=\"M 150.066964 348.478125 \r\nL 150.066964 22.318125 \r\n\" style=\"fill:none;stroke:#b0b0b0;stroke-linecap:square;stroke-width:0.8;\"/>\r\n     </g>\r\n     <g id=\"line2d_4\">\r\n      <g>\r\n       <use style=\"stroke:#000000;stroke-width:0.8;\" x=\"150.066964\" xlink:href=\"#m6c52f90b10\" y=\"348.478125\"/>\r\n      </g>\r\n     </g>\r\n     <g id=\"text_2\">\r\n      <!-- 0.2 -->\r\n      <g transform=\"translate(142.115402 363.076562)scale(0.1 -0.1)\">\r\n       <defs>\r\n        <path d=\"M 19.1875 8.296875 \r\nL 53.609375 8.296875 \r\nL 53.609375 0 \r\nL 7.328125 0 \r\nL 7.328125 8.296875 \r\nQ 12.9375 14.109375 22.625 23.890625 \r\nQ 32.328125 33.6875 34.8125 36.53125 \r\nQ 39.546875 41.84375 41.421875 45.53125 \r\nQ 43.3125 49.21875 43.3125 52.78125 \r\nQ 43.3125 58.59375 39.234375 62.25 \r\nQ 35.15625 65.921875 28.609375 65.921875 \r\nQ 23.96875 65.921875 18.8125 64.3125 \r\nQ 13.671875 62.703125 7.8125 59.421875 \r\nL 7.8125 69.390625 \r\nQ 13.765625 71.78125 18.9375 73 \r\nQ 24.125 74.21875 28.421875 74.21875 \r\nQ 39.75 74.21875 46.484375 68.546875 \r\nQ 53.21875 62.890625 53.21875 53.421875 \r\nQ 53.21875 48.921875 51.53125 44.890625 \r\nQ 49.859375 40.875 45.40625 35.40625 \r\nQ 44.1875 33.984375 37.640625 27.21875 \r\nQ 31.109375 20.453125 19.1875 8.296875 \r\nz\r\n\" id=\"DejaVuSans-50\"/>\r\n       </defs>\r\n       <use xlink:href=\"#DejaVuSans-48\"/>\r\n       <use x=\"63.623047\" xlink:href=\"#DejaVuSans-46\"/>\r\n       <use x=\"95.410156\" xlink:href=\"#DejaVuSans-50\"/>\r\n      </g>\r\n     </g>\r\n    </g>\r\n    <g id=\"xtick_3\">\r\n     <g id=\"line2d_5\">\r\n      <path clip-path=\"url(#p2db4fe239e)\" d=\"M 235.095536 348.478125 \r\nL 235.095536 22.318125 \r\n\" style=\"fill:none;stroke:#b0b0b0;stroke-linecap:square;stroke-width:0.8;\"/>\r\n     </g>\r\n     <g id=\"line2d_6\">\r\n      <g>\r\n       <use style=\"stroke:#000000;stroke-width:0.8;\" x=\"235.095536\" xlink:href=\"#m6c52f90b10\" y=\"348.478125\"/>\r\n      </g>\r\n     </g>\r\n     <g id=\"text_3\">\r\n      <!-- 0.4 -->\r\n      <g transform=\"translate(227.143973 363.076562)scale(0.1 -0.1)\">\r\n       <defs>\r\n        <path d=\"M 37.796875 64.3125 \r\nL 12.890625 25.390625 \r\nL 37.796875 25.390625 \r\nz\r\nM 35.203125 72.90625 \r\nL 47.609375 72.90625 \r\nL 47.609375 25.390625 \r\nL 58.015625 25.390625 \r\nL 58.015625 17.1875 \r\nL 47.609375 17.1875 \r\nL 47.609375 0 \r\nL 37.796875 0 \r\nL 37.796875 17.1875 \r\nL 4.890625 17.1875 \r\nL 4.890625 26.703125 \r\nz\r\n\" id=\"DejaVuSans-52\"/>\r\n       </defs>\r\n       <use xlink:href=\"#DejaVuSans-48\"/>\r\n       <use x=\"63.623047\" xlink:href=\"#DejaVuSans-46\"/>\r\n       <use x=\"95.410156\" xlink:href=\"#DejaVuSans-52\"/>\r\n      </g>\r\n     </g>\r\n    </g>\r\n    <g id=\"xtick_4\">\r\n     <g id=\"line2d_7\">\r\n      <path clip-path=\"url(#p2db4fe239e)\" d=\"M 320.124107 348.478125 \r\nL 320.124107 22.318125 \r\n\" style=\"fill:none;stroke:#b0b0b0;stroke-linecap:square;stroke-width:0.8;\"/>\r\n     </g>\r\n     <g id=\"line2d_8\">\r\n      <g>\r\n       <use style=\"stroke:#000000;stroke-width:0.8;\" x=\"320.124107\" xlink:href=\"#m6c52f90b10\" y=\"348.478125\"/>\r\n      </g>\r\n     </g>\r\n     <g id=\"text_4\">\r\n      <!-- 0.6 -->\r\n      <g transform=\"translate(312.172545 363.076562)scale(0.1 -0.1)\">\r\n       <defs>\r\n        <path d=\"M 33.015625 40.375 \r\nQ 26.375 40.375 22.484375 35.828125 \r\nQ 18.609375 31.296875 18.609375 23.390625 \r\nQ 18.609375 15.53125 22.484375 10.953125 \r\nQ 26.375 6.390625 33.015625 6.390625 \r\nQ 39.65625 6.390625 43.53125 10.953125 \r\nQ 47.40625 15.53125 47.40625 23.390625 \r\nQ 47.40625 31.296875 43.53125 35.828125 \r\nQ 39.65625 40.375 33.015625 40.375 \r\nz\r\nM 52.59375 71.296875 \r\nL 52.59375 62.3125 \r\nQ 48.875 64.0625 45.09375 64.984375 \r\nQ 41.3125 65.921875 37.59375 65.921875 \r\nQ 27.828125 65.921875 22.671875 59.328125 \r\nQ 17.53125 52.734375 16.796875 39.40625 \r\nQ 19.671875 43.65625 24.015625 45.921875 \r\nQ 28.375 48.1875 33.59375 48.1875 \r\nQ 44.578125 48.1875 50.953125 41.515625 \r\nQ 57.328125 34.859375 57.328125 23.390625 \r\nQ 57.328125 12.15625 50.6875 5.359375 \r\nQ 44.046875 -1.421875 33.015625 -1.421875 \r\nQ 20.359375 -1.421875 13.671875 8.265625 \r\nQ 6.984375 17.96875 6.984375 36.375 \r\nQ 6.984375 53.65625 15.1875 63.9375 \r\nQ 23.390625 74.21875 37.203125 74.21875 \r\nQ 40.921875 74.21875 44.703125 73.484375 \r\nQ 48.484375 72.75 52.59375 71.296875 \r\nz\r\n\" id=\"DejaVuSans-54\"/>\r\n       </defs>\r\n       <use xlink:href=\"#DejaVuSans-48\"/>\r\n       <use x=\"63.623047\" xlink:href=\"#DejaVuSans-46\"/>\r\n       <use x=\"95.410156\" xlink:href=\"#DejaVuSans-54\"/>\r\n      </g>\r\n     </g>\r\n    </g>\r\n    <g id=\"xtick_5\">\r\n     <g id=\"line2d_9\">\r\n      <path clip-path=\"url(#p2db4fe239e)\" d=\"M 405.152679 348.478125 \r\nL 405.152679 22.318125 \r\n\" style=\"fill:none;stroke:#b0b0b0;stroke-linecap:square;stroke-width:0.8;\"/>\r\n     </g>\r\n     <g id=\"line2d_10\">\r\n      <g>\r\n       <use style=\"stroke:#000000;stroke-width:0.8;\" x=\"405.152679\" xlink:href=\"#m6c52f90b10\" y=\"348.478125\"/>\r\n      </g>\r\n     </g>\r\n     <g id=\"text_5\">\r\n      <!-- 0.8 -->\r\n      <g transform=\"translate(397.201116 363.076562)scale(0.1 -0.1)\">\r\n       <defs>\r\n        <path d=\"M 31.78125 34.625 \r\nQ 24.75 34.625 20.71875 30.859375 \r\nQ 16.703125 27.09375 16.703125 20.515625 \r\nQ 16.703125 13.921875 20.71875 10.15625 \r\nQ 24.75 6.390625 31.78125 6.390625 \r\nQ 38.8125 6.390625 42.859375 10.171875 \r\nQ 46.921875 13.96875 46.921875 20.515625 \r\nQ 46.921875 27.09375 42.890625 30.859375 \r\nQ 38.875 34.625 31.78125 34.625 \r\nz\r\nM 21.921875 38.8125 \r\nQ 15.578125 40.375 12.03125 44.71875 \r\nQ 8.5 49.078125 8.5 55.328125 \r\nQ 8.5 64.0625 14.71875 69.140625 \r\nQ 20.953125 74.21875 31.78125 74.21875 \r\nQ 42.671875 74.21875 48.875 69.140625 \r\nQ 55.078125 64.0625 55.078125 55.328125 \r\nQ 55.078125 49.078125 51.53125 44.71875 \r\nQ 48 40.375 41.703125 38.8125 \r\nQ 48.828125 37.15625 52.796875 32.3125 \r\nQ 56.78125 27.484375 56.78125 20.515625 \r\nQ 56.78125 9.90625 50.3125 4.234375 \r\nQ 43.84375 -1.421875 31.78125 -1.421875 \r\nQ 19.734375 -1.421875 13.25 4.234375 \r\nQ 6.78125 9.90625 6.78125 20.515625 \r\nQ 6.78125 27.484375 10.78125 32.3125 \r\nQ 14.796875 37.15625 21.921875 38.8125 \r\nz\r\nM 18.3125 54.390625 \r\nQ 18.3125 48.734375 21.84375 45.5625 \r\nQ 25.390625 42.390625 31.78125 42.390625 \r\nQ 38.140625 42.390625 41.71875 45.5625 \r\nQ 45.3125 48.734375 45.3125 54.390625 \r\nQ 45.3125 60.0625 41.71875 63.234375 \r\nQ 38.140625 66.40625 31.78125 66.40625 \r\nQ 25.390625 66.40625 21.84375 63.234375 \r\nQ 18.3125 60.0625 18.3125 54.390625 \r\nz\r\n\" id=\"DejaVuSans-56\"/>\r\n       </defs>\r\n       <use xlink:href=\"#DejaVuSans-48\"/>\r\n       <use x=\"63.623047\" xlink:href=\"#DejaVuSans-46\"/>\r\n       <use x=\"95.410156\" xlink:href=\"#DejaVuSans-56\"/>\r\n      </g>\r\n     </g>\r\n    </g>\r\n    <g id=\"xtick_6\">\r\n     <g id=\"line2d_11\">\r\n      <path clip-path=\"url(#p2db4fe239e)\" d=\"M 490.18125 348.478125 \r\nL 490.18125 22.318125 \r\n\" style=\"fill:none;stroke:#b0b0b0;stroke-linecap:square;stroke-width:0.8;\"/>\r\n     </g>\r\n     <g id=\"line2d_12\">\r\n      <g>\r\n       <use style=\"stroke:#000000;stroke-width:0.8;\" x=\"490.18125\" xlink:href=\"#m6c52f90b10\" y=\"348.478125\"/>\r\n      </g>\r\n     </g>\r\n     <g id=\"text_6\">\r\n      <!-- 1.0 -->\r\n      <g transform=\"translate(482.229688 363.076562)scale(0.1 -0.1)\">\r\n       <defs>\r\n        <path d=\"M 12.40625 8.296875 \r\nL 28.515625 8.296875 \r\nL 28.515625 63.921875 \r\nL 10.984375 60.40625 \r\nL 10.984375 69.390625 \r\nL 28.421875 72.90625 \r\nL 38.28125 72.90625 \r\nL 38.28125 8.296875 \r\nL 54.390625 8.296875 \r\nL 54.390625 0 \r\nL 12.40625 0 \r\nz\r\n\" id=\"DejaVuSans-49\"/>\r\n       </defs>\r\n       <use xlink:href=\"#DejaVuSans-49\"/>\r\n       <use x=\"63.623047\" xlink:href=\"#DejaVuSans-46\"/>\r\n       <use x=\"95.410156\" xlink:href=\"#DejaVuSans-48\"/>\r\n      </g>\r\n     </g>\r\n    </g>\r\n    <g id=\"text_7\">\r\n     <!-- False Positive Rate -->\r\n     <g transform=\"translate(220.514844 376.754687)scale(0.1 -0.1)\">\r\n      <defs>\r\n       <path d=\"M 9.8125 72.90625 \r\nL 51.703125 72.90625 \r\nL 51.703125 64.59375 \r\nL 19.671875 64.59375 \r\nL 19.671875 43.109375 \r\nL 48.578125 43.109375 \r\nL 48.578125 34.8125 \r\nL 19.671875 34.8125 \r\nL 19.671875 0 \r\nL 9.8125 0 \r\nz\r\n\" id=\"DejaVuSans-70\"/>\r\n       <path d=\"M 34.28125 27.484375 \r\nQ 23.390625 27.484375 19.1875 25 \r\nQ 14.984375 22.515625 14.984375 16.5 \r\nQ 14.984375 11.71875 18.140625 8.90625 \r\nQ 21.296875 6.109375 26.703125 6.109375 \r\nQ 34.1875 6.109375 38.703125 11.40625 \r\nQ 43.21875 16.703125 43.21875 25.484375 \r\nL 43.21875 27.484375 \r\nz\r\nM 52.203125 31.203125 \r\nL 52.203125 0 \r\nL 43.21875 0 \r\nL 43.21875 8.296875 \r\nQ 40.140625 3.328125 35.546875 0.953125 \r\nQ 30.953125 -1.421875 24.3125 -1.421875 \r\nQ 15.921875 -1.421875 10.953125 3.296875 \r\nQ 6 8.015625 6 15.921875 \r\nQ 6 25.140625 12.171875 29.828125 \r\nQ 18.359375 34.515625 30.609375 34.515625 \r\nL 43.21875 34.515625 \r\nL 43.21875 35.40625 \r\nQ 43.21875 41.609375 39.140625 45 \r\nQ 35.0625 48.390625 27.6875 48.390625 \r\nQ 23 48.390625 18.546875 47.265625 \r\nQ 14.109375 46.140625 10.015625 43.890625 \r\nL 10.015625 52.203125 \r\nQ 14.9375 54.109375 19.578125 55.046875 \r\nQ 24.21875 56 28.609375 56 \r\nQ 40.484375 56 46.34375 49.84375 \r\nQ 52.203125 43.703125 52.203125 31.203125 \r\nz\r\n\" id=\"DejaVuSans-97\"/>\r\n       <path d=\"M 9.421875 75.984375 \r\nL 18.40625 75.984375 \r\nL 18.40625 0 \r\nL 9.421875 0 \r\nz\r\n\" id=\"DejaVuSans-108\"/>\r\n       <path d=\"M 44.28125 53.078125 \r\nL 44.28125 44.578125 \r\nQ 40.484375 46.53125 36.375 47.5 \r\nQ 32.28125 48.484375 27.875 48.484375 \r\nQ 21.1875 48.484375 17.84375 46.4375 \r\nQ 14.5 44.390625 14.5 40.28125 \r\nQ 14.5 37.15625 16.890625 35.375 \r\nQ 19.28125 33.59375 26.515625 31.984375 \r\nL 29.59375 31.296875 \r\nQ 39.15625 29.25 43.1875 25.515625 \r\nQ 47.21875 21.78125 47.21875 15.09375 \r\nQ 47.21875 7.46875 41.1875 3.015625 \r\nQ 35.15625 -1.421875 24.609375 -1.421875 \r\nQ 20.21875 -1.421875 15.453125 -0.5625 \r\nQ 10.6875 0.296875 5.421875 2 \r\nL 5.421875 11.28125 \r\nQ 10.40625 8.6875 15.234375 7.390625 \r\nQ 20.0625 6.109375 24.8125 6.109375 \r\nQ 31.15625 6.109375 34.5625 8.28125 \r\nQ 37.984375 10.453125 37.984375 14.40625 \r\nQ 37.984375 18.0625 35.515625 20.015625 \r\nQ 33.0625 21.96875 24.703125 23.78125 \r\nL 21.578125 24.515625 \r\nQ 13.234375 26.265625 9.515625 29.90625 \r\nQ 5.8125 33.546875 5.8125 39.890625 \r\nQ 5.8125 47.609375 11.28125 51.796875 \r\nQ 16.75 56 26.8125 56 \r\nQ 31.78125 56 36.171875 55.265625 \r\nQ 40.578125 54.546875 44.28125 53.078125 \r\nz\r\n\" id=\"DejaVuSans-115\"/>\r\n       <path d=\"M 56.203125 29.59375 \r\nL 56.203125 25.203125 \r\nL 14.890625 25.203125 \r\nQ 15.484375 15.921875 20.484375 11.0625 \r\nQ 25.484375 6.203125 34.421875 6.203125 \r\nQ 39.59375 6.203125 44.453125 7.46875 \r\nQ 49.3125 8.734375 54.109375 11.28125 \r\nL 54.109375 2.78125 \r\nQ 49.265625 0.734375 44.1875 -0.34375 \r\nQ 39.109375 -1.421875 33.890625 -1.421875 \r\nQ 20.796875 -1.421875 13.15625 6.1875 \r\nQ 5.515625 13.8125 5.515625 26.8125 \r\nQ 5.515625 40.234375 12.765625 48.109375 \r\nQ 20.015625 56 32.328125 56 \r\nQ 43.359375 56 49.78125 48.890625 \r\nQ 56.203125 41.796875 56.203125 29.59375 \r\nz\r\nM 47.21875 32.234375 \r\nQ 47.125 39.59375 43.09375 43.984375 \r\nQ 39.0625 48.390625 32.421875 48.390625 \r\nQ 24.90625 48.390625 20.390625 44.140625 \r\nQ 15.875 39.890625 15.1875 32.171875 \r\nz\r\n\" id=\"DejaVuSans-101\"/>\r\n       <path id=\"DejaVuSans-32\"/>\r\n       <path d=\"M 19.671875 64.796875 \r\nL 19.671875 37.40625 \r\nL 32.078125 37.40625 \r\nQ 38.96875 37.40625 42.71875 40.96875 \r\nQ 46.484375 44.53125 46.484375 51.125 \r\nQ 46.484375 57.671875 42.71875 61.234375 \r\nQ 38.96875 64.796875 32.078125 64.796875 \r\nz\r\nM 9.8125 72.90625 \r\nL 32.078125 72.90625 \r\nQ 44.34375 72.90625 50.609375 67.359375 \r\nQ 56.890625 61.8125 56.890625 51.125 \r\nQ 56.890625 40.328125 50.609375 34.8125 \r\nQ 44.34375 29.296875 32.078125 29.296875 \r\nL 19.671875 29.296875 \r\nL 19.671875 0 \r\nL 9.8125 0 \r\nz\r\n\" id=\"DejaVuSans-80\"/>\r\n       <path d=\"M 30.609375 48.390625 \r\nQ 23.390625 48.390625 19.1875 42.75 \r\nQ 14.984375 37.109375 14.984375 27.296875 \r\nQ 14.984375 17.484375 19.15625 11.84375 \r\nQ 23.34375 6.203125 30.609375 6.203125 \r\nQ 37.796875 6.203125 41.984375 11.859375 \r\nQ 46.1875 17.53125 46.1875 27.296875 \r\nQ 46.1875 37.015625 41.984375 42.703125 \r\nQ 37.796875 48.390625 30.609375 48.390625 \r\nz\r\nM 30.609375 56 \r\nQ 42.328125 56 49.015625 48.375 \r\nQ 55.71875 40.765625 55.71875 27.296875 \r\nQ 55.71875 13.875 49.015625 6.21875 \r\nQ 42.328125 -1.421875 30.609375 -1.421875 \r\nQ 18.84375 -1.421875 12.171875 6.21875 \r\nQ 5.515625 13.875 5.515625 27.296875 \r\nQ 5.515625 40.765625 12.171875 48.375 \r\nQ 18.84375 56 30.609375 56 \r\nz\r\n\" id=\"DejaVuSans-111\"/>\r\n       <path d=\"M 9.421875 54.6875 \r\nL 18.40625 54.6875 \r\nL 18.40625 0 \r\nL 9.421875 0 \r\nz\r\nM 9.421875 75.984375 \r\nL 18.40625 75.984375 \r\nL 18.40625 64.59375 \r\nL 9.421875 64.59375 \r\nz\r\n\" id=\"DejaVuSans-105\"/>\r\n       <path d=\"M 18.3125 70.21875 \r\nL 18.3125 54.6875 \r\nL 36.8125 54.6875 \r\nL 36.8125 47.703125 \r\nL 18.3125 47.703125 \r\nL 18.3125 18.015625 \r\nQ 18.3125 11.328125 20.140625 9.421875 \r\nQ 21.96875 7.515625 27.59375 7.515625 \r\nL 36.8125 7.515625 \r\nL 36.8125 0 \r\nL 27.59375 0 \r\nQ 17.1875 0 13.234375 3.875 \r\nQ 9.28125 7.765625 9.28125 18.015625 \r\nL 9.28125 47.703125 \r\nL 2.6875 47.703125 \r\nL 2.6875 54.6875 \r\nL 9.28125 54.6875 \r\nL 9.28125 70.21875 \r\nz\r\n\" id=\"DejaVuSans-116\"/>\r\n       <path d=\"M 2.984375 54.6875 \r\nL 12.5 54.6875 \r\nL 29.59375 8.796875 \r\nL 46.6875 54.6875 \r\nL 56.203125 54.6875 \r\nL 35.6875 0 \r\nL 23.484375 0 \r\nz\r\n\" id=\"DejaVuSans-118\"/>\r\n       <path d=\"M 44.390625 34.1875 \r\nQ 47.5625 33.109375 50.5625 29.59375 \r\nQ 53.5625 26.078125 56.59375 19.921875 \r\nL 66.609375 0 \r\nL 56 0 \r\nL 46.6875 18.703125 \r\nQ 43.0625 26.03125 39.671875 28.421875 \r\nQ 36.28125 30.8125 30.421875 30.8125 \r\nL 19.671875 30.8125 \r\nL 19.671875 0 \r\nL 9.8125 0 \r\nL 9.8125 72.90625 \r\nL 32.078125 72.90625 \r\nQ 44.578125 72.90625 50.734375 67.671875 \r\nQ 56.890625 62.453125 56.890625 51.90625 \r\nQ 56.890625 45.015625 53.6875 40.46875 \r\nQ 50.484375 35.9375 44.390625 34.1875 \r\nz\r\nM 19.671875 64.796875 \r\nL 19.671875 38.921875 \r\nL 32.078125 38.921875 \r\nQ 39.203125 38.921875 42.84375 42.21875 \r\nQ 46.484375 45.515625 46.484375 51.90625 \r\nQ 46.484375 58.296875 42.84375 61.546875 \r\nQ 39.203125 64.796875 32.078125 64.796875 \r\nz\r\n\" id=\"DejaVuSans-82\"/>\r\n      </defs>\r\n      <use xlink:href=\"#DejaVuSans-70\"/>\r\n      <use x=\"48.394531\" xlink:href=\"#DejaVuSans-97\"/>\r\n      <use x=\"109.673828\" xlink:href=\"#DejaVuSans-108\"/>\r\n      <use x=\"137.457031\" xlink:href=\"#DejaVuSans-115\"/>\r\n      <use x=\"189.556641\" xlink:href=\"#DejaVuSans-101\"/>\r\n      <use x=\"251.080078\" xlink:href=\"#DejaVuSans-32\"/>\r\n      <use x=\"282.867188\" xlink:href=\"#DejaVuSans-80\"/>\r\n      <use x=\"339.544922\" xlink:href=\"#DejaVuSans-111\"/>\r\n      <use x=\"400.726562\" xlink:href=\"#DejaVuSans-115\"/>\r\n      <use x=\"452.826172\" xlink:href=\"#DejaVuSans-105\"/>\r\n      <use x=\"480.609375\" xlink:href=\"#DejaVuSans-116\"/>\r\n      <use x=\"519.818359\" xlink:href=\"#DejaVuSans-105\"/>\r\n      <use x=\"547.601562\" xlink:href=\"#DejaVuSans-118\"/>\r\n      <use x=\"606.78125\" xlink:href=\"#DejaVuSans-101\"/>\r\n      <use x=\"668.304688\" xlink:href=\"#DejaVuSans-32\"/>\r\n      <use x=\"700.091797\" xlink:href=\"#DejaVuSans-82\"/>\r\n      <use x=\"767.324219\" xlink:href=\"#DejaVuSans-97\"/>\r\n      <use x=\"828.603516\" xlink:href=\"#DejaVuSans-116\"/>\r\n      <use x=\"867.8125\" xlink:href=\"#DejaVuSans-101\"/>\r\n     </g>\r\n    </g>\r\n   </g>\r\n   <g id=\"matplotlib.axis_2\">\r\n    <g id=\"ytick_1\">\r\n     <g id=\"line2d_13\">\r\n      <path clip-path=\"url(#p2db4fe239e)\" d=\"M 43.78125 348.478125 \r\nL 490.18125 348.478125 \r\n\" style=\"fill:none;stroke:#b0b0b0;stroke-linecap:square;stroke-width:0.8;\"/>\r\n     </g>\r\n     <g id=\"line2d_14\">\r\n      <defs>\r\n       <path d=\"M 0 0 \r\nL -3.5 0 \r\n\" id=\"mddc85a46bd\" style=\"stroke:#000000;stroke-width:0.8;\"/>\r\n      </defs>\r\n      <g>\r\n       <use style=\"stroke:#000000;stroke-width:0.8;\" x=\"43.78125\" xlink:href=\"#mddc85a46bd\" y=\"348.478125\"/>\r\n      </g>\r\n     </g>\r\n     <g id=\"text_8\">\r\n      <!-- 0.0 -->\r\n      <g transform=\"translate(20.878125 352.277344)scale(0.1 -0.1)\">\r\n       <use xlink:href=\"#DejaVuSans-48\"/>\r\n       <use x=\"63.623047\" xlink:href=\"#DejaVuSans-46\"/>\r\n       <use x=\"95.410156\" xlink:href=\"#DejaVuSans-48\"/>\r\n      </g>\r\n     </g>\r\n    </g>\r\n    <g id=\"ytick_2\">\r\n     <g id=\"line2d_15\">\r\n      <path clip-path=\"url(#p2db4fe239e)\" d=\"M 43.78125 286.352411 \r\nL 490.18125 286.352411 \r\n\" style=\"fill:none;stroke:#b0b0b0;stroke-linecap:square;stroke-width:0.8;\"/>\r\n     </g>\r\n     <g id=\"line2d_16\">\r\n      <g>\r\n       <use style=\"stroke:#000000;stroke-width:0.8;\" x=\"43.78125\" xlink:href=\"#mddc85a46bd\" y=\"286.352411\"/>\r\n      </g>\r\n     </g>\r\n     <g id=\"text_9\">\r\n      <!-- 0.2 -->\r\n      <g transform=\"translate(20.878125 290.151629)scale(0.1 -0.1)\">\r\n       <use xlink:href=\"#DejaVuSans-48\"/>\r\n       <use x=\"63.623047\" xlink:href=\"#DejaVuSans-46\"/>\r\n       <use x=\"95.410156\" xlink:href=\"#DejaVuSans-50\"/>\r\n      </g>\r\n     </g>\r\n    </g>\r\n    <g id=\"ytick_3\">\r\n     <g id=\"line2d_17\">\r\n      <path clip-path=\"url(#p2db4fe239e)\" d=\"M 43.78125 224.226696 \r\nL 490.18125 224.226696 \r\n\" style=\"fill:none;stroke:#b0b0b0;stroke-linecap:square;stroke-width:0.8;\"/>\r\n     </g>\r\n     <g id=\"line2d_18\">\r\n      <g>\r\n       <use style=\"stroke:#000000;stroke-width:0.8;\" x=\"43.78125\" xlink:href=\"#mddc85a46bd\" y=\"224.226696\"/>\r\n      </g>\r\n     </g>\r\n     <g id=\"text_10\">\r\n      <!-- 0.4 -->\r\n      <g transform=\"translate(20.878125 228.025915)scale(0.1 -0.1)\">\r\n       <use xlink:href=\"#DejaVuSans-48\"/>\r\n       <use x=\"63.623047\" xlink:href=\"#DejaVuSans-46\"/>\r\n       <use x=\"95.410156\" xlink:href=\"#DejaVuSans-52\"/>\r\n      </g>\r\n     </g>\r\n    </g>\r\n    <g id=\"ytick_4\">\r\n     <g id=\"line2d_19\">\r\n      <path clip-path=\"url(#p2db4fe239e)\" d=\"M 43.78125 162.100982 \r\nL 490.18125 162.100982 \r\n\" style=\"fill:none;stroke:#b0b0b0;stroke-linecap:square;stroke-width:0.8;\"/>\r\n     </g>\r\n     <g id=\"line2d_20\">\r\n      <g>\r\n       <use style=\"stroke:#000000;stroke-width:0.8;\" x=\"43.78125\" xlink:href=\"#mddc85a46bd\" y=\"162.100982\"/>\r\n      </g>\r\n     </g>\r\n     <g id=\"text_11\">\r\n      <!-- 0.6 -->\r\n      <g transform=\"translate(20.878125 165.900201)scale(0.1 -0.1)\">\r\n       <use xlink:href=\"#DejaVuSans-48\"/>\r\n       <use x=\"63.623047\" xlink:href=\"#DejaVuSans-46\"/>\r\n       <use x=\"95.410156\" xlink:href=\"#DejaVuSans-54\"/>\r\n      </g>\r\n     </g>\r\n    </g>\r\n    <g id=\"ytick_5\">\r\n     <g id=\"line2d_21\">\r\n      <path clip-path=\"url(#p2db4fe239e)\" d=\"M 43.78125 99.975268 \r\nL 490.18125 99.975268 \r\n\" style=\"fill:none;stroke:#b0b0b0;stroke-linecap:square;stroke-width:0.8;\"/>\r\n     </g>\r\n     <g id=\"line2d_22\">\r\n      <g>\r\n       <use style=\"stroke:#000000;stroke-width:0.8;\" x=\"43.78125\" xlink:href=\"#mddc85a46bd\" y=\"99.975268\"/>\r\n      </g>\r\n     </g>\r\n     <g id=\"text_12\">\r\n      <!-- 0.8 -->\r\n      <g transform=\"translate(20.878125 103.774487)scale(0.1 -0.1)\">\r\n       <use xlink:href=\"#DejaVuSans-48\"/>\r\n       <use x=\"63.623047\" xlink:href=\"#DejaVuSans-46\"/>\r\n       <use x=\"95.410156\" xlink:href=\"#DejaVuSans-56\"/>\r\n      </g>\r\n     </g>\r\n    </g>\r\n    <g id=\"ytick_6\">\r\n     <g id=\"line2d_23\">\r\n      <path clip-path=\"url(#p2db4fe239e)\" d=\"M 43.78125 37.849554 \r\nL 490.18125 37.849554 \r\n\" style=\"fill:none;stroke:#b0b0b0;stroke-linecap:square;stroke-width:0.8;\"/>\r\n     </g>\r\n     <g id=\"line2d_24\">\r\n      <g>\r\n       <use style=\"stroke:#000000;stroke-width:0.8;\" x=\"43.78125\" xlink:href=\"#mddc85a46bd\" y=\"37.849554\"/>\r\n      </g>\r\n     </g>\r\n     <g id=\"text_13\">\r\n      <!-- 1.0 -->\r\n      <g transform=\"translate(20.878125 41.648772)scale(0.1 -0.1)\">\r\n       <use xlink:href=\"#DejaVuSans-49\"/>\r\n       <use x=\"63.623047\" xlink:href=\"#DejaVuSans-46\"/>\r\n       <use x=\"95.410156\" xlink:href=\"#DejaVuSans-48\"/>\r\n      </g>\r\n     </g>\r\n    </g>\r\n    <g id=\"text_14\">\r\n     <!-- True Positive Rate -->\r\n     <g transform=\"translate(14.798438 229.927812)rotate(-90)scale(0.1 -0.1)\">\r\n      <defs>\r\n       <path d=\"M -0.296875 72.90625 \r\nL 61.375 72.90625 \r\nL 61.375 64.59375 \r\nL 35.5 64.59375 \r\nL 35.5 0 \r\nL 25.59375 0 \r\nL 25.59375 64.59375 \r\nL -0.296875 64.59375 \r\nz\r\n\" id=\"DejaVuSans-84\"/>\r\n       <path d=\"M 41.109375 46.296875 \r\nQ 39.59375 47.171875 37.8125 47.578125 \r\nQ 36.03125 48 33.890625 48 \r\nQ 26.265625 48 22.1875 43.046875 \r\nQ 18.109375 38.09375 18.109375 28.8125 \r\nL 18.109375 0 \r\nL 9.078125 0 \r\nL 9.078125 54.6875 \r\nL 18.109375 54.6875 \r\nL 18.109375 46.1875 \r\nQ 20.953125 51.171875 25.484375 53.578125 \r\nQ 30.03125 56 36.53125 56 \r\nQ 37.453125 56 38.578125 55.875 \r\nQ 39.703125 55.765625 41.0625 55.515625 \r\nz\r\n\" id=\"DejaVuSans-114\"/>\r\n       <path d=\"M 8.5 21.578125 \r\nL 8.5 54.6875 \r\nL 17.484375 54.6875 \r\nL 17.484375 21.921875 \r\nQ 17.484375 14.15625 20.5 10.265625 \r\nQ 23.53125 6.390625 29.59375 6.390625 \r\nQ 36.859375 6.390625 41.078125 11.03125 \r\nQ 45.3125 15.671875 45.3125 23.6875 \r\nL 45.3125 54.6875 \r\nL 54.296875 54.6875 \r\nL 54.296875 0 \r\nL 45.3125 0 \r\nL 45.3125 8.40625 \r\nQ 42.046875 3.421875 37.71875 1 \r\nQ 33.40625 -1.421875 27.6875 -1.421875 \r\nQ 18.265625 -1.421875 13.375 4.4375 \r\nQ 8.5 10.296875 8.5 21.578125 \r\nz\r\nM 31.109375 56 \r\nz\r\n\" id=\"DejaVuSans-117\"/>\r\n      </defs>\r\n      <use xlink:href=\"#DejaVuSans-84\"/>\r\n      <use x=\"46.333984\" xlink:href=\"#DejaVuSans-114\"/>\r\n      <use x=\"87.447266\" xlink:href=\"#DejaVuSans-117\"/>\r\n      <use x=\"150.826172\" xlink:href=\"#DejaVuSans-101\"/>\r\n      <use x=\"212.349609\" xlink:href=\"#DejaVuSans-32\"/>\r\n      <use x=\"244.136719\" xlink:href=\"#DejaVuSans-80\"/>\r\n      <use x=\"300.814453\" xlink:href=\"#DejaVuSans-111\"/>\r\n      <use x=\"361.996094\" xlink:href=\"#DejaVuSans-115\"/>\r\n      <use x=\"414.095703\" xlink:href=\"#DejaVuSans-105\"/>\r\n      <use x=\"441.878906\" xlink:href=\"#DejaVuSans-116\"/>\r\n      <use x=\"481.087891\" xlink:href=\"#DejaVuSans-105\"/>\r\n      <use x=\"508.871094\" xlink:href=\"#DejaVuSans-118\"/>\r\n      <use x=\"568.050781\" xlink:href=\"#DejaVuSans-101\"/>\r\n      <use x=\"629.574219\" xlink:href=\"#DejaVuSans-32\"/>\r\n      <use x=\"661.361328\" xlink:href=\"#DejaVuSans-82\"/>\r\n      <use x=\"728.59375\" xlink:href=\"#DejaVuSans-97\"/>\r\n      <use x=\"789.873047\" xlink:href=\"#DejaVuSans-116\"/>\r\n      <use x=\"829.082031\" xlink:href=\"#DejaVuSans-101\"/>\r\n     </g>\r\n    </g>\r\n   </g>\r\n   <g id=\"line2d_25\">\r\n    <path clip-path=\"url(#p2db4fe239e)\" d=\"M 65.038393 348.478125 \r\nL 96.465544 294.287867 \r\nL 490.18125 37.849554 \r\n\" style=\"fill:none;stroke:#ffa500;stroke-linecap:square;stroke-width:2;\"/>\r\n   </g>\r\n   <g id=\"line2d_26\">\r\n    <path clip-path=\"url(#p2db4fe239e)\" d=\"M 65.038393 348.478125 \r\nL 490.18125 37.849554 \r\n\" style=\"fill:none;stroke:#000080;stroke-dasharray:7.4,3.2;stroke-dashoffset:0;stroke-width:2;\"/>\r\n   </g>\r\n   <g id=\"patch_3\">\r\n    <path d=\"M 43.78125 348.478125 \r\nL 43.78125 22.318125 \r\n\" style=\"fill:none;stroke:#000000;stroke-linecap:square;stroke-linejoin:miter;stroke-width:0.8;\"/>\r\n   </g>\r\n   <g id=\"patch_4\">\r\n    <path d=\"M 490.18125 348.478125 \r\nL 490.18125 22.318125 \r\n\" style=\"fill:none;stroke:#000000;stroke-linecap:square;stroke-linejoin:miter;stroke-width:0.8;\"/>\r\n   </g>\r\n   <g id=\"patch_5\">\r\n    <path d=\"M 43.78125 348.478125 \r\nL 490.18125 348.478125 \r\n\" style=\"fill:none;stroke:#000000;stroke-linecap:square;stroke-linejoin:miter;stroke-width:0.8;\"/>\r\n   </g>\r\n   <g id=\"patch_6\">\r\n    <path d=\"M 43.78125 22.318125 \r\nL 490.18125 22.318125 \r\n\" style=\"fill:none;stroke:#000000;stroke-linecap:square;stroke-linejoin:miter;stroke-width:0.8;\"/>\r\n   </g>\r\n   <g id=\"text_15\">\r\n    <!-- Receiver operating characteristic example -->\r\n    <g transform=\"translate(139.686562 16.318125)scale(0.12 -0.12)\">\r\n     <defs>\r\n      <path d=\"M 48.78125 52.59375 \r\nL 48.78125 44.1875 \r\nQ 44.96875 46.296875 41.140625 47.34375 \r\nQ 37.3125 48.390625 33.40625 48.390625 \r\nQ 24.65625 48.390625 19.8125 42.84375 \r\nQ 14.984375 37.3125 14.984375 27.296875 \r\nQ 14.984375 17.28125 19.8125 11.734375 \r\nQ 24.65625 6.203125 33.40625 6.203125 \r\nQ 37.3125 6.203125 41.140625 7.25 \r\nQ 44.96875 8.296875 48.78125 10.40625 \r\nL 48.78125 2.09375 \r\nQ 45.015625 0.34375 40.984375 -0.53125 \r\nQ 36.96875 -1.421875 32.421875 -1.421875 \r\nQ 20.0625 -1.421875 12.78125 6.34375 \r\nQ 5.515625 14.109375 5.515625 27.296875 \r\nQ 5.515625 40.671875 12.859375 48.328125 \r\nQ 20.21875 56 33.015625 56 \r\nQ 37.15625 56 41.109375 55.140625 \r\nQ 45.0625 54.296875 48.78125 52.59375 \r\nz\r\n\" id=\"DejaVuSans-99\"/>\r\n      <path d=\"M 18.109375 8.203125 \r\nL 18.109375 -20.796875 \r\nL 9.078125 -20.796875 \r\nL 9.078125 54.6875 \r\nL 18.109375 54.6875 \r\nL 18.109375 46.390625 \r\nQ 20.953125 51.265625 25.265625 53.625 \r\nQ 29.59375 56 35.59375 56 \r\nQ 45.5625 56 51.78125 48.09375 \r\nQ 58.015625 40.1875 58.015625 27.296875 \r\nQ 58.015625 14.40625 51.78125 6.484375 \r\nQ 45.5625 -1.421875 35.59375 -1.421875 \r\nQ 29.59375 -1.421875 25.265625 0.953125 \r\nQ 20.953125 3.328125 18.109375 8.203125 \r\nz\r\nM 48.6875 27.296875 \r\nQ 48.6875 37.203125 44.609375 42.84375 \r\nQ 40.53125 48.484375 33.40625 48.484375 \r\nQ 26.265625 48.484375 22.1875 42.84375 \r\nQ 18.109375 37.203125 18.109375 27.296875 \r\nQ 18.109375 17.390625 22.1875 11.75 \r\nQ 26.265625 6.109375 33.40625 6.109375 \r\nQ 40.53125 6.109375 44.609375 11.75 \r\nQ 48.6875 17.390625 48.6875 27.296875 \r\nz\r\n\" id=\"DejaVuSans-112\"/>\r\n      <path d=\"M 54.890625 33.015625 \r\nL 54.890625 0 \r\nL 45.90625 0 \r\nL 45.90625 32.71875 \r\nQ 45.90625 40.484375 42.875 44.328125 \r\nQ 39.84375 48.1875 33.796875 48.1875 \r\nQ 26.515625 48.1875 22.3125 43.546875 \r\nQ 18.109375 38.921875 18.109375 30.90625 \r\nL 18.109375 0 \r\nL 9.078125 0 \r\nL 9.078125 54.6875 \r\nL 18.109375 54.6875 \r\nL 18.109375 46.1875 \r\nQ 21.34375 51.125 25.703125 53.5625 \r\nQ 30.078125 56 35.796875 56 \r\nQ 45.21875 56 50.046875 50.171875 \r\nQ 54.890625 44.34375 54.890625 33.015625 \r\nz\r\n\" id=\"DejaVuSans-110\"/>\r\n      <path d=\"M 45.40625 27.984375 \r\nQ 45.40625 37.75 41.375 43.109375 \r\nQ 37.359375 48.484375 30.078125 48.484375 \r\nQ 22.859375 48.484375 18.828125 43.109375 \r\nQ 14.796875 37.75 14.796875 27.984375 \r\nQ 14.796875 18.265625 18.828125 12.890625 \r\nQ 22.859375 7.515625 30.078125 7.515625 \r\nQ 37.359375 7.515625 41.375 12.890625 \r\nQ 45.40625 18.265625 45.40625 27.984375 \r\nz\r\nM 54.390625 6.78125 \r\nQ 54.390625 -7.171875 48.1875 -13.984375 \r\nQ 42 -20.796875 29.203125 -20.796875 \r\nQ 24.46875 -20.796875 20.265625 -20.09375 \r\nQ 16.0625 -19.390625 12.109375 -17.921875 \r\nL 12.109375 -9.1875 \r\nQ 16.0625 -11.328125 19.921875 -12.34375 \r\nQ 23.78125 -13.375 27.78125 -13.375 \r\nQ 36.625 -13.375 41.015625 -8.765625 \r\nQ 45.40625 -4.15625 45.40625 5.171875 \r\nL 45.40625 9.625 \r\nQ 42.625 4.78125 38.28125 2.390625 \r\nQ 33.9375 0 27.875 0 \r\nQ 17.828125 0 11.671875 7.65625 \r\nQ 5.515625 15.328125 5.515625 27.984375 \r\nQ 5.515625 40.671875 11.671875 48.328125 \r\nQ 17.828125 56 27.875 56 \r\nQ 33.9375 56 38.28125 53.609375 \r\nQ 42.625 51.21875 45.40625 46.390625 \r\nL 45.40625 54.6875 \r\nL 54.390625 54.6875 \r\nz\r\n\" id=\"DejaVuSans-103\"/>\r\n      <path d=\"M 54.890625 33.015625 \r\nL 54.890625 0 \r\nL 45.90625 0 \r\nL 45.90625 32.71875 \r\nQ 45.90625 40.484375 42.875 44.328125 \r\nQ 39.84375 48.1875 33.796875 48.1875 \r\nQ 26.515625 48.1875 22.3125 43.546875 \r\nQ 18.109375 38.921875 18.109375 30.90625 \r\nL 18.109375 0 \r\nL 9.078125 0 \r\nL 9.078125 75.984375 \r\nL 18.109375 75.984375 \r\nL 18.109375 46.1875 \r\nQ 21.34375 51.125 25.703125 53.5625 \r\nQ 30.078125 56 35.796875 56 \r\nQ 45.21875 56 50.046875 50.171875 \r\nQ 54.890625 44.34375 54.890625 33.015625 \r\nz\r\n\" id=\"DejaVuSans-104\"/>\r\n      <path d=\"M 54.890625 54.6875 \r\nL 35.109375 28.078125 \r\nL 55.90625 0 \r\nL 45.3125 0 \r\nL 29.390625 21.484375 \r\nL 13.484375 0 \r\nL 2.875 0 \r\nL 24.125 28.609375 \r\nL 4.6875 54.6875 \r\nL 15.28125 54.6875 \r\nL 29.78125 35.203125 \r\nL 44.28125 54.6875 \r\nz\r\n\" id=\"DejaVuSans-120\"/>\r\n      <path d=\"M 52 44.1875 \r\nQ 55.375 50.25 60.0625 53.125 \r\nQ 64.75 56 71.09375 56 \r\nQ 79.640625 56 84.28125 50.015625 \r\nQ 88.921875 44.046875 88.921875 33.015625 \r\nL 88.921875 0 \r\nL 79.890625 0 \r\nL 79.890625 32.71875 \r\nQ 79.890625 40.578125 77.09375 44.375 \r\nQ 74.3125 48.1875 68.609375 48.1875 \r\nQ 61.625 48.1875 57.5625 43.546875 \r\nQ 53.515625 38.921875 53.515625 30.90625 \r\nL 53.515625 0 \r\nL 44.484375 0 \r\nL 44.484375 32.71875 \r\nQ 44.484375 40.625 41.703125 44.40625 \r\nQ 38.921875 48.1875 33.109375 48.1875 \r\nQ 26.21875 48.1875 22.15625 43.53125 \r\nQ 18.109375 38.875 18.109375 30.90625 \r\nL 18.109375 0 \r\nL 9.078125 0 \r\nL 9.078125 54.6875 \r\nL 18.109375 54.6875 \r\nL 18.109375 46.1875 \r\nQ 21.1875 51.21875 25.484375 53.609375 \r\nQ 29.78125 56 35.6875 56 \r\nQ 41.65625 56 45.828125 52.96875 \r\nQ 50 49.953125 52 44.1875 \r\nz\r\n\" id=\"DejaVuSans-109\"/>\r\n     </defs>\r\n     <use xlink:href=\"#DejaVuSans-82\"/>\r\n     <use x=\"64.982422\" xlink:href=\"#DejaVuSans-101\"/>\r\n     <use x=\"126.505859\" xlink:href=\"#DejaVuSans-99\"/>\r\n     <use x=\"181.486328\" xlink:href=\"#DejaVuSans-101\"/>\r\n     <use x=\"243.009766\" xlink:href=\"#DejaVuSans-105\"/>\r\n     <use x=\"270.792969\" xlink:href=\"#DejaVuSans-118\"/>\r\n     <use x=\"329.972656\" xlink:href=\"#DejaVuSans-101\"/>\r\n     <use x=\"391.496094\" xlink:href=\"#DejaVuSans-114\"/>\r\n     <use x=\"432.609375\" xlink:href=\"#DejaVuSans-32\"/>\r\n     <use x=\"464.396484\" xlink:href=\"#DejaVuSans-111\"/>\r\n     <use x=\"525.578125\" xlink:href=\"#DejaVuSans-112\"/>\r\n     <use x=\"589.054688\" xlink:href=\"#DejaVuSans-101\"/>\r\n     <use x=\"650.578125\" xlink:href=\"#DejaVuSans-114\"/>\r\n     <use x=\"691.691406\" xlink:href=\"#DejaVuSans-97\"/>\r\n     <use x=\"752.970703\" xlink:href=\"#DejaVuSans-116\"/>\r\n     <use x=\"792.179688\" xlink:href=\"#DejaVuSans-105\"/>\r\n     <use x=\"819.962891\" xlink:href=\"#DejaVuSans-110\"/>\r\n     <use x=\"883.341797\" xlink:href=\"#DejaVuSans-103\"/>\r\n     <use x=\"946.818359\" xlink:href=\"#DejaVuSans-32\"/>\r\n     <use x=\"978.605469\" xlink:href=\"#DejaVuSans-99\"/>\r\n     <use x=\"1033.585938\" xlink:href=\"#DejaVuSans-104\"/>\r\n     <use x=\"1096.964844\" xlink:href=\"#DejaVuSans-97\"/>\r\n     <use x=\"1158.244141\" xlink:href=\"#DejaVuSans-114\"/>\r\n     <use x=\"1199.357422\" xlink:href=\"#DejaVuSans-97\"/>\r\n     <use x=\"1260.636719\" xlink:href=\"#DejaVuSans-99\"/>\r\n     <use x=\"1315.617188\" xlink:href=\"#DejaVuSans-116\"/>\r\n     <use x=\"1354.826172\" xlink:href=\"#DejaVuSans-101\"/>\r\n     <use x=\"1416.349609\" xlink:href=\"#DejaVuSans-114\"/>\r\n     <use x=\"1457.462891\" xlink:href=\"#DejaVuSans-105\"/>\r\n     <use x=\"1485.246094\" xlink:href=\"#DejaVuSans-115\"/>\r\n     <use x=\"1537.345703\" xlink:href=\"#DejaVuSans-116\"/>\r\n     <use x=\"1576.554688\" xlink:href=\"#DejaVuSans-105\"/>\r\n     <use x=\"1604.337891\" xlink:href=\"#DejaVuSans-99\"/>\r\n     <use x=\"1659.318359\" xlink:href=\"#DejaVuSans-32\"/>\r\n     <use x=\"1691.105469\" xlink:href=\"#DejaVuSans-101\"/>\r\n     <use x=\"1750.878906\" xlink:href=\"#DejaVuSans-120\"/>\r\n     <use x=\"1810.058594\" xlink:href=\"#DejaVuSans-97\"/>\r\n     <use x=\"1871.337891\" xlink:href=\"#DejaVuSans-109\"/>\r\n     <use x=\"1968.75\" xlink:href=\"#DejaVuSans-112\"/>\r\n     <use x=\"2032.226562\" xlink:href=\"#DejaVuSans-108\"/>\r\n     <use x=\"2060.009766\" xlink:href=\"#DejaVuSans-101\"/>\r\n    </g>\r\n   </g>\r\n   <g id=\"legend_1\">\r\n    <g id=\"patch_7\">\r\n     <path d=\"M 314.235937 343.478125 \r\nL 483.18125 343.478125 \r\nQ 485.18125 343.478125 485.18125 341.478125 \r\nL 485.18125 313.121875 \r\nQ 485.18125 311.121875 483.18125 311.121875 \r\nL 314.235937 311.121875 \r\nQ 312.235937 311.121875 312.235937 313.121875 \r\nL 312.235937 341.478125 \r\nQ 312.235937 343.478125 314.235937 343.478125 \r\nz\r\n\" style=\"fill:#ffffff;opacity:0.8;stroke:#cccccc;stroke-linejoin:miter;\"/>\r\n    </g>\r\n    <g id=\"line2d_27\">\r\n     <path d=\"M 316.235937 319.220312 \r\nL 336.235937 319.220312 \r\n\" style=\"fill:none;stroke:#ffa500;stroke-linecap:square;stroke-width:2;\"/>\r\n    </g>\r\n    <g id=\"line2d_28\"/>\r\n    <g id=\"text_16\">\r\n     <!-- ROC curve (AUROC = 0.55) -->\r\n     <g transform=\"translate(344.235937 322.720312)scale(0.1 -0.1)\">\r\n      <defs>\r\n       <path d=\"M 39.40625 66.21875 \r\nQ 28.65625 66.21875 22.328125 58.203125 \r\nQ 16.015625 50.203125 16.015625 36.375 \r\nQ 16.015625 22.609375 22.328125 14.59375 \r\nQ 28.65625 6.59375 39.40625 6.59375 \r\nQ 50.140625 6.59375 56.421875 14.59375 \r\nQ 62.703125 22.609375 62.703125 36.375 \r\nQ 62.703125 50.203125 56.421875 58.203125 \r\nQ 50.140625 66.21875 39.40625 66.21875 \r\nz\r\nM 39.40625 74.21875 \r\nQ 54.734375 74.21875 63.90625 63.9375 \r\nQ 73.09375 53.65625 73.09375 36.375 \r\nQ 73.09375 19.140625 63.90625 8.859375 \r\nQ 54.734375 -1.421875 39.40625 -1.421875 \r\nQ 24.03125 -1.421875 14.8125 8.828125 \r\nQ 5.609375 19.09375 5.609375 36.375 \r\nQ 5.609375 53.65625 14.8125 63.9375 \r\nQ 24.03125 74.21875 39.40625 74.21875 \r\nz\r\n\" id=\"DejaVuSans-79\"/>\r\n       <path d=\"M 64.40625 67.28125 \r\nL 64.40625 56.890625 \r\nQ 59.421875 61.53125 53.78125 63.8125 \r\nQ 48.140625 66.109375 41.796875 66.109375 \r\nQ 29.296875 66.109375 22.65625 58.46875 \r\nQ 16.015625 50.828125 16.015625 36.375 \r\nQ 16.015625 21.96875 22.65625 14.328125 \r\nQ 29.296875 6.6875 41.796875 6.6875 \r\nQ 48.140625 6.6875 53.78125 8.984375 \r\nQ 59.421875 11.28125 64.40625 15.921875 \r\nL 64.40625 5.609375 \r\nQ 59.234375 2.09375 53.4375 0.328125 \r\nQ 47.65625 -1.421875 41.21875 -1.421875 \r\nQ 24.65625 -1.421875 15.125 8.703125 \r\nQ 5.609375 18.84375 5.609375 36.375 \r\nQ 5.609375 53.953125 15.125 64.078125 \r\nQ 24.65625 74.21875 41.21875 74.21875 \r\nQ 47.75 74.21875 53.53125 72.484375 \r\nQ 59.328125 70.75 64.40625 67.28125 \r\nz\r\n\" id=\"DejaVuSans-67\"/>\r\n       <path d=\"M 31 75.875 \r\nQ 24.46875 64.65625 21.28125 53.65625 \r\nQ 18.109375 42.671875 18.109375 31.390625 \r\nQ 18.109375 20.125 21.3125 9.0625 \r\nQ 24.515625 -2 31 -13.1875 \r\nL 23.1875 -13.1875 \r\nQ 15.875 -1.703125 12.234375 9.375 \r\nQ 8.59375 20.453125 8.59375 31.390625 \r\nQ 8.59375 42.28125 12.203125 53.3125 \r\nQ 15.828125 64.359375 23.1875 75.875 \r\nz\r\n\" id=\"DejaVuSans-40\"/>\r\n       <path d=\"M 34.1875 63.1875 \r\nL 20.796875 26.90625 \r\nL 47.609375 26.90625 \r\nz\r\nM 28.609375 72.90625 \r\nL 39.796875 72.90625 \r\nL 67.578125 0 \r\nL 57.328125 0 \r\nL 50.6875 18.703125 \r\nL 17.828125 18.703125 \r\nL 11.1875 0 \r\nL 0.78125 0 \r\nz\r\n\" id=\"DejaVuSans-65\"/>\r\n       <path d=\"M 8.6875 72.90625 \r\nL 18.609375 72.90625 \r\nL 18.609375 28.609375 \r\nQ 18.609375 16.890625 22.84375 11.734375 \r\nQ 27.09375 6.59375 36.625 6.59375 \r\nQ 46.09375 6.59375 50.34375 11.734375 \r\nQ 54.59375 16.890625 54.59375 28.609375 \r\nL 54.59375 72.90625 \r\nL 64.5 72.90625 \r\nL 64.5 27.390625 \r\nQ 64.5 13.140625 57.4375 5.859375 \r\nQ 50.390625 -1.421875 36.625 -1.421875 \r\nQ 22.796875 -1.421875 15.734375 5.859375 \r\nQ 8.6875 13.140625 8.6875 27.390625 \r\nz\r\n\" id=\"DejaVuSans-85\"/>\r\n       <path d=\"M 10.59375 45.40625 \r\nL 73.1875 45.40625 \r\nL 73.1875 37.203125 \r\nL 10.59375 37.203125 \r\nz\r\nM 10.59375 25.484375 \r\nL 73.1875 25.484375 \r\nL 73.1875 17.1875 \r\nL 10.59375 17.1875 \r\nz\r\n\" id=\"DejaVuSans-61\"/>\r\n       <path d=\"M 10.796875 72.90625 \r\nL 49.515625 72.90625 \r\nL 49.515625 64.59375 \r\nL 19.828125 64.59375 \r\nL 19.828125 46.734375 \r\nQ 21.96875 47.46875 24.109375 47.828125 \r\nQ 26.265625 48.1875 28.421875 48.1875 \r\nQ 40.625 48.1875 47.75 41.5 \r\nQ 54.890625 34.8125 54.890625 23.390625 \r\nQ 54.890625 11.625 47.5625 5.09375 \r\nQ 40.234375 -1.421875 26.90625 -1.421875 \r\nQ 22.3125 -1.421875 17.546875 -0.640625 \r\nQ 12.796875 0.140625 7.71875 1.703125 \r\nL 7.71875 11.625 \r\nQ 12.109375 9.234375 16.796875 8.0625 \r\nQ 21.484375 6.890625 26.703125 6.890625 \r\nQ 35.15625 6.890625 40.078125 11.328125 \r\nQ 45.015625 15.765625 45.015625 23.390625 \r\nQ 45.015625 31 40.078125 35.4375 \r\nQ 35.15625 39.890625 26.703125 39.890625 \r\nQ 22.75 39.890625 18.8125 39.015625 \r\nQ 14.890625 38.140625 10.796875 36.28125 \r\nz\r\n\" id=\"DejaVuSans-53\"/>\r\n       <path d=\"M 8.015625 75.875 \r\nL 15.828125 75.875 \r\nQ 23.140625 64.359375 26.78125 53.3125 \r\nQ 30.421875 42.28125 30.421875 31.390625 \r\nQ 30.421875 20.453125 26.78125 9.375 \r\nQ 23.140625 -1.703125 15.828125 -13.1875 \r\nL 8.015625 -13.1875 \r\nQ 14.5 -2 17.703125 9.0625 \r\nQ 20.90625 20.125 20.90625 31.390625 \r\nQ 20.90625 42.671875 17.703125 53.65625 \r\nQ 14.5 64.65625 8.015625 75.875 \r\nz\r\n\" id=\"DejaVuSans-41\"/>\r\n      </defs>\r\n      <use xlink:href=\"#DejaVuSans-82\"/>\r\n      <use x=\"69.482422\" xlink:href=\"#DejaVuSans-79\"/>\r\n      <use x=\"148.193359\" xlink:href=\"#DejaVuSans-67\"/>\r\n      <use x=\"218.017578\" xlink:href=\"#DejaVuSans-32\"/>\r\n      <use x=\"249.804688\" xlink:href=\"#DejaVuSans-99\"/>\r\n      <use x=\"304.785156\" xlink:href=\"#DejaVuSans-117\"/>\r\n      <use x=\"368.164062\" xlink:href=\"#DejaVuSans-114\"/>\r\n      <use x=\"409.277344\" xlink:href=\"#DejaVuSans-118\"/>\r\n      <use x=\"468.457031\" xlink:href=\"#DejaVuSans-101\"/>\r\n      <use x=\"529.980469\" xlink:href=\"#DejaVuSans-32\"/>\r\n      <use x=\"561.767578\" xlink:href=\"#DejaVuSans-40\"/>\r\n      <use x=\"600.78125\" xlink:href=\"#DejaVuSans-65\"/>\r\n      <use x=\"669.189453\" xlink:href=\"#DejaVuSans-85\"/>\r\n      <use x=\"742.382812\" xlink:href=\"#DejaVuSans-82\"/>\r\n      <use x=\"811.865234\" xlink:href=\"#DejaVuSans-79\"/>\r\n      <use x=\"890.576172\" xlink:href=\"#DejaVuSans-67\"/>\r\n      <use x=\"960.400391\" xlink:href=\"#DejaVuSans-32\"/>\r\n      <use x=\"992.1875\" xlink:href=\"#DejaVuSans-61\"/>\r\n      <use x=\"1075.976562\" xlink:href=\"#DejaVuSans-32\"/>\r\n      <use x=\"1107.763672\" xlink:href=\"#DejaVuSans-48\"/>\r\n      <use x=\"1171.386719\" xlink:href=\"#DejaVuSans-46\"/>\r\n      <use x=\"1203.173828\" xlink:href=\"#DejaVuSans-53\"/>\r\n      <use x=\"1266.796875\" xlink:href=\"#DejaVuSans-53\"/>\r\n      <use x=\"1330.419922\" xlink:href=\"#DejaVuSans-41\"/>\r\n     </g>\r\n    </g>\r\n    <g id=\"line2d_29\">\r\n     <path d=\"M 316.235937 333.898437 \r\nL 336.235937 333.898437 \r\n\" style=\"fill:none;stroke:#000080;stroke-dasharray:7.4,3.2;stroke-dashoffset:0;stroke-width:2;\"/>\r\n    </g>\r\n    <g id=\"line2d_30\"/>\r\n    <g id=\"text_17\">\r\n     <!-- random -->\r\n     <g transform=\"translate(344.235937 337.398437)scale(0.1 -0.1)\">\r\n      <defs>\r\n       <path d=\"M 45.40625 46.390625 \r\nL 45.40625 75.984375 \r\nL 54.390625 75.984375 \r\nL 54.390625 0 \r\nL 45.40625 0 \r\nL 45.40625 8.203125 \r\nQ 42.578125 3.328125 38.25 0.953125 \r\nQ 33.9375 -1.421875 27.875 -1.421875 \r\nQ 17.96875 -1.421875 11.734375 6.484375 \r\nQ 5.515625 14.40625 5.515625 27.296875 \r\nQ 5.515625 40.1875 11.734375 48.09375 \r\nQ 17.96875 56 27.875 56 \r\nQ 33.9375 56 38.25 53.625 \r\nQ 42.578125 51.265625 45.40625 46.390625 \r\nz\r\nM 14.796875 27.296875 \r\nQ 14.796875 17.390625 18.875 11.75 \r\nQ 22.953125 6.109375 30.078125 6.109375 \r\nQ 37.203125 6.109375 41.296875 11.75 \r\nQ 45.40625 17.390625 45.40625 27.296875 \r\nQ 45.40625 37.203125 41.296875 42.84375 \r\nQ 37.203125 48.484375 30.078125 48.484375 \r\nQ 22.953125 48.484375 18.875 42.84375 \r\nQ 14.796875 37.203125 14.796875 27.296875 \r\nz\r\n\" id=\"DejaVuSans-100\"/>\r\n      </defs>\r\n      <use xlink:href=\"#DejaVuSans-114\"/>\r\n      <use x=\"41.113281\" xlink:href=\"#DejaVuSans-97\"/>\r\n      <use x=\"102.392578\" xlink:href=\"#DejaVuSans-110\"/>\r\n      <use x=\"165.771484\" xlink:href=\"#DejaVuSans-100\"/>\r\n      <use x=\"229.248047\" xlink:href=\"#DejaVuSans-111\"/>\r\n      <use x=\"290.429688\" xlink:href=\"#DejaVuSans-109\"/>\r\n     </g>\r\n    </g>\r\n   </g>\r\n  </g>\r\n </g>\r\n <defs>\r\n  <clipPath id=\"p2db4fe239e\">\r\n   <rect height=\"326.16\" width=\"446.4\" x=\"43.78125\" y=\"22.318125\"/>\r\n  </clipPath>\r\n </defs>\r\n</svg>\r\n",
      "image/png": "[encoded data removed]"
     },
     "metadata": {
      "needs_background": "light"
     }
    }
   ],
   "source": [
    "y_pred = fase2_pipeline.predict(X_test)\n",
    "y_pred_proba = fase2_pipeline.predict_proba(X_test)[:, 1]\n",
    "\n",
    "precision, recall, thresholds = precision_recall_curve( y_test, y_pred , pos_label=True)\n",
    "\n",
    "\n",
    "precision = precision[:-1][1]\n",
    "recall = recall[:-1][1]\n",
    "f1_score_ = f1_score( y_test, y_pred, pos_label=True)\n",
    "roc_auc_score_ = roc_auc_score(y_test, y_pred)\n",
    "print(\"precision\", precision)\n",
    "print(\"recall\", recall)\n",
    "print('f1',f1_score_)\n",
    "print('roc_auc',  roc_auc_score_)\n",
    "\n",
    "confusion_matrix = pd.crosstab(y_test, y_pred, rownames=['Actual'], colnames=['Predicted'])\n",
    "sns.heatmap(confusion_matrix, annot=True, cmap=\"YlGnBu\")\n",
    "\n",
    "\n",
    "fpr, tpr, thresholds = roc_curve( y_test, y_pred , pos_label=True)\n",
    "plot_roc_curve(roc_auc_score_, fpr, tpr)"
   ]
  },
  {
   "cell_type": "code",
   "execution_count": 453,
   "metadata": {},
   "outputs": [
    {
     "output_type": "stream",
     "name": "stdout",
     "text": [
      "Officer-defined ethnicity (True, 0.0828695833898882)\n",
      "Age range (False, 0.3116387182467209, {'25-34': 0.14706642543292842, '18-24': 0.3116387182467209, '10-17': 0.01620491374803973, 'over 34': 0.027237354085603113, 'under 10': 0.0})\n",
      "Gender (False, 0.1870797128825085, {'Male': 0.1870797128825085, 'Female': 0.05583392984967788, 'Other': 0.0})\n",
      "Stations (False, 0.735632183908046, {'thames-valley': 0.0, 'leicestershire': 0.28865979381443296, 'avon-and-somerset': 0.30716723549488056, 'northumbria': 0.125, 'bedfordshire': 0.21875, 'norfolk': 0.0, 'essex': 0.3827433628318584, 'cumbria': 0.15625, 'north-yorkshire': 0.0, 'lincolnshire': 0.0, 'hampshire': 0.18509316770186335, 'north-wales': 0.01593625498007968, 'merseyside': 0.01650846058605035, 'west-mercia': 0.30131004366812225, 'devon-and-cornwall': 0.1416184971098266, 'btp': 0.4205607476635514, 'staffordshire': 0.2746987951807229, 'humberside': 0.0, 'cleveland': 0.34959349593495936, 'south-yorkshire': 0.011029411764705883, 'west-yorkshire': 0.007614213197969543, 'durham': 0.735632183908046, 'lancashire': 0.0, 'wiltshire': 0.25, 'kent': 0.026862026862026864, 'cheshire': 0.47249190938511326, 'suffolk': 0.04522613065326633, 'hertfordshire': 0.3987138263665595, 'nottinghamshire': 0.3132295719844358, 'surrey': 0.14234234234234233, 'dorset': 0.028169014084507043, 'dyfed-powys': 0.0, 'city-of-london': 0.4452054794520548, 'northamptonshire': 0.0975609756097561, 'gloucestershire': 0.20394736842105263, 'derbyshire': 0.22151898734177214, 'warwickshire': 0.11290322580645161, 'sussex': 0.0, 'cambridgeshire': 0.0})\n",
      "Combine (False, 0.19128751210067763, {'Asian Male': 0.1791958041958042, 'Black Male': 0.18584070796460178, 'White Male': 0.19128751210067763, 'White Female': 0.05772357723577236, 'Mixed Male': 0.12037037037037036, 'Other Male': 0.10101010101010101, 'Black Female': 0.0625, 'White Other': 0.0, 'Mixed Female': 0.07142857142857142, 'Asian Female': 0.0, 'Other Female': 0.038461538461538464, 'Black Other': 0.0, 'Asian Other': 0.0})\n"
     ]
    }
   ],
   "source": [
    "print('Officer-defined ethnicity', verify_retrieve_rates(X_test, y_test, y_pred, sensitive_column ='Officer-defined ethnicity', max_diff = 0.10))\n",
    "print('Age range', verify_retrieve_rates(X_test, y_test, y_pred, sensitive_column ='Age range', max_diff = 0.10))\n",
    "print('Gender', verify_retrieve_rates(X_test, y_test, y_pred, sensitive_column ='Gender', max_diff = 0.10))\n",
    "print('Stations', verify_retrieve_rates(X_test, y_test, y_pred, sensitive_column ='station', max_diff = 0.10))\n",
    "\n",
    "X_test['combine'] = X_test['Officer-defined ethnicity'] +' ' + X_test['Age range']+' ' + X_test['station']\n",
    "X_test['combine'] = X_test['Officer-defined ethnicity'] +' ' + X_test['Gender']\n",
    "print('Combine', verify_retrieve_rates(X_test, y_test, y_pred, sensitive_column ='combine', max_diff = 0.10))"
   ]
  },
  {
   "source": [
    "# Create the APP"
   ],
   "cell_type": "markdown",
   "metadata": {}
  },
  {
   "cell_type": "code",
   "execution_count": 454,
   "metadata": {},
   "outputs": [
    {
     "output_type": "stream",
     "name": "stdout",
     "text": [
      "'Type' : ['Person search', 'Person and Vehicle search', 'Vehicle search'] ,\n",
      "'Gender' : ['Male', 'Female', 'Other'] ,\n",
      "'Age range' : ['18-24', '25-34', 'over 34', '10-17', 'under 10'] ,\n",
      "'Officer-defined ethnicity' : ['Asian', 'White', 'Black', 'Other', 'Mixed'] ,\n",
      "'Object of search' : ['Controlled drugs', 'Offensive weapons', 'Stolen goods', 'Article for use in theft', 'Articles for use in criminal damage', 'Firearms', 'Anything to threaten or harm anyone', 'Crossbows', 'Evidence of offences under the Act', 'Fireworks', 'Psychoactive substances', 'Game or poaching equipment', 'Evidence of wildlife offences', 'Detailed object of search unavailable', 'Goods on which duty has not been paid etc.', 'Seals or hunting equipment'] ,\n",
      "'Removal of more than just outer clothing' : [False, True, nan] ,\n",
      "'station' : ['devon-and-cornwall', 'dyfed-powys', 'derbyshire', 'bedfordshire', 'avon-and-somerset', 'cheshire', 'sussex', 'north-yorkshire', 'cleveland', 'merseyside', 'north-wales', 'wiltshire', 'norfolk', 'suffolk', 'thames-valley', 'durham', 'warwickshire', 'leicestershire', 'hertfordshire', 'cumbria', 'metropolitan', 'essex', 'south-yorkshire', 'surrey', 'staffordshire', 'northamptonshire', 'northumbria', 'city-of-london', 'nottinghamshire', 'gloucestershire', 'cambridgeshire', 'lincolnshire', 'btp', 'west-yorkshire', 'dorset', 'west-mercia', 'kent', 'hampshire', 'humberside', 'lancashire', 'greater-manchester', 'gwent'] ,\n"
     ]
    }
   ],
   "source": [
    "lista = []\n",
    "for i in categorical_features:\n",
    "    print(\"'\"+i+\"'\",\":\",list(df[i].unique()), \",\")"
   ]
  }
 ]
}