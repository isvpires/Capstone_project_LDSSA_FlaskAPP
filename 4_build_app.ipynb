{
 "metadata": {
  "language_info": {
   "codemirror_mode": {
    "name": "ipython",
    "version": 3
   },
   "file_extension": ".py",
   "mimetype": "text/x-python",
   "name": "python",
   "nbconvert_exporter": "python",
   "pygments_lexer": "ipython3",
   "version": "3.8.7-final"
  },
  "orig_nbformat": 2,
  "kernelspec": {
   "name": "python3",
   "display_name": "Python 3",
   "language": "python"
  }
 },
 "nbformat": 4,
 "nbformat_minor": 2,
 "cells": [
  {
   "cell_type": "code",
   "execution_count": 38,
   "metadata": {},
   "outputs": [],
   "source": [
    "import os\n",
    "import json\n",
    "import pickle\n",
    "import joblib\n",
    "import pandas as pd\n",
    "from flask import Flask, jsonify, request\n",
    "from peewee import (\n",
    "    Model, IntegerField, FloatField,\n",
    "    TextField, IntegrityError,BooleanField\n",
    ")\n",
    "from playhouse.shortcuts import model_to_dict\n",
    "from playhouse.db_url import connect\n",
    "\n",
    "import requests\n",
    "from numpy import nan\n",
    "import numpy as np"
   ]
  },
  {
   "cell_type": "code",
   "execution_count": 41,
   "metadata": {},
   "outputs": [
    {
     "output_type": "execute_result",
     "data": {
      "text/plain": [
       "                         observation_id           Type  \\\n",
       "0  34d76816-cfc2-4bdd-b3a2-bf0c40b12689  Person search   \n",
       "\n",
       "                        Date Part of a policing operation  Latitude  \\\n",
       "0  2019-12-01T00:00:00+00:00                         True       NaN   \n",
       "\n",
       "   Longitude Gender Age range  \\\n",
       "0        NaN   Male     18-24   \n",
       "\n",
       "                             Self-defined ethnicity Officer-defined ethnicity  \\\n",
       "0  Asian/Asian British - Any other Asian background                     Asian   \n",
       "\n",
       "                             Legislation  Object of search  \\\n",
       "0  Misuse of Drugs Act 1971 (section 23)  Controlled drugs   \n",
       "\n",
       "                        Outcome Outcome linked to object of search  \\\n",
       "0  A no further action disposal                                NaN   \n",
       "\n",
       "  Removal of more than just outer clothing             station  \n",
       "0                                    False  devon-and-cornwall  "
      ],
      "text/html": "<div>\n<style scoped>\n    .dataframe tbody tr th:only-of-type {\n        vertical-align: middle;\n    }\n\n    .dataframe tbody tr th {\n        vertical-align: top;\n    }\n\n    .dataframe thead th {\n        text-align: right;\n    }\n</style>\n<table border=\"1\" class=\"dataframe\">\n  <thead>\n    <tr style=\"text-align: right;\">\n      <th></th>\n      <th>observation_id</th>\n      <th>Type</th>\n      <th>Date</th>\n      <th>Part of a policing operation</th>\n      <th>Latitude</th>\n      <th>Longitude</th>\n      <th>Gender</th>\n      <th>Age range</th>\n      <th>Self-defined ethnicity</th>\n      <th>Officer-defined ethnicity</th>\n      <th>Legislation</th>\n      <th>Object of search</th>\n      <th>Outcome</th>\n      <th>Outcome linked to object of search</th>\n      <th>Removal of more than just outer clothing</th>\n      <th>station</th>\n    </tr>\n  </thead>\n  <tbody>\n    <tr>\n      <th>0</th>\n      <td>34d76816-cfc2-4bdd-b3a2-bf0c40b12689</td>\n      <td>Person search</td>\n      <td>2019-12-01T00:00:00+00:00</td>\n      <td>True</td>\n      <td>NaN</td>\n      <td>NaN</td>\n      <td>Male</td>\n      <td>18-24</td>\n      <td>Asian/Asian British - Any other Asian background</td>\n      <td>Asian</td>\n      <td>Misuse of Drugs Act 1971 (section 23)</td>\n      <td>Controlled drugs</td>\n      <td>A no further action disposal</td>\n      <td>NaN</td>\n      <td>False</td>\n      <td>devon-and-cornwall</td>\n    </tr>\n  </tbody>\n</table>\n</div>"
     },
     "metadata": {},
     "execution_count": 41
    }
   ],
   "source": [
    "df = pd.read_csv('data/train.csv')\n",
    "df.head(1)"
   ]
  },
  {
   "cell_type": "code",
   "execution_count": 42,
   "metadata": {},
   "outputs": [],
   "source": [
    "columns = ['observation_id', 'Type', 'Date', 'Part of a policing operation',\n",
    "       'Latitude', 'Longitude', 'Gender', 'Age range',\n",
    "       'Officer-defined ethnicity', 'Legislation',\n",
    "       'Object of search', 'station']\n",
    "\n",
    "random_row = df[columns].loc[8]"
   ]
  },
  {
   "cell_type": "code",
   "execution_count": 28,
   "metadata": {},
   "outputs": [],
   "source": []
  },
  {
   "cell_type": "code",
   "execution_count": 43,
   "metadata": {},
   "outputs": [
    {
     "output_type": "stream",
     "name": "stdout",
     "text": [
      "'observation_id' : '2a5d011a-6ff1-4582-ae91-20b6990ffbc9' ,\n'Type' : 'Person search' ,\n'Date' : '2019-12-01T00:25:00+00:00' ,\n'Part of a policing operation' : True ,\n'Latitude' : nan ,\n'Longitude' : nan ,\n'Gender' : 'Male' ,\n'Age range' : '18-24' ,\n'Officer-defined ethnicity' : 'Black' ,\n'Legislation' : 'Misuse of Drugs Act 1971 (section 23)' ,\n'Object of search' : 'Controlled drugs' ,\n'station' : 'devon-and-cornwall' ,\n"
     ]
    }
   ],
   "source": [
    "lista = []\n",
    "for i in columns:\n",
    "    if isinstance(random_row[i], np.float64):\n",
    "        print(\"'\"+i+\"'\",\":\",random_row[i], \",\")\n",
    "    elif isinstance(random_row[i], bool):\n",
    "        print(\"'\"+i+\"'\",\":\",random_row[i], \",\")\n",
    "    else:\n",
    "        print(\"'\"+i+\"'\",\":\",\"'\"+random_row[i]+\"'\", \",\")\n"
   ]
  },
  {
   "cell_type": "code",
   "execution_count": 52,
   "metadata": {},
   "outputs": [],
   "source": [
    "observation_request  = {'observation_id' : '3' ,\n",
    "'Type' : 'Person search' ,\n",
    "'Date' : '2019-12-01T00:25:00+00:00' ,\n",
    "'Part of a policing operation' : True ,\n",
    "'Latitude' : nan ,\n",
    "'Longitude' : nan ,\n",
    "'Gender' : 'Male' ,\n",
    "'Age range' : '18-24' ,\n",
    "'Officer-defined ethnicity' : 'Black' ,\n",
    "'Legislation' : 'Misuse of Drugs Act 1971 (section 23)' ,\n",
    "'Object of search' : 'Controlled drugs' ,\n",
    "'station' : 'devon-and-cornwall'}"
   ]
  },
  {
   "cell_type": "code",
   "execution_count": 45,
   "metadata": {},
   "outputs": [
    {
     "output_type": "execute_result",
     "data": {
      "text/plain": [
       "dict_keys(['observation_id', 'Type', 'Date', 'Part of a policing operation', 'Latitude', 'Longitude', 'Gender', 'Age range', 'Officer-defined ethnicity', 'Legislation', 'Object of search', 'station'])"
      ]
     },
     "metadata": {},
     "execution_count": 45
    }
   ],
   "source": [
    "observation_request.keys()"
   ]
  },
  {
   "cell_type": "code",
   "execution_count": 46,
   "metadata": {},
   "outputs": [],
   "source": [
    "def check_valid_column(observation):\n",
    "    \"\"\"\n",
    "        Validates that our observation only has valid columns\n",
    "        \n",
    "        Returns:\n",
    "        - assertion value: True if all provided columns are valid, False otherwise\n",
    "        - error message: empty if all provided columns are valid, False otherwise\n",
    "    \"\"\"\n",
    "    \n",
    "    valid_columns = {\n",
    "                    \"observation_id\",\n",
    "                    \"Type\",\n",
    "                    \"Date\",\n",
    "                    \"Part of a policing operation\",\n",
    "                    \"Latitude\",\n",
    "                    \"Longitude\",\n",
    "                    \"Gender\",\n",
    "                    \"Age range\",\n",
    "                    \"Officer-defined ethnicity\",\n",
    "                    \"Legislation\",\n",
    "                    \"Object of search\",\n",
    "                    \"station\"\n",
    "}\n",
    "\n",
    "    # print(observation)\n",
    "    keys = set(observation.keys())\n",
    "    \n",
    "    if len(valid_columns - keys) > 0: \n",
    "        missing = valid_columns - keys\n",
    "        error = \"Missing columns: {}\".format(missing)\n",
    "        return False, error\n",
    "    \n",
    "    if len(keys - valid_columns) > 0: \n",
    "        extra = keys - valid_columns\n",
    "        error = \"Unrecognized columns provided: {}\".format(extra)\n",
    "        return False, error    \n",
    "\n",
    "    return True, \"\""
   ]
  },
  {
   "cell_type": "code",
   "execution_count": 47,
   "metadata": {},
   "outputs": [
    {
     "output_type": "execute_result",
     "data": {
      "text/plain": [
       "{'observation_id': '3',\n",
       " 'Type': 'Person search',\n",
       " 'Date': '2019-12-01T00:25:00+00:00',\n",
       " 'Part of a policing operation': True,\n",
       " 'Latitude': nan,\n",
       " 'Longitude': nan,\n",
       " 'Gender': 'Male',\n",
       " 'Age range': '18-24',\n",
       " 'Officer-defined ethnicity': 'Black',\n",
       " 'Legislation': 'Misuse of Drugs Act 1971 (section 23)',\n",
       " 'Object of search': 'Controlled drugs',\n",
       " 'station': 'devon-and-cornwall'}"
      ]
     },
     "metadata": {},
     "execution_count": 47
    }
   ],
   "source": [
    "observation_request"
   ]
  },
  {
   "cell_type": "code",
   "execution_count": 49,
   "metadata": {},
   "outputs": [],
   "source": [
    "# obs_dict = observation_request\n",
    "# bn=obs_dict.copy()\n",
    "\n",
    "# columns_ok, error = check_valid_column(observation)\n",
    "# if not columns_ok:\n",
    "#     response = {'error': error}\n",
    "\n",
    "# _id = obs_dict['observation_id']\n",
    "# observation.pop('observation_id')\n",
    "\n"
   ]
  },
  {
   "cell_type": "code",
   "execution_count": 34,
   "metadata": {},
   "outputs": [
    {
     "output_type": "execute_result",
     "data": {
      "text/plain": [
       "{'Type': 'Person search',\n",
       " 'Date': '2019-12-01T00:25:00+00:00',\n",
       " 'Part of a policing operation': True,\n",
       " 'Latitude': nan,\n",
       " 'Longitude': nan,\n",
       " 'Gender': 'Male',\n",
       " 'Age range': '18-24',\n",
       " 'Officer-defined ethnicity': 'Black',\n",
       " 'Legislation': 'Misuse of Drugs Act 1971 (section 23)',\n",
       " 'Object of search': 'Controlled drugs',\n",
       " 'station': 'devon-and-cornwall'}"
      ]
     },
     "metadata": {},
     "execution_count": 34
    }
   ],
   "source": [
    "observation"
   ]
  },
  {
   "cell_type": "code",
   "execution_count": 35,
   "metadata": {},
   "outputs": [
    {
     "output_type": "execute_result",
     "data": {
      "text/plain": [
       "(True, '')"
      ]
     },
     "metadata": {},
     "execution_count": 35
    }
   ],
   "source": [
    "check_valid_column(observation_request)"
   ]
  },
  {
   "cell_type": "code",
   "execution_count": 3,
   "metadata": {},
   "outputs": [
    {
     "output_type": "error",
     "ename": "NameError",
     "evalue": "name 'requests' is not defined",
     "traceback": [
      "\u001b[1;31m---------------------------------------------------------------------------\u001b[0m",
      "\u001b[1;31mNameError\u001b[0m                                 Traceback (most recent call last)",
      "\u001b[1;32m<ipython-input-3-4273850113c7>\u001b[0m in \u001b[0;36m<module>\u001b[1;34m\u001b[0m\n\u001b[0;32m      1\u001b[0m \u001b[0murl\u001b[0m \u001b[1;33m=\u001b[0m \u001b[1;34m'http://127.0.0.1:5000/should_search'\u001b[0m\u001b[1;33m\u001b[0m\u001b[1;33m\u001b[0m\u001b[0m\n\u001b[1;32m----> 2\u001b[1;33m \u001b[0mr\u001b[0m \u001b[1;33m=\u001b[0m \u001b[0mrequests\u001b[0m\u001b[1;33m.\u001b[0m\u001b[0mpost\u001b[0m\u001b[1;33m(\u001b[0m\u001b[0murl\u001b[0m\u001b[1;33m)\u001b[0m\u001b[1;33m\u001b[0m\u001b[1;33m\u001b[0m\u001b[0m\n\u001b[0m\u001b[0;32m      3\u001b[0m \u001b[0mr\u001b[0m\u001b[1;33m.\u001b[0m\u001b[0mok\u001b[0m\u001b[1;33m\u001b[0m\u001b[1;33m\u001b[0m\u001b[0m\n\u001b[0;32m      4\u001b[0m \u001b[1;33m\u001b[0m\u001b[0m\n\u001b[0;32m      5\u001b[0m \u001b[0mresponse\u001b[0m \u001b[1;33m=\u001b[0m \u001b[0mr\u001b[0m\u001b[1;33m.\u001b[0m\u001b[0mjson\u001b[0m\u001b[1;33m(\u001b[0m\u001b[1;33m)\u001b[0m\u001b[1;33m\u001b[0m\u001b[1;33m\u001b[0m\u001b[0m\n",
      "\u001b[1;31mNameError\u001b[0m: name 'requests' is not defined"
     ]
    }
   ],
   "source": [
    "url = 'http://127.0.0.1:5000/should_search'\n",
    "r = requests.post(url)\n",
    "r.ok\n",
    "\n",
    "response = r.json()\n",
    "response"
   ]
  },
  {
   "cell_type": "code",
   "execution_count": 64,
   "metadata": {},
   "outputs": [
    {
     "output_type": "error",
     "ename": "JSONDecodeError",
     "evalue": "Expecting value: line 1 column 1 (char 0)",
     "traceback": [
      "\u001b[1;31m---------------------------------------------------------------------------\u001b[0m",
      "\u001b[1;31mJSONDecodeError\u001b[0m                           Traceback (most recent call last)",
      "\u001b[1;32m<ipython-input-64-bf7198752e88>\u001b[0m in \u001b[0;36m<module>\u001b[1;34m\u001b[0m\n\u001b[0;32m      4\u001b[0m \u001b[0mr\u001b[0m\u001b[1;33m.\u001b[0m\u001b[0mok\u001b[0m\u001b[1;33m\u001b[0m\u001b[1;33m\u001b[0m\u001b[0m\n\u001b[0;32m      5\u001b[0m \u001b[1;33m\u001b[0m\u001b[0m\n\u001b[1;32m----> 6\u001b[1;33m \u001b[0mresponse\u001b[0m \u001b[1;33m=\u001b[0m \u001b[0mr\u001b[0m\u001b[1;33m.\u001b[0m\u001b[0mjson\u001b[0m\u001b[1;33m(\u001b[0m\u001b[1;33m)\u001b[0m\u001b[1;33m\u001b[0m\u001b[1;33m\u001b[0m\u001b[0m\n\u001b[0m\u001b[0;32m      7\u001b[0m \u001b[0mresponse\u001b[0m\u001b[1;33m\u001b[0m\u001b[1;33m\u001b[0m\u001b[0m\n",
      "\u001b[1;32mc:\\Users\\Inês Pires\\environments\\blu_dev\\lib\\site-packages\\requests\\models.py\u001b[0m in \u001b[0;36mjson\u001b[1;34m(self, **kwargs)\u001b[0m\n\u001b[0;32m    896\u001b[0m                     \u001b[1;31m# used.\u001b[0m\u001b[1;33m\u001b[0m\u001b[1;33m\u001b[0m\u001b[1;33m\u001b[0m\u001b[0m\n\u001b[0;32m    897\u001b[0m                     \u001b[1;32mpass\u001b[0m\u001b[1;33m\u001b[0m\u001b[1;33m\u001b[0m\u001b[0m\n\u001b[1;32m--> 898\u001b[1;33m         \u001b[1;32mreturn\u001b[0m \u001b[0mcomplexjson\u001b[0m\u001b[1;33m.\u001b[0m\u001b[0mloads\u001b[0m\u001b[1;33m(\u001b[0m\u001b[0mself\u001b[0m\u001b[1;33m.\u001b[0m\u001b[0mtext\u001b[0m\u001b[1;33m,\u001b[0m \u001b[1;33m**\u001b[0m\u001b[0mkwargs\u001b[0m\u001b[1;33m)\u001b[0m\u001b[1;33m\u001b[0m\u001b[1;33m\u001b[0m\u001b[0m\n\u001b[0m\u001b[0;32m    899\u001b[0m \u001b[1;33m\u001b[0m\u001b[0m\n\u001b[0;32m    900\u001b[0m     \u001b[1;33m@\u001b[0m\u001b[0mproperty\u001b[0m\u001b[1;33m\u001b[0m\u001b[1;33m\u001b[0m\u001b[0m\n",
      "\u001b[1;32mC:\\Program Files\\WindowsApps\\PythonSoftwareFoundation.Python.3.8_3.8.2032.0_x64__qbz5n2kfra8p0\\lib\\json\\__init__.py\u001b[0m in \u001b[0;36mloads\u001b[1;34m(s, cls, object_hook, parse_float, parse_int, parse_constant, object_pairs_hook, **kw)\u001b[0m\n\u001b[0;32m    355\u001b[0m             \u001b[0mparse_int\u001b[0m \u001b[1;32mis\u001b[0m \u001b[1;32mNone\u001b[0m \u001b[1;32mand\u001b[0m \u001b[0mparse_float\u001b[0m \u001b[1;32mis\u001b[0m \u001b[1;32mNone\u001b[0m \u001b[1;32mand\u001b[0m\u001b[1;33m\u001b[0m\u001b[1;33m\u001b[0m\u001b[0m\n\u001b[0;32m    356\u001b[0m             parse_constant is None and object_pairs_hook is None and not kw):\n\u001b[1;32m--> 357\u001b[1;33m         \u001b[1;32mreturn\u001b[0m \u001b[0m_default_decoder\u001b[0m\u001b[1;33m.\u001b[0m\u001b[0mdecode\u001b[0m\u001b[1;33m(\u001b[0m\u001b[0ms\u001b[0m\u001b[1;33m)\u001b[0m\u001b[1;33m\u001b[0m\u001b[1;33m\u001b[0m\u001b[0m\n\u001b[0m\u001b[0;32m    358\u001b[0m     \u001b[1;32mif\u001b[0m \u001b[0mcls\u001b[0m \u001b[1;32mis\u001b[0m \u001b[1;32mNone\u001b[0m\u001b[1;33m:\u001b[0m\u001b[1;33m\u001b[0m\u001b[1;33m\u001b[0m\u001b[0m\n\u001b[0;32m    359\u001b[0m         \u001b[0mcls\u001b[0m \u001b[1;33m=\u001b[0m \u001b[0mJSONDecoder\u001b[0m\u001b[1;33m\u001b[0m\u001b[1;33m\u001b[0m\u001b[0m\n",
      "\u001b[1;32mC:\\Program Files\\WindowsApps\\PythonSoftwareFoundation.Python.3.8_3.8.2032.0_x64__qbz5n2kfra8p0\\lib\\json\\decoder.py\u001b[0m in \u001b[0;36mdecode\u001b[1;34m(self, s, _w)\u001b[0m\n\u001b[0;32m    335\u001b[0m \u001b[1;33m\u001b[0m\u001b[0m\n\u001b[0;32m    336\u001b[0m         \"\"\"\n\u001b[1;32m--> 337\u001b[1;33m         \u001b[0mobj\u001b[0m\u001b[1;33m,\u001b[0m \u001b[0mend\u001b[0m \u001b[1;33m=\u001b[0m \u001b[0mself\u001b[0m\u001b[1;33m.\u001b[0m\u001b[0mraw_decode\u001b[0m\u001b[1;33m(\u001b[0m\u001b[0ms\u001b[0m\u001b[1;33m,\u001b[0m \u001b[0midx\u001b[0m\u001b[1;33m=\u001b[0m\u001b[0m_w\u001b[0m\u001b[1;33m(\u001b[0m\u001b[0ms\u001b[0m\u001b[1;33m,\u001b[0m \u001b[1;36m0\u001b[0m\u001b[1;33m)\u001b[0m\u001b[1;33m.\u001b[0m\u001b[0mend\u001b[0m\u001b[1;33m(\u001b[0m\u001b[1;33m)\u001b[0m\u001b[1;33m)\u001b[0m\u001b[1;33m\u001b[0m\u001b[1;33m\u001b[0m\u001b[0m\n\u001b[0m\u001b[0;32m    338\u001b[0m         \u001b[0mend\u001b[0m \u001b[1;33m=\u001b[0m \u001b[0m_w\u001b[0m\u001b[1;33m(\u001b[0m\u001b[0ms\u001b[0m\u001b[1;33m,\u001b[0m \u001b[0mend\u001b[0m\u001b[1;33m)\u001b[0m\u001b[1;33m.\u001b[0m\u001b[0mend\u001b[0m\u001b[1;33m(\u001b[0m\u001b[1;33m)\u001b[0m\u001b[1;33m\u001b[0m\u001b[1;33m\u001b[0m\u001b[0m\n\u001b[0;32m    339\u001b[0m         \u001b[1;32mif\u001b[0m \u001b[0mend\u001b[0m \u001b[1;33m!=\u001b[0m \u001b[0mlen\u001b[0m\u001b[1;33m(\u001b[0m\u001b[0ms\u001b[0m\u001b[1;33m)\u001b[0m\u001b[1;33m:\u001b[0m\u001b[1;33m\u001b[0m\u001b[1;33m\u001b[0m\u001b[0m\n",
      "\u001b[1;32mC:\\Program Files\\WindowsApps\\PythonSoftwareFoundation.Python.3.8_3.8.2032.0_x64__qbz5n2kfra8p0\\lib\\json\\decoder.py\u001b[0m in \u001b[0;36mraw_decode\u001b[1;34m(self, s, idx)\u001b[0m\n\u001b[0;32m    353\u001b[0m             \u001b[0mobj\u001b[0m\u001b[1;33m,\u001b[0m \u001b[0mend\u001b[0m \u001b[1;33m=\u001b[0m \u001b[0mself\u001b[0m\u001b[1;33m.\u001b[0m\u001b[0mscan_once\u001b[0m\u001b[1;33m(\u001b[0m\u001b[0ms\u001b[0m\u001b[1;33m,\u001b[0m \u001b[0midx\u001b[0m\u001b[1;33m)\u001b[0m\u001b[1;33m\u001b[0m\u001b[1;33m\u001b[0m\u001b[0m\n\u001b[0;32m    354\u001b[0m         \u001b[1;32mexcept\u001b[0m \u001b[0mStopIteration\u001b[0m \u001b[1;32mas\u001b[0m \u001b[0merr\u001b[0m\u001b[1;33m:\u001b[0m\u001b[1;33m\u001b[0m\u001b[1;33m\u001b[0m\u001b[0m\n\u001b[1;32m--> 355\u001b[1;33m             \u001b[1;32mraise\u001b[0m \u001b[0mJSONDecodeError\u001b[0m\u001b[1;33m(\u001b[0m\u001b[1;34m\"Expecting value\"\u001b[0m\u001b[1;33m,\u001b[0m \u001b[0ms\u001b[0m\u001b[1;33m,\u001b[0m \u001b[0merr\u001b[0m\u001b[1;33m.\u001b[0m\u001b[0mvalue\u001b[0m\u001b[1;33m)\u001b[0m \u001b[1;32mfrom\u001b[0m \u001b[1;32mNone\u001b[0m\u001b[1;33m\u001b[0m\u001b[1;33m\u001b[0m\u001b[0m\n\u001b[0m\u001b[0;32m    356\u001b[0m         \u001b[1;32mreturn\u001b[0m \u001b[0mobj\u001b[0m\u001b[1;33m,\u001b[0m \u001b[0mend\u001b[0m\u001b[1;33m\u001b[0m\u001b[1;33m\u001b[0m\u001b[0m\n",
      "\u001b[1;31mJSONDecodeError\u001b[0m: Expecting value: line 1 column 1 (char 0)"
     ]
    }
   ],
   "source": [
    "url = 'http://127.0.0.1:5000/list-db-contents'\n",
    "\n",
    "r = requests.post(url, json=observation_request)\n",
    "r.ok\n",
    "\n",
    "response = r.json()\n",
    "response"
   ]
  }
 ]
}